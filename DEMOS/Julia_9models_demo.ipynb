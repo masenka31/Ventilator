{
  "nbformat": 4,
  "nbformat_minor": 0,
  "metadata": {
    "colab": {
      "name": "Working demo.ipynb",
      "provenance": [],
      "collapsed_sections": [],
      "toc_visible": true
    },
    "kernelspec": {
      "display_name": "Julia",
      "language": "julia",
      "name": "julia"
    },
    "language_info": {
      "file_extension": ".jl",
      "mimetype": "application/julia",
      "name": "julia"
    }
  },
  "cells": [
    {
      "cell_type": "markdown",
      "source": [
        "# Demo for project Ventilator Pressure Prediction\n",
        "\n",
        "This demo is in Julia, to install and prepare everything, first follow the instructions. Then, we can move to the demo itself. The installation of everything will take a few minutes, sorry in advance.\n",
        "\n",
        "## Get scripts and data\n",
        "\n",
        "First, clone the repository below to get all scripts.\n",
        "\n",
        "\n"
      ],
      "metadata": {
        "id": "gnn0fysQ_Vfl"
      }
    },
    {
      "cell_type": "code",
      "source": [
        "!git clone https://github.com/masenka31/Ventilator.git"
      ],
      "metadata": {
        "id": "vpNghsZ5Bw1A",
        "colab": {
          "base_uri": "https://localhost:8080/"
        },
        "outputId": "f5d171f0-05ff-479c-b2b4-e38ac7ccea43"
      },
      "execution_count": null,
      "outputs": [
        {
          "output_type": "stream",
          "name": "stdout",
          "text": [
            "Cloning into 'Ventilator'...\n",
            "remote: Enumerating objects: 189, done.\u001b[K\n",
            "remote: Counting objects: 100% (189/189), done.\u001b[K\n",
            "remote: Compressing objects: 100% (120/120), done.\u001b[K\n",
            "remote: Total 189 (delta 89), reused 155 (delta 63), pack-reused 0\u001b[K\n",
            "Receiving objects: 100% (189/189), 1.59 MiB | 7.37 MiB/s, done.\n",
            "Resolving deltas: 100% (89/89), done.\n"
          ]
        }
      ]
    },
    {
      "cell_type": "markdown",
      "metadata": {
        "id": "tQ1r1bbb0yBv"
      },
      "source": [
        "<img src=\"https://github.com/JuliaLang/julia-logo-graphics/raw/master/images/julia-logo-color.png\" height=\"100\" /> _Colab Notebook Template_\n",
        "\n",
        "## Instructions for Julia installation\n",
        "1. Work on a copy of this notebook: _File_ > _Save a copy in Drive_ (you will need a Google account). Alternatively, you can download the notebook using _File_ > _Download .ipynb_, then upload it to [Colab](https://colab.research.google.com/).\n",
        "2. If you need a GPU: _Runtime_ > _Change runtime type_ > _Harware accelerator_ = _GPU_.\n",
        "3. Execute the following cell (click on it and press Ctrl+Enter) to install Julia, IJulia and other packages (if needed, update `JULIA_VERSION` and the other parameters). This takes a couple of minutes.\n",
        "4. **Reload this page (press Ctrl+R, or ⌘+R, or the F5 key) and continue to the next section.**\n",
        "\n",
        "_Notes_:\n",
        "* If your Colab Runtime gets reset (e.g., due to inactivity), repeat steps 2, 3 and 4.\n",
        "* After installation, if you want to change the Julia version or activate/deactivate the GPU, you will need to reset the Runtime: _Runtime_ > _Factory reset runtime_ and repeat steps 3 and 4."
      ]
    },
    {
      "cell_type": "code",
      "metadata": {
        "id": "GIeFXS0F0zww",
        "colab": {
          "base_uri": "https://localhost:8080/"
        },
        "outputId": "e669384e-2e1f-4a93-a355-6e54e3a81234"
      },
      "source": [
        "%%shell\n",
        "set -e\n",
        "\n",
        "#---------------------------------------------------#\n",
        "JULIA_VERSION=\"1.6.0\" # any version ≥ 0.7.0\n",
        "JULIA_PACKAGES=\"IJulia DrWatson\"\n",
        "JULIA_PACKAGES_IF_GPU=\"CUDA\" # or CuArrays for older Julia versions\n",
        "JULIA_NUM_THREADS=9\n",
        "#---------------------------------------------------#\n",
        "\n",
        "if [ -n \"$COLAB_GPU\" ] && [ -z `which julia` ]; then\n",
        "  # Install Julia\n",
        "  JULIA_VER=`cut -d '.' -f -2 <<< \"$JULIA_VERSION\"`\n",
        "  echo \"Installing Julia $JULIA_VERSION on the current Colab Runtime...\"\n",
        "  BASE_URL=\"https://julialang-s3.julialang.org/bin/linux/x64\"\n",
        "  URL=\"$BASE_URL/$JULIA_VER/julia-$JULIA_VERSION-linux-x86_64.tar.gz\"\n",
        "  wget -nv $URL -O /tmp/julia.tar.gz # -nv means \"not verbose\"\n",
        "  tar -x -f /tmp/julia.tar.gz -C /usr/local --strip-components 1\n",
        "  rm /tmp/julia.tar.gz\n",
        "\n",
        "  # Install Packages\n",
        "  if [ \"$COLAB_GPU\" = \"1\" ]; then\n",
        "      JULIA_PACKAGES=\"$JULIA_PACKAGES $JULIA_PACKAGES_IF_GPU\"\n",
        "  fi\n",
        "  for PKG in `echo $JULIA_PACKAGES`; do\n",
        "    echo \"Installing Julia package $PKG...\"\n",
        "    julia -e 'using Pkg; pkg\"add '$PKG'; precompile;\"' &> /dev/null\n",
        "  done\n",
        "\n",
        "  # Install kernel and rename it to \"julia\"\n",
        "  echo \"Installing IJulia kernel...\"\n",
        "  julia -e 'using IJulia; IJulia.installkernel(\"julia\", env=Dict(\n",
        "      \"JULIA_NUM_THREADS\"=>\"'\"$JULIA_NUM_THREADS\"'\"))'\n",
        "  KERNEL_DIR=`julia -e \"using IJulia; print(IJulia.kerneldir())\"`\n",
        "  KERNEL_NAME=`ls -d \"$KERNEL_DIR\"/julia*`\n",
        "  mv -f $KERNEL_NAME \"$KERNEL_DIR\"/julia  \n",
        "\n",
        "  echo ''\n",
        "  echo \"Success! Please reload this page and jump to the next section.\"\n",
        "fi"
      ],
      "execution_count": null,
      "outputs": [
        {
          "output_type": "stream",
          "name": "stdout",
          "text": [
            "Installing Julia 1.6.0 on the current Colab Runtime...\n",
            "2022-01-02 19:17:09 URL:https://storage.googleapis.com/julialang2/bin/linux/x64/1.6/julia-1.6.0-linux-x86_64.tar.gz [112838927/112838927] -> \"/tmp/julia.tar.gz\" [1]\n",
            "Installing Julia package IJulia...\n",
            "Installing Julia package DrWatson...\n",
            "Installing IJulia kernel...\n",
            "\u001b[36m\u001b[1m[ \u001b[22m\u001b[39m\u001b[36m\u001b[1mInfo: \u001b[22m\u001b[39mInstalling julia kernelspec in /root/.local/share/jupyter/kernels/julia-1.6\n",
            "\n",
            "Success! Please reload this page and jump to the next section.\n"
          ]
        },
        {
          "output_type": "execute_result",
          "data": {
            "text/plain": [
              ""
            ]
          },
          "metadata": {},
          "execution_count": 3
        }
      ]
    },
    {
      "cell_type": "markdown",
      "metadata": {
        "id": "-OS3Ac017T1i"
      },
      "source": [
        "**Have you reloaded the page? If so, great, please continue here.**\n",
        "\n",
        "## Installing packages\n",
        "\n",
        "The `versioninfo()` function should print your Julia version and some other info about the system. Also, we need to load the Pkg package to use DrWatson and instantiate the repository."
      ]
    },
    {
      "cell_type": "code",
      "metadata": {
        "id": "EEzvvzCl1i0F",
        "colab": {
          "base_uri": "https://localhost:8080/"
        },
        "outputId": "0252bdb7-6e0b-471b-8397-1eda160f5af6"
      },
      "source": [
        "versioninfo()\n",
        "using Pkg\n",
        "Pkg.status()"
      ],
      "execution_count": 1,
      "outputs": [
        {
          "output_type": "stream",
          "name": "stdout",
          "text": [
            "Julia Version 1.6.0\n",
            "Commit f9720dc2eb (2021-03-24 12:55 UTC)\n",
            "Platform Info:\n",
            "  OS: Linux (x86_64-pc-linux-gnu)\n",
            "  CPU: Intel(R) Xeon(R) CPU @ 2.20GHz\n",
            "  WORD_SIZE: 64\n",
            "  LIBM: libopenlibm\n",
            "  LLVM: libLLVM-11.0.1 (ORCJIT, broadwell)\n",
            "Environment:\n",
            "  JULIA_NUM_THREADS = 2\n",
            "\u001b[32m\u001b[1m      Status\u001b[22m\u001b[39m `~/.julia/environments/v1.6/Project.toml`\n",
            " \u001b[90m [634d3b9d] \u001b[39m\u001b[37mDrWatson v2.7.5\u001b[39m\n",
            " \u001b[90m [7073ff75] \u001b[39m\u001b[37mIJulia v1.23.2\u001b[39m\n"
          ]
        }
      ]
    },
    {
      "cell_type": "markdown",
      "source": [
        "Now, we need to load DrWatson package and instantiate the repository."
      ],
      "metadata": {
        "id": "tAp1fnhqAQgX"
      }
    },
    {
      "cell_type": "code",
      "source": [
        "cd(\"Ventilator/Ventilator.jl\")"
      ],
      "metadata": {
        "id": "QreF9HfCFyB4"
      },
      "execution_count": 3,
      "outputs": []
    },
    {
      "cell_type": "code",
      "source": [
        "using DrWatson\n",
        "@quickactivate"
      ],
      "metadata": {
        "id": "jSHJeaV8Ab6a",
        "colab": {
          "base_uri": "https://localhost:8080/"
        },
        "outputId": "0b357690-bd06-442d-fe2e-fbb3b44b3b9a"
      },
      "execution_count": 4,
      "outputs": [
        {
          "output_type": "stream",
          "name": "stderr",
          "text": [
            "\u001b[32m\u001b[1m  Activating\u001b[22m\u001b[39m environment at `/content/Ventilator/Ventilator.jl/Project.toml`\n"
          ]
        }
      ]
    },
    {
      "cell_type": "markdown",
      "source": [
        "This will install all necesarry packages and precompile them. It will probably take some time, please, be patient. All other things should be fairly quick :)"
      ],
      "metadata": {
        "id": "pROwqlGGPNQq"
      }
    },
    {
      "cell_type": "code",
      "source": [
        "Pkg.instantiate()"
      ],
      "metadata": {
        "colab": {
          "base_uri": "https://localhost:8080/"
        },
        "id": "u1UnmVIYF3YZ",
        "outputId": "b8577c32-8006-4151-95e6-fa017308941b"
      },
      "execution_count": 4,
      "outputs": [
        {
          "output_type": "stream",
          "name": "stderr",
          "text": [
            "\u001b[32m\u001b[1m   Installed\u001b[22m\u001b[39m LLVMExtra_jll ──────────────── v0.0.11+0\n",
            "\u001b[32m\u001b[1m   Installed\u001b[22m\u001b[39m Crayons ────────────────────── v4.0.4\n",
            "\u001b[32m\u001b[1m   Installed\u001b[22m\u001b[39m ZygoteRules ────────────────── v0.2.2\n",
            "\u001b[32m\u001b[1m   Installed\u001b[22m\u001b[39m SortingAlgorithms ──────────── v1.0.1\n",
            "\u001b[32m\u001b[1m   Installed\u001b[22m\u001b[39m Missings ───────────────────── v1.0.2\n",
            "\u001b[32m\u001b[1m   Installed\u001b[22m\u001b[39m LoweredCodeUtils ───────────── v2.1.2\n",
            "\u001b[32m\u001b[1m   Installed\u001b[22m\u001b[39m DiffRules ──────────────────── v1.3.1\n",
            "\u001b[32m\u001b[1m   Installed\u001b[22m\u001b[39m HTTP ───────────────────────── v0.9.16\n",
            "\u001b[32m\u001b[1m   Installed\u001b[22m\u001b[39m Xorg_libXrandr_jll ─────────── v1.5.2+4\n",
            "\u001b[32m\u001b[1m   Installed\u001b[22m\u001b[39m Zstd_jll ───────────────────── v1.5.0+0\n",
            "\u001b[32m\u001b[1m   Installed\u001b[22m\u001b[39m CSVFiles ───────────────────── v1.0.1\n",
            "\u001b[32m\u001b[1m   Installed\u001b[22m\u001b[39m DataValues ─────────────────── v0.4.13\n",
            "\u001b[32m\u001b[1m   Installed\u001b[22m\u001b[39m Zygote ─────────────────────── v0.6.12\n",
            "\u001b[32m\u001b[1m   Installed\u001b[22m\u001b[39m LZO_jll ────────────────────── v2.10.1+0\n",
            "\u001b[32m\u001b[1m   Installed\u001b[22m\u001b[39m Polynomials ────────────────── v2.0.17\n",
            "\u001b[32m\u001b[1m   Installed\u001b[22m\u001b[39m Nullables ──────────────────── v1.0.0\n",
            "\u001b[32m\u001b[1m   Installed\u001b[22m\u001b[39m FFMPEG ─────────────────────── v0.4.1\n",
            "\u001b[32m\u001b[1m   Installed\u001b[22m\u001b[39m Xorg_libXau_jll ────────────── v1.0.9+4\n",
            "\u001b[32m\u001b[1m   Installed\u001b[22m\u001b[39m JpegTurbo_jll ──────────────── v2.1.0+0\n",
            "\u001b[32m\u001b[1m   Installed\u001b[22m\u001b[39m Measures ───────────────────── v0.3.1\n",
            "\u001b[32m\u001b[1m   Installed\u001b[22m\u001b[39m XML2_jll ───────────────────── v2.9.12+0\n",
            "\u001b[32m\u001b[1m   Installed\u001b[22m\u001b[39m StaticArrays ───────────────── v1.2.13\n",
            "\u001b[32m\u001b[1m   Installed\u001b[22m\u001b[39m Revise ─────────────────────── v3.1.20\n",
            "\u001b[32m\u001b[1m   Installed\u001b[22m\u001b[39m GLFW_jll ───────────────────── v3.3.5+1\n",
            "\u001b[32m\u001b[1m   Installed\u001b[22m\u001b[39m LogExpFunctions ────────────── v0.3.0\n",
            "\u001b[32m\u001b[1m   Installed\u001b[22m\u001b[39m IteratorInterfaceExtensions ── v1.0.0\n",
            "\u001b[32m\u001b[1m   Installed\u001b[22m\u001b[39m Xorg_libXfixes_jll ─────────── v5.0.3+4\n",
            "\u001b[32m\u001b[1m   Installed\u001b[22m\u001b[39m Media ──────────────────────── v0.5.0\n",
            "\u001b[32m\u001b[1m   Installed\u001b[22m\u001b[39m CodeTracking ───────────────── v1.0.6\n",
            "\u001b[32m\u001b[1m   Installed\u001b[22m\u001b[39m ColorTypes ─────────────────── v0.11.0\n",
            "\u001b[32m\u001b[1m   Installed\u001b[22m\u001b[39m Wayland_jll ────────────────── v1.19.0+0\n",
            "\u001b[32m\u001b[1m   Installed\u001b[22m\u001b[39m URIs ───────────────────────── v1.3.0\n",
            "\u001b[32m\u001b[1m   Installed\u001b[22m\u001b[39m Xorg_xcb_util_image_jll ────── v0.4.0+1\n",
            "\u001b[32m\u001b[1m   Installed\u001b[22m\u001b[39m Libgcrypt_jll ──────────────── v1.8.7+0\n",
            "\u001b[32m\u001b[1m   Installed\u001b[22m\u001b[39m Graphite2_jll ──────────────── v1.3.14+0\n",
            "\u001b[32m\u001b[1m   Installed\u001b[22m\u001b[39m Mocking ────────────────────── v0.7.3\n",
            "\u001b[32m\u001b[1m   Installed\u001b[22m\u001b[39m JuliaInterpreter ───────────── v0.8.21\n",
            "\u001b[32m\u001b[1m   Installed\u001b[22m\u001b[39m InlineStrings ──────────────── v1.0.1\n",
            "\u001b[32m\u001b[1m   Installed\u001b[22m\u001b[39m ExprTools ──────────────────── v0.1.6\n",
            "\u001b[32m\u001b[1m   Installed\u001b[22m\u001b[39m CEnum ──────────────────────── v0.4.1\n",
            "\u001b[32m\u001b[1m   Installed\u001b[22m\u001b[39m Plots ──────────────────────── v1.22.6\n",
            "\u001b[32m\u001b[1m   Installed\u001b[22m\u001b[39m Xorg_libXi_jll ─────────────── v1.7.10+4\n",
            "\u001b[32m\u001b[1m   Installed\u001b[22m\u001b[39m RecipesPipeline ────────────── v0.4.1\n",
            "\u001b[32m\u001b[1m   Installed\u001b[22m\u001b[39m Xorg_libXdmcp_jll ──────────── v1.1.3+4\n",
            "\u001b[32m\u001b[1m   Installed\u001b[22m\u001b[39m Bzip2_jll ──────────────────── v1.0.8+0\n",
            "\u001b[32m\u001b[1m   Installed\u001b[22m\u001b[39m Tables ─────────────────────── v1.6.0\n",
            "\u001b[32m\u001b[1m   Installed\u001b[22m\u001b[39m StatsFuns ──────────────────── v0.9.9\n",
            "\u001b[32m\u001b[1m   Installed\u001b[22m\u001b[39m IniFile ────────────────────── v0.5.0\n",
            "\u001b[32m\u001b[1m   Installed\u001b[22m\u001b[39m SentinelArrays ─────────────── v1.3.8\n",
            "\u001b[32m\u001b[1m   Installed\u001b[22m\u001b[39m ArrayInterface ─────────────── v3.1.34\n",
            "\u001b[32m\u001b[1m   Installed\u001b[22m\u001b[39m IfElse ─────────────────────── v0.1.0\n",
            "\u001b[32m\u001b[1m   Installed\u001b[22m\u001b[39m Contour ────────────────────── v0.5.7\n",
            "\u001b[32m\u001b[1m   Installed\u001b[22m\u001b[39m CSV ────────────────────────── v0.9.8\n",
            "\u001b[32m\u001b[1m   Installed\u001b[22m\u001b[39m ChainRules ─────────────────── v0.7.70\n",
            "\u001b[32m\u001b[1m   Installed\u001b[22m\u001b[39m OpenSpecFun_jll ────────────── v0.5.5+0\n",
            "\u001b[32m\u001b[1m   Installed\u001b[22m\u001b[39m CUDA ───────────────────────── v3.5.0\n",
            "\u001b[32m\u001b[1m   Installed\u001b[22m\u001b[39m xkbcommon_jll ──────────────── v0.9.1+5\n",
            "\u001b[32m\u001b[1m   Installed\u001b[22m\u001b[39m StructArrays ───────────────── v0.6.3\n",
            "\u001b[32m\u001b[1m   Installed\u001b[22m\u001b[39m FreeType2_jll ──────────────── v2.10.4+0\n",
            "\u001b[32m\u001b[1m   Installed\u001b[22m\u001b[39m EarCut_jll ─────────────────── v2.2.3+0\n",
            "\u001b[32m\u001b[1m   Installed\u001b[22m\u001b[39m Latexify ───────────────────── v0.15.9\n",
            "\u001b[32m\u001b[1m   Installed\u001b[22m\u001b[39m StatsBase ──────────────────── v0.33.12\n",
            "\u001b[32m\u001b[1m   Installed\u001b[22m\u001b[39m PCRE_jll ───────────────────── v8.44.0+0\n",
            "\u001b[32m\u001b[1m   Installed\u001b[22m\u001b[39m Xorg_libXext_jll ───────────── v1.3.4+4\n",
            "\u001b[32m\u001b[1m   Installed\u001b[22m\u001b[39m DataValueInterfaces ────────── v1.0.0\n",
            "\u001b[32m\u001b[1m   Installed\u001b[22m\u001b[39m Xorg_libxcb_jll ────────────── v1.13.0+3\n",
            "\u001b[32m\u001b[1m   Installed\u001b[22m\u001b[39m QuadGK ─────────────────────── v2.4.2\n",
            "\u001b[32m\u001b[1m   Installed\u001b[22m\u001b[39m Juno ───────────────────────── v0.8.4\n",
            "\u001b[32m\u001b[1m   Installed\u001b[22m\u001b[39m Flux ───────────────────────── v0.12.7\n",
            "\u001b[32m\u001b[1m   Installed\u001b[22m\u001b[39m Libffi_jll ─────────────────── v3.2.2+0\n",
            "\u001b[32m\u001b[1m   Installed\u001b[22m\u001b[39m IRTools ────────────────────── v0.4.3\n",
            "\u001b[32m\u001b[1m   Installed\u001b[22m\u001b[39m Libmount_jll ───────────────── v2.35.0+0\n",
            "\u001b[32m\u001b[1m   Installed\u001b[22m\u001b[39m IterableTables ─────────────── v1.0.0\n",
            "\u001b[32m\u001b[1m   Installed\u001b[22m\u001b[39m Rmath ──────────────────────── v0.7.0\n",
            "\u001b[32m\u001b[1m   Installed\u001b[22m\u001b[39m DoubleFloats ───────────────── v1.1.23\n",
            "\u001b[32m\u001b[1m   Installed\u001b[22m\u001b[39m Wayland_protocols_jll ──────── v1.18.0+4\n",
            "\u001b[32m\u001b[1m   Installed\u001b[22m\u001b[39m Adapt ──────────────────────── v3.3.1\n",
            "\u001b[32m\u001b[1m   Installed\u001b[22m\u001b[39m AbstractFFTs ───────────────── v1.0.1\n",
            "\u001b[32m\u001b[1m   Installed\u001b[22m\u001b[39m LLVM ───────────────────────── v4.6.0\n",
            "\u001b[32m\u001b[1m   Installed\u001b[22m\u001b[39m PooledArrays ───────────────── v1.3.0\n",
            "\u001b[32m\u001b[1m   Installed\u001b[22m\u001b[39m Distributions ──────────────── v0.24.18\n",
            "\u001b[32m\u001b[1m   Installed\u001b[22m\u001b[39m FileIO ─────────────────────── v1.11.1\n",
            "\u001b[32m\u001b[1m   Installed\u001b[22m\u001b[39m CodecZlib ──────────────────── v0.7.0\n",
            "\u001b[32m\u001b[1m   Installed\u001b[22m\u001b[39m Parsers ────────────────────── v2.1.0\n",
            "\u001b[32m\u001b[1m   Installed\u001b[22m\u001b[39m JLD2 ───────────────────────── v0.4.15\n",
            "\u001b[32m\u001b[1m   Installed\u001b[22m\u001b[39m Xorg_libXrender_jll ────────── v0.9.10+4\n",
            "\u001b[32m\u001b[1m   Installed\u001b[22m\u001b[39m Static ─────────────────────── v0.3.3\n",
            "\u001b[32m\u001b[1m   Installed\u001b[22m\u001b[39m Xorg_libXcursor_jll ────────── v1.2.0+4\n",
            "\u001b[32m\u001b[1m   Installed\u001b[22m\u001b[39m libass_jll ─────────────────── v0.15.1+0\n",
            "\u001b[32m\u001b[1m   Installed\u001b[22m\u001b[39m TimerOutputs ───────────────── v0.5.13\n",
            "\u001b[32m\u001b[1m   Installed\u001b[22m\u001b[39m FillArrays ─────────────────── v0.11.9\n",
            "\u001b[32m\u001b[1m   Installed\u001b[22m\u001b[39m TableTraits ────────────────── v1.0.1\n",
            "\u001b[32m\u001b[1m   Installed\u001b[22m\u001b[39m Rmath_jll ──────────────────── v0.3.0+0\n",
            "\u001b[32m\u001b[1m   Installed\u001b[22m\u001b[39m PlotUtils ──────────────────── v1.0.15\n",
            "\u001b[32m\u001b[1m   Installed\u001b[22m\u001b[39m FilePathsBase ──────────────── v0.9.12\n",
            "\u001b[32m\u001b[1m   Installed\u001b[22m\u001b[39m FFMPEG_jll ─────────────────── v4.4.0+0\n",
            "\u001b[32m\u001b[1m   Installed\u001b[22m\u001b[39m XSLT_jll ───────────────────── v1.1.34+0\n",
            "\u001b[32m\u001b[1m   Installed\u001b[22m\u001b[39m Pixman_jll ─────────────────── v0.40.1+0\n",
            "\u001b[32m\u001b[1m   Installed\u001b[22m\u001b[39m Gettext_jll ────────────────── v0.21.0+0\n",
            "\u001b[32m\u001b[1m   Installed\u001b[22m\u001b[39m DrWatson ───────────────────── v2.6.2\n",
            "\u001b[32m\u001b[1m   Installed\u001b[22m\u001b[39m Xorg_xcb_util_renderutil_jll ─ v0.3.9+1\n",
            "\u001b[32m\u001b[1m   Installed\u001b[22m\u001b[39m DataStructures ─────────────── v0.18.10\n",
            "\u001b[32m\u001b[1m   Installed\u001b[22m\u001b[39m ForwardDiff ────────────────── v0.10.21\n",
            "\u001b[32m\u001b[1m   Installed\u001b[22m\u001b[39m Xorg_libpthread_stubs_jll ──── v0.1.0+3\n",
            "\u001b[32m\u001b[1m   Installed\u001b[22m\u001b[39m Xorg_xkeyboard_config_jll ──── v2.27.0+4\n",
            "\u001b[32m\u001b[1m   Installed\u001b[22m\u001b[39m AbstractTrees ──────────────── v0.3.4\n",
            "\u001b[32m\u001b[1m   Installed\u001b[22m\u001b[39m FixedPointNumbers ──────────── v0.8.4\n",
            "\u001b[32m\u001b[1m   Installed\u001b[22m\u001b[39m SpecialFunctions ───────────── v1.8.0\n",
            "\u001b[32m\u001b[1m   Installed\u001b[22m\u001b[39m Libgpg_error_jll ───────────── v1.42.0+0\n",
            "\u001b[32m\u001b[1m   Installed\u001b[22m\u001b[39m GeometryBasics ─────────────── v0.4.1\n",
            "\u001b[32m\u001b[1m   Installed\u001b[22m\u001b[39m TimeZones ──────────────────── v1.6.1\n",
            "\u001b[32m\u001b[1m   Installed\u001b[22m\u001b[39m Xorg_xcb_util_wm_jll ───────── v0.4.1+1\n",
            "\u001b[32m\u001b[1m   Installed\u001b[22m\u001b[39m Xorg_libxkbfile_jll ────────── v1.1.0+4\n",
            "\u001b[32m\u001b[1m   Installed\u001b[22m\u001b[39m Libtiff_jll ────────────────── v4.3.0+0\n",
            "\u001b[32m\u001b[1m   Installed\u001b[22m\u001b[39m BSON ───────────────────────── v0.3.4\n",
            "\u001b[32m\u001b[1m   Installed\u001b[22m\u001b[39m Fontconfig_jll ─────────────── v2.13.93+0\n",
            "\u001b[32m\u001b[1m   Installed\u001b[22m\u001b[39m Compat ─────────────────────── v3.39.0\n",
            "\u001b[32m\u001b[1m   Installed\u001b[22m\u001b[39m DataAPI ────────────────────── v1.9.0\n",
            "\u001b[32m\u001b[1m   Installed\u001b[22m\u001b[39m DataFrames ─────────────────── v1.2.2\n",
            "\u001b[32m\u001b[1m   Installed\u001b[22m\u001b[39m x265_jll ───────────────────── v3.5.0+0\n",
            "\u001b[32m\u001b[1m   Installed\u001b[22m\u001b[39m GPUArrays ──────────────────── v8.1.2\n",
            "\u001b[32m\u001b[1m   Installed\u001b[22m\u001b[39m Qt5Base_jll ────────────────── v5.15.3+0\n",
            "\u001b[32m\u001b[1m   Installed\u001b[22m\u001b[39m Intervals ──────────────────── v1.5.0\n",
            "\u001b[32m\u001b[1m   Installed\u001b[22m\u001b[39m ZipFile ────────────────────── v0.9.4\n",
            "\u001b[32m\u001b[1m   Installed\u001b[22m\u001b[39m Grisu ──────────────────────── v1.0.2\n",
            "\u001b[32m\u001b[1m   Installed\u001b[22m\u001b[39m libvorbis_jll ──────────────── v1.3.7+0\n",
            "\u001b[32m\u001b[1m   Installed\u001b[22m\u001b[39m Libiconv_jll ───────────────── v1.16.1+1\n",
            "\u001b[32m\u001b[1m   Installed\u001b[22m\u001b[39m IterTools ──────────────────── v1.3.0\n",
            "\u001b[32m\u001b[1m   Installed\u001b[22m\u001b[39m IrrationalConstants ────────── v0.1.1\n",
            "\u001b[32m\u001b[1m   Installed\u001b[22m\u001b[39m Glib_jll ───────────────────── v2.68.3+0\n",
            "\u001b[32m\u001b[1m   Installed\u001b[22m\u001b[39m Xorg_xtrans_jll ────────────── v1.4.0+3\n",
            "\u001b[32m\u001b[1m   Installed\u001b[22m\u001b[39m LAME_jll ───────────────────── v3.100.1+0\n",
            "\u001b[32m\u001b[1m   Installed\u001b[22m\u001b[39m Xorg_libX11_jll ────────────── v1.6.9+4\n",
            "\u001b[32m\u001b[1m   Installed\u001b[22m\u001b[39m TextParse ──────────────────── v1.0.2\n",
            "\u001b[32m\u001b[1m   Installed\u001b[22m\u001b[39m RecipesBase ────────────────── v1.1.2\n",
            "\u001b[32m\u001b[1m   Installed\u001b[22m\u001b[39m MutableArithmetics ─────────── v0.2.22\n",
            "\u001b[32m\u001b[1m   Installed\u001b[22m\u001b[39m Xorg_libXinerama_jll ───────── v1.1.4+4\n",
            "\u001b[32m\u001b[1m   Installed\u001b[22m\u001b[39m PDMats ─────────────────────── v0.10.1\n",
            "\u001b[32m\u001b[1m   Installed\u001b[22m\u001b[39m BFloat16s ──────────────────── v0.2.0\n",
            "\u001b[32m\u001b[1m   Installed\u001b[22m\u001b[39m TableShowUtils ─────────────── v0.2.5\n",
            "\u001b[32m\u001b[1m   Installed\u001b[22m\u001b[39m GR_jll ─────────────────────── v0.61.0+0\n",
            "\u001b[32m\u001b[1m   Installed\u001b[22m\u001b[39m HarfBuzz_jll ───────────────── v2.8.1+0\n",
            "\u001b[32m\u001b[1m   Installed\u001b[22m\u001b[39m Functors ───────────────────── v0.2.7\n",
            "\u001b[32m\u001b[1m   Installed\u001b[22m\u001b[39m NNlibCUDA ──────────────────── v0.1.9\n",
            "\u001b[32m\u001b[1m   Installed\u001b[22m\u001b[39m Xorg_xcb_util_jll ──────────── v0.4.0+1\n",
            "\u001b[32m\u001b[1m   Installed\u001b[22m\u001b[39m WeakRefStrings ─────────────── v1.4.1\n",
            "\u001b[32m\u001b[1m   Installed\u001b[22m\u001b[39m Cairo_jll ──────────────────── v1.16.1+0\n",
            "\u001b[32m\u001b[1m   Installed\u001b[22m\u001b[39m LaTeXStrings ───────────────── v1.2.1\n",
            "\u001b[32m\u001b[1m   Installed\u001b[22m\u001b[39m Expat_jll ──────────────────── v2.2.10+0\n",
            "\u001b[32m\u001b[1m   Installed\u001b[22m\u001b[39m x264_jll ───────────────────── v2021.5.5+0\n",
            "\u001b[32m\u001b[1m   Installed\u001b[22m\u001b[39m MacroTools ─────────────────── v0.5.8\n",
            "\u001b[32m\u001b[1m   Installed\u001b[22m\u001b[39m GPUCompiler ────────────────── v0.13.6\n",
            "\u001b[32m\u001b[1m   Installed\u001b[22m\u001b[39m Xorg_xcb_util_keysyms_jll ──── v0.4.0+1\n",
            "\u001b[32m\u001b[1m   Installed\u001b[22m\u001b[39m NaNMath ────────────────────── v0.3.5\n",
            "\u001b[32m\u001b[1m   Installed\u001b[22m\u001b[39m Libuuid_jll ────────────────── v2.36.0+0\n",
            "\u001b[32m\u001b[1m   Installed\u001b[22m\u001b[39m Colors ─────────────────────── v0.12.8\n",
            "\u001b[32m\u001b[1m   Installed\u001b[22m\u001b[39m InvertedIndices ────────────── v1.1.0\n",
            "\u001b[32m\u001b[1m   Installed\u001b[22m\u001b[39m PlotThemes ─────────────────── v2.0.1\n",
            "\u001b[32m\u001b[1m   Installed\u001b[22m\u001b[39m Formatting ─────────────────── v0.4.2\n",
            "\u001b[32m\u001b[1m   Installed\u001b[22m\u001b[39m Showoff ────────────────────── v1.0.3\n",
            "\u001b[32m\u001b[1m   Installed\u001b[22m\u001b[39m ChainRulesCore ─────────────── v0.9.45\n",
            "\u001b[32m\u001b[1m   Installed\u001b[22m\u001b[39m NNlib ──────────────────────── v0.7.29\n",
            "\u001b[32m\u001b[1m   Installed\u001b[22m\u001b[39m ColorSchemes ───────────────── v3.15.0\n",
            "\u001b[32m\u001b[1m   Installed\u001b[22m\u001b[39m RandomNumbers ──────────────── v1.5.3\n",
            "\u001b[32m\u001b[1m   Installed\u001b[22m\u001b[39m Preferences ────────────────── v1.2.2\n",
            "\u001b[32m\u001b[1m   Installed\u001b[22m\u001b[39m Requires ───────────────────── v1.1.3\n",
            "\u001b[32m\u001b[1m   Installed\u001b[22m\u001b[39m CommonSubexpressions ───────── v0.3.0\n",
            "\u001b[32m\u001b[1m   Installed\u001b[22m\u001b[39m Opus_jll ───────────────────── v1.3.2+0\n",
            "\u001b[32m\u001b[1m   Installed\u001b[22m\u001b[39m OpenSSL_jll ────────────────── v1.1.10+0\n",
            "\u001b[32m\u001b[1m   Installed\u001b[22m\u001b[39m TableTraitsUtils ───────────── v1.0.2\n",
            "\u001b[32m\u001b[1m   Installed\u001b[22m\u001b[39m DiffResults ────────────────── v1.0.3\n",
            "\u001b[32m\u001b[1m   Installed\u001b[22m\u001b[39m Xorg_xkbcomp_jll ───────────── v1.4.2+4\n",
            "\u001b[32m\u001b[1m   Installed\u001b[22m\u001b[39m Quadmath ───────────────────── v0.5.5\n",
            "\u001b[32m\u001b[1m   Installed\u001b[22m\u001b[39m libfdk_aac_jll ─────────────── v2.0.2+0\n",
            "\u001b[32m\u001b[1m   Installed\u001b[22m\u001b[39m Libglvnd_jll ───────────────── v1.3.0+3\n",
            "\u001b[32m\u001b[1m   Installed\u001b[22m\u001b[39m Ogg_jll ────────────────────── v1.3.5+0\n",
            "\u001b[32m\u001b[1m   Installed\u001b[22m\u001b[39m FriBidi_jll ────────────────── v1.0.10+0\n",
            "\u001b[32m\u001b[1m   Installed\u001b[22m\u001b[39m GenericLinearAlgebra ───────── v0.2.7\n",
            "\u001b[32m\u001b[1m   Installed\u001b[22m\u001b[39m DocStringExtensions ────────── v0.8.5\n",
            "\u001b[32m\u001b[1m   Installed\u001b[22m\u001b[39m libpng_jll ─────────────────── v1.6.38+0\n",
            "\u001b[32m\u001b[1m   Installed\u001b[22m\u001b[39m Random123 ──────────────────── v1.4.2\n",
            "\u001b[32m\u001b[1m   Installed\u001b[22m\u001b[39m GR ─────────────────────────── v0.61.0\n",
            "\u001b[32m\u001b[1m   Installed\u001b[22m\u001b[39m StatsAPI ───────────────────── v1.0.0\n",
            "\u001b[32m\u001b[1m   Installed\u001b[22m\u001b[39m PrettyTables ───────────────── v1.2.3\n",
            "\u001b[32m\u001b[1m    Building\u001b[22m\u001b[39m TimeZones → `~/.julia/scratchspaces/44cfe95a-1eb2-52ea-b672-e2afdf69b78f/b4c6460412b1db0b4f1679ab2d5ef72568a14a57/build.log`\n",
            "\u001b[32m\u001b[1m    Building\u001b[22m\u001b[39m GR ───────→ `~/.julia/scratchspaces/44cfe95a-1eb2-52ea-b672-e2afdf69b78f/d189c6d2004f63fd3c91748c458b09f26de0efaa/build.log`\n",
            "\u001b[32m\u001b[1m    Building\u001b[22m\u001b[39m Random123 → `~/.julia/scratchspaces/44cfe95a-1eb2-52ea-b672-e2afdf69b78f/0e8b146557ad1c6deb1367655e052276690e71a3/build.log`\n",
            "\u001b[32m\u001b[1mPrecompiling\u001b[22m\u001b[39m project...\n",
            "\u001b[32m  ✓ \u001b[39m\u001b[90mCompilerSupportLibraries_jll\u001b[39m\n",
            "\u001b[32m  ✓ \u001b[39m\u001b[90mAbstractFFTs\u001b[39m\n",
            "\u001b[32m  ✓ \u001b[39m\u001b[90mAbstractTrees\u001b[39m\n",
            "\u001b[32m  ✓ \u001b[39m\u001b[90mURIs\u001b[39m\n",
            "\u001b[32m  ✓ \u001b[39m\u001b[90mMeasures\u001b[39m\n",
            "\u001b[32m  ✓ \u001b[39m\u001b[90mFillArrays\u001b[39m\n",
            "\u001b[32m  ✓ \u001b[39m\u001b[90mChainRulesCore\u001b[39m\n",
            "\u001b[32m  ✓ \u001b[39m\u001b[90mIrrationalConstants\u001b[39m\n",
            "\u001b[32m  ✓ \u001b[39m\u001b[90mMacroTools\u001b[39m\n",
            "\u001b[32m  ✓ \u001b[39m\u001b[90mInvertedIndices\u001b[39m\n",
            "\u001b[32m  ✓ \u001b[39m\u001b[90mRequires\u001b[39m\n",
            "\u001b[32m  ✓ \u001b[39m\u001b[90mIterTools\u001b[39m\n",
            "\u001b[32m  ✓ \u001b[39m\u001b[90mStatsAPI\u001b[39m\n",
            "\u001b[32m  ✓ \u001b[39m\u001b[90mIteratorInterfaceExtensions\u001b[39m\n",
            "\u001b[32m  ✓ \u001b[39m\u001b[90mAdapt\u001b[39m\n",
            "\u001b[32m  ✓ \u001b[39m\u001b[90mLaTeXStrings\u001b[39m\n",
            "\u001b[32m  ✓ \u001b[39m\u001b[90mMutableArithmetics\u001b[39m\n",
            "\u001b[32m  ✓ \u001b[39mBSON\n",
            "\u001b[32m  ✓ \u001b[39m\u001b[90mNullables\u001b[39m\n",
            "\u001b[32m  ✓ \u001b[39m\u001b[90mPreferences\u001b[39m\n",
            "\u001b[32m  ✓ \u001b[39m\u001b[90mDataAPI\u001b[39m\n",
            "\u001b[32m  ✓ \u001b[39m\u001b[90mOpenLibm_jll\u001b[39m\n",
            "\u001b[32m  ✓ \u001b[39m\u001b[90mNaNMath\u001b[39m\n",
            "\u001b[32m  ✓ \u001b[39m\u001b[90mBFloat16s\u001b[39m\n",
            "\u001b[32m  ✓ \u001b[39m\u001b[90mDocStringExtensions\u001b[39m\n",
            "\u001b[32m  ✓ \u001b[39m\u001b[90mCrayons\u001b[39m\n",
            "\u001b[32m  ✓ \u001b[39m\u001b[90mGenericLinearAlgebra\u001b[39m\n",
            "\u001b[32m  ✓ \u001b[39m\u001b[90mIfElse\u001b[39m\n",
            "\u001b[32m  ✓ \u001b[39m\u001b[90mDataValueInterfaces\u001b[39m\n",
            "\u001b[32m  ✓ \u001b[39m\u001b[90mTimerOutputs\u001b[39m\n",
            "\u001b[32m  ✓ \u001b[39m\u001b[90mFilePathsBase\u001b[39m\n",
            "\u001b[32m  ✓ \u001b[39m\u001b[90mGrisu\u001b[39m\n",
            "\u001b[32m  ✓ \u001b[39m\u001b[90mFunctors\u001b[39m\n",
            "\u001b[32m  ✓ \u001b[39m\u001b[90mCodeTracking\u001b[39m\n",
            "\u001b[32m  ✓ \u001b[39m\u001b[90mSentinelArrays\u001b[39m\n",
            "\u001b[32m  ✓ \u001b[39m\u001b[90mFormatting\u001b[39m\n",
            "\u001b[32m  ✓ \u001b[39m\u001b[90mCEnum\u001b[39m\n",
            "\u001b[32m  ✓ \u001b[39m\u001b[90mIniFile\u001b[39m\n",
            "\u001b[32m  ✓ \u001b[39m\u001b[90mPDMats\u001b[39m\n",
            "\u001b[32m  ✓ \u001b[39m\u001b[90mFixedPointNumbers\u001b[39m\n",
            "\u001b[32m  ✓ \u001b[39m\u001b[90mCodecZlib\u001b[39m\n",
            "\u001b[32m  ✓ \u001b[39m\u001b[90mMocking\u001b[39m\n",
            "\u001b[32m  ✓ \u001b[39m\u001b[90mZipFile\u001b[39m\n",
            "\u001b[32m  ✓ \u001b[39m\u001b[90mInlineStrings\u001b[39m\n",
            "\u001b[32m  ✓ \u001b[39m\u001b[90mCommonSubexpressions\u001b[39m\n",
            "\u001b[32m  ✓ \u001b[39m\u001b[90mDataStructures\u001b[39m\n",
            "\u001b[32m  ✓ \u001b[39m\u001b[90mIRTools\u001b[39m\n",
            "\u001b[32m  ✓ \u001b[39m\u001b[90mZygoteRules\u001b[39m\n",
            "\u001b[32m  ✓ \u001b[39m\u001b[90mMedia\u001b[39m\n",
            "\u001b[32m  ✓ \u001b[39m\u001b[90mStaticArrays\u001b[39m\n",
            "\u001b[32m  ✓ \u001b[39m\u001b[90mQuadmath\u001b[39m\n",
            "\u001b[32m  ✓ \u001b[39m\u001b[90mRandomNumbers\u001b[39m\n",
            "\u001b[32m  ✓ \u001b[39m\u001b[90mTableTraits\u001b[39m\n",
            "\u001b[32m  ✓ \u001b[39m\u001b[90mFileIO\u001b[39m\n",
            "\u001b[32m  ✓ \u001b[39m\u001b[90mGPUArrays\u001b[39m\n",
            "\u001b[32m  ✓ \u001b[39m\u001b[90mJLLWrappers\u001b[39m\n",
            "\u001b[32m  ✓ \u001b[39m\u001b[90mPooledArrays\u001b[39m\n",
            "\u001b[32m  ✓ \u001b[39m\u001b[90mMissings\u001b[39m\n",
            "\u001b[32m  ✓ \u001b[39m\u001b[90mNNlib\u001b[39m\n",
            "\u001b[32m  ✓ \u001b[39m\u001b[90mLogExpFunctions\u001b[39m\n",
            "\u001b[32m  ✓ \u001b[39m\u001b[90mStatic\u001b[39m\n",
            "\u001b[32m  ✓ \u001b[39m\u001b[90mDataValues\u001b[39m\n",
            "\u001b[32m  ✓ \u001b[39m\u001b[90mShowoff\u001b[39m\n",
            "\u001b[32m  ✓ \u001b[39m\u001b[90mChainRules\u001b[39m\n",
            "\u001b[32m  ✓ \u001b[39m\u001b[90mLatexify\u001b[39m\n",
            "\u001b[32m  ✓ \u001b[39m\u001b[90mHTTP\u001b[39m\n",
            "\u001b[32m  ✓ \u001b[39m\u001b[90mJuliaInterpreter\u001b[39m\n",
            "\u001b[32m  ✓ \u001b[39m\u001b[90mWeakRefStrings\u001b[39m\n",
            "\u001b[32m  ✓ \u001b[39m\u001b[90mSortingAlgorithms\u001b[39m\n",
            "\u001b[32m  ✓ \u001b[39m\u001b[90mQuadGK\u001b[39m\n",
            "\u001b[32m  ✓ \u001b[39m\u001b[90mJuno\u001b[39m\n",
            "\u001b[32m  ✓ \u001b[39m\u001b[90mTimeZones\u001b[39m\n",
            "\u001b[32m  ✓ \u001b[39m\u001b[90mContour\u001b[39m\n",
            "\u001b[32m  ✓ \u001b[39m\u001b[90mDiffResults\u001b[39m\n",
            "\u001b[32m  ✓ \u001b[39m\u001b[90mRandom123\u001b[39m\n",
            "\u001b[32m  ✓ \u001b[39m\u001b[90mTables\u001b[39m\n",
            "\u001b[32m  ✓ \u001b[39m\u001b[90mOpus_jll\u001b[39m\n",
            "\u001b[32m  ✓ \u001b[39m\u001b[90mPCRE_jll\u001b[39m\n",
            "\u001b[32m  ✓ \u001b[39m\u001b[90mXorg_libXdmcp_jll\u001b[39m\n",
            "\u001b[32m  ✓ \u001b[39m\u001b[90mColorTypes\u001b[39m\n",
            "\u001b[32m  ✓ \u001b[39m\u001b[90mZstd_jll\u001b[39m\n",
            "\u001b[32m  ✓ \u001b[39m\u001b[90mLibffi_jll\u001b[39m\n",
            "\u001b[32m  ✓ \u001b[39m\u001b[90mLZO_jll\u001b[39m\n",
            "\u001b[32m  ✓ \u001b[39m\u001b[90mlibpng_jll\u001b[39m\n",
            "\u001b[32m  ✓ \u001b[39m\u001b[90mXorg_xtrans_jll\u001b[39m\n",
            "\u001b[32m  ✓ \u001b[39m\u001b[90mLibmount_jll\u001b[39m\n",
            "\u001b[32m  ✓ \u001b[39m\u001b[90mLAME_jll\u001b[39m\n",
            "\u001b[32m  ✓ \u001b[39m\u001b[90mGraphite2_jll\u001b[39m\n",
            "\u001b[32m  ✓ \u001b[39m\u001b[90mXorg_libpthread_stubs_jll\u001b[39m\n",
            "\u001b[32m  ✓ \u001b[39m\u001b[90mLLVMExtra_jll\u001b[39m\n",
            "\u001b[32m  ✓ \u001b[39m\u001b[90mx264_jll\u001b[39m\n",
            "\u001b[32m  ✓ \u001b[39m\u001b[90mOpenSpecFun_jll\u001b[39m\n",
            "\u001b[32m  ✓ \u001b[39m\u001b[90mEarCut_jll\u001b[39m\n",
            "\u001b[32m  ✓ \u001b[39m\u001b[90mLibiconv_jll\u001b[39m\n",
            "\u001b[32m  ✓ \u001b[39m\u001b[90mJLD2\u001b[39m\n",
            "\u001b[32m  ✓ \u001b[39m\u001b[90mx265_jll\u001b[39m\n",
            "\u001b[32m  ✓ \u001b[39m\u001b[90mlibfdk_aac_jll\u001b[39m\n",
            "\u001b[32m  ✓ \u001b[39m\u001b[90mFriBidi_jll\u001b[39m\n",
            "\u001b[32m  ✓ \u001b[39m\u001b[90mRmath_jll\u001b[39m\n",
            "\u001b[32m  ✓ \u001b[39m\u001b[90mOpenSSL_jll\u001b[39m\n",
            "\u001b[32m  ✓ \u001b[39m\u001b[90mPixman_jll\u001b[39m\n",
            "\u001b[32m  ✓ \u001b[39m\u001b[90mExpat_jll\u001b[39m\n",
            "\u001b[32m  ✓ \u001b[39m\u001b[90mLibuuid_jll\u001b[39m\n",
            "\u001b[32m  ✓ \u001b[39m\u001b[90mXorg_libXau_jll\u001b[39m\n",
            "\u001b[32m  ✓ \u001b[39m\u001b[90mBzip2_jll\u001b[39m\n",
            "\u001b[32m  ✓ \u001b[39m\u001b[90mLibgpg_error_jll\u001b[39m\n",
            "\u001b[32m  ✓ \u001b[39m\u001b[90mJpegTurbo_jll\u001b[39m\n",
            "\u001b[32m  ✓ \u001b[39m\u001b[90mOgg_jll\u001b[39m\n",
            "\u001b[32m  ✓ \u001b[39m\u001b[90mArrayInterface\u001b[39m\n",
            "\u001b[32m  ✓ \u001b[39m\u001b[90mTableShowUtils\u001b[39m\n",
            "\u001b[32m  ✓ \u001b[39m\u001b[90mTableTraitsUtils\u001b[39m\n",
            "\u001b[32m  ✓ \u001b[39mStatsBase\n",
            "\u001b[32m  ✓ \u001b[39m\u001b[90mIntervals\u001b[39m\n",
            "\u001b[32m  ✓ \u001b[39m\u001b[90mLoweredCodeUtils\u001b[39m\n",
            "\u001b[32m  ✓ \u001b[39m\u001b[90mStructArrays\u001b[39m\n",
            "\u001b[32m  ✓ \u001b[39mPrettyTables\n",
            "\u001b[32m  ✓ \u001b[39m\u001b[90mColors\u001b[39m\n",
            "\u001b[32m  ✓ \u001b[39m\u001b[90mLLVM\u001b[39m\n",
            "\u001b[32m  ✓ \u001b[39mCSV\n",
            "\u001b[32m  ✓ \u001b[39m\u001b[90mSpecialFunctions\u001b[39m\n",
            "\u001b[32m  ✓ \u001b[39m\u001b[90mXML2_jll\u001b[39m\n",
            "\u001b[32m  ✓ \u001b[39mDrWatson\n",
            "\u001b[32m  ✓ \u001b[39m\u001b[90mRmath\u001b[39m\n",
            "\u001b[32m  ✓ \u001b[39m\u001b[90mFreeType2_jll\u001b[39m\n",
            "\u001b[32m  ✓ \u001b[39m\u001b[90mLibgcrypt_jll\u001b[39m\n",
            "\u001b[32m  ✓ \u001b[39m\u001b[90mLibtiff_jll\u001b[39m\n",
            "\u001b[32m  ✓ \u001b[39m\u001b[90mIterableTables\u001b[39m\n",
            "\u001b[32m  ✓ \u001b[39m\u001b[90mlibvorbis_jll\u001b[39m\n",
            "\u001b[32m  ✓ \u001b[39m\u001b[90mPolynomials\u001b[39m\n",
            "\u001b[32m  ✓ \u001b[39mRevise\n",
            "\u001b[32m  ✓ \u001b[39m\u001b[90mGeometryBasics\u001b[39m\n",
            "\u001b[32m  ✓ \u001b[39m\u001b[90mColorSchemes\u001b[39m\n",
            "\u001b[32m  ✓ \u001b[39m\u001b[90mGPUCompiler\u001b[39m\n",
            "\u001b[32m  ✓ \u001b[39m\u001b[90mDiffRules\u001b[39m\n",
            "\u001b[32m  ✓ \u001b[39m\u001b[90mWayland_jll\u001b[39m\n",
            "\u001b[32m  ✓ \u001b[39m\u001b[90mGettext_jll\u001b[39m\n",
            "\u001b[32m  ✓ \u001b[39m\u001b[90mFontconfig_jll\u001b[39m\n",
            "\u001b[32m  ✓ \u001b[39m\u001b[90mStatsFuns\u001b[39m\n",
            "\u001b[32m  ✓ \u001b[39m\u001b[90mXSLT_jll\u001b[39m\n",
            "\u001b[32m  ✓ \u001b[39m\u001b[90mDoubleFloats\u001b[39m\n",
            "\u001b[32m  ✓ \u001b[39m\u001b[90mPlotUtils\u001b[39m\n",
            "\u001b[32m  ✓ \u001b[39m\u001b[90mForwardDiff\u001b[39m\n",
            "\u001b[32m  ✓ \u001b[39m\u001b[90mWayland_protocols_jll\u001b[39m\n",
            "\u001b[32m  ✓ \u001b[39m\u001b[90mGlib_jll\u001b[39m\n",
            "\u001b[32m  ✓ \u001b[39mDistributions\n",
            "\u001b[32m  ✓ \u001b[39m\u001b[90mXorg_libxcb_jll\u001b[39m\n",
            "\u001b[32m  ✓ \u001b[39mDataFrames\n",
            "\u001b[32m  ✓ \u001b[39m\u001b[90mPlotThemes\u001b[39m\n",
            "\u001b[32m  ✓ \u001b[39m\u001b[90mTextParse\u001b[39m\n",
            "\u001b[32m  ✓ \u001b[39m\u001b[90mRecipesPipeline\u001b[39m\n",
            "\u001b[32m  ✓ \u001b[39m\u001b[90mXorg_xcb_util_jll\u001b[39m\n",
            "\u001b[32m  ✓ \u001b[39m\u001b[90mXorg_libX11_jll\u001b[39m\n",
            "\u001b[32m  ✓ \u001b[39mCSVFiles\n",
            "\u001b[32m  ✓ \u001b[39m\u001b[90mXorg_xcb_util_renderutil_jll\u001b[39m\n",
            "\u001b[32m  ✓ \u001b[39m\u001b[90mXorg_xcb_util_keysyms_jll\u001b[39m\n",
            "\u001b[32m  ✓ \u001b[39m\u001b[90mZygote\u001b[39m\n",
            "\u001b[32m  ✓ \u001b[39m\u001b[90mXorg_xcb_util_image_jll\u001b[39m\n",
            "\u001b[32m  ✓ \u001b[39m\u001b[90mXorg_xcb_util_wm_jll\u001b[39m\n",
            "\u001b[32m  ✓ \u001b[39m\u001b[90mXorg_libXfixes_jll\u001b[39m\n",
            "\u001b[32m  ✓ \u001b[39m\u001b[90mXorg_libXrender_jll\u001b[39m\n",
            "\u001b[32m  ✓ \u001b[39m\u001b[90mXorg_libXext_jll\u001b[39m\n",
            "\u001b[32m  ✓ \u001b[39m\u001b[90mXorg_libxkbfile_jll\u001b[39m\n",
            "\u001b[32m  ✓ \u001b[39m\u001b[90mXorg_libXcursor_jll\u001b[39m\n",
            "\u001b[32m  ✓ \u001b[39m\u001b[90mXorg_libXi_jll\u001b[39m\n",
            "\u001b[32m  ✓ \u001b[39m\u001b[90mXorg_libXrandr_jll\u001b[39m\n",
            "\u001b[32m  ✓ \u001b[39m\u001b[90mXorg_libXinerama_jll\u001b[39m\n",
            "\u001b[32m  ✓ \u001b[39m\u001b[90mCairo_jll\u001b[39m\n",
            "\u001b[32m  ✓ \u001b[39m\u001b[90mLibglvnd_jll\u001b[39m\n",
            "\u001b[32m  ✓ \u001b[39m\u001b[90mXorg_xkbcomp_jll\u001b[39m\n",
            "\u001b[32m  ✓ \u001b[39m\u001b[90mHarfBuzz_jll\u001b[39m\n",
            "\u001b[32m  ✓ \u001b[39m\u001b[90mCUDA\u001b[39m\n",
            "\u001b[32m  ✓ \u001b[39m\u001b[90mXorg_xkeyboard_config_jll\u001b[39m\n",
            "\u001b[32m  ✓ \u001b[39m\u001b[90mGLFW_jll\u001b[39m\n",
            "\u001b[32m  ✓ \u001b[39m\u001b[90mlibass_jll\u001b[39m\n",
            "\u001b[32m  ✓ \u001b[39m\u001b[90mxkbcommon_jll\u001b[39m\n",
            "\u001b[32m  ✓ \u001b[39m\u001b[90mFFMPEG_jll\u001b[39m\n",
            "\u001b[32m  ✓ \u001b[39m\u001b[90mQt5Base_jll\u001b[39m\n",
            "\u001b[32m  ✓ \u001b[39m\u001b[90mFFMPEG\u001b[39m\n",
            "\u001b[32m  ✓ \u001b[39m\u001b[90mGR_jll\u001b[39m\n",
            "\u001b[32m  ✓ \u001b[39m\u001b[90mNNlibCUDA\u001b[39m\n",
            "\u001b[32m  ✓ \u001b[39m\u001b[90mGR\u001b[39m\n",
            "\u001b[32m  ✓ \u001b[39mFlux\n",
            "\u001b[32m  ✓ \u001b[39mPlots\n",
            "183 dependencies successfully precompiled in 357 seconds (14 already precompiled)\n"
          ]
        }
      ]
    },
    {
      "cell_type": "code",
      "source": [
        "# check that working directory is \"/content/Ventilator/Ventilator.jl\"\n",
        "pwd()"
      ],
      "metadata": {
        "colab": {
          "base_uri": "https://localhost:8080/"
        },
        "id": "QJK3Z-IPIJCY",
        "outputId": "ed5a81e1-eec5-4b23-e1c2-75bc77f2fcdb"
      },
      "execution_count": 6,
      "outputs": [
        {
          "output_type": "execute_result",
          "data": {
            "text/plain": [
              "\"/content/Ventilator/Ventilator.jl\""
            ]
          },
          "metadata": {},
          "execution_count": 6
        }
      ]
    },
    {
      "cell_type": "markdown",
      "source": [
        "Now we can finally start the demo. Sorry for the inconvenience. I hope you will like what comes next."
      ],
      "metadata": {
        "id": "0b-nr8vvPeqC"
      }
    },
    {
      "cell_type": "markdown",
      "source": [
        "# DEMO HERE\n",
        "\n",
        "Be aware, that this is really just a demo. This notebook shows how one of the models created works. It will walk you through packages, data preparation, loss and other functions, and training. Only a subset of data is used (2k out of 75k training sequences), therefore results probably will not be amazing. Everything is run only on CPU.\n",
        "\n",
        "The author's advice is to go through the repository and the whole `Ventilator.jl` folder. README files are prepared to explain everything and the code itself should be fairly readable.\n",
        "\n",
        "Now, enjoy and hopefully you'll like what you will see.\n",
        "\n",
        "## Load packages\n",
        "\n",
        "First, we need to load necessary packages. Notice that we also need the package Ventilator.jl containing all source files."
      ],
      "metadata": {
        "id": "f8F38uggIpgQ"
      }
    },
    {
      "cell_type": "code",
      "source": [
        "using DrWatson\n",
        "@quickactivate\n",
        "using Ventilator\n",
        "using Flux\n",
        "using Base.Iterators: repeated\n",
        "using Flux: throttle, @epochs, mae, mse\n",
        "using StatsBase\n",
        "\n",
        "using CSV, DataFrames, Random"
      ],
      "metadata": {
        "id": "CkpHry1uIoi2",
        "colab": {
          "base_uri": "https://localhost:8080/"
        },
        "outputId": "d84d0da2-cc3b-4cee-9400-c054103e9bb9"
      },
      "execution_count": 7,
      "outputs": [
        {
          "output_type": "stream",
          "name": "stderr",
          "text": [
            "┌ Info: Precompiling Ventilator [fe13d34f-9972-5c65-b63e-177dafd16705]\n",
            "└ @ Base loading.jl:1317\n",
            "\u001b[33m\u001b[1m┌ \u001b[22m\u001b[39m\u001b[33m\u001b[1mWarning: \u001b[22m\u001b[39mPackage Ventilator does not have Random in its dependencies:\n",
            "\u001b[33m\u001b[1m│ \u001b[22m\u001b[39m- If you have Ventilator checked out for development and have\n",
            "\u001b[33m\u001b[1m│ \u001b[22m\u001b[39m  added Random as a dependency but haven't updated your primary\n",
            "\u001b[33m\u001b[1m│ \u001b[22m\u001b[39m  environment's manifest file, try `Pkg.resolve()`.\n",
            "\u001b[33m\u001b[1m│ \u001b[22m\u001b[39m- Otherwise you may need to report an issue with Ventilator\n",
            "\u001b[33m\u001b[1m└ \u001b[22m\u001b[39mLoading Random into Ventilator from project dependency, future warnings for Ventilator are suppressed.\n"
          ]
        }
      ]
    },
    {
      "cell_type": "markdown",
      "source": [
        "Now, we need a function which will load the data and prepare them. Two functions are used, `load_data_RC` which loads data and splits them by combination of R, C. And `train_val_test_split` which splits our data to train, validation and test dataset."
      ],
      "metadata": {
        "id": "Htd5riquI9ez"
      }
    },
    {
      "cell_type": "code",
      "source": [
        "\n",
        "\"\"\"\n",
        "    load_data_RC(;seed=nothing, vars::Vector{Symbol}=[:time_step, :u_in, :u_out, :R, :C], rnn = true)\n",
        "\n",
        "Loads the `train.csv` dataset and groups the data based on the combination of R, C.\n",
        "Creates a dataset as a dictionary with keys being `Symbol(\"R=R, C=C)`. Each key\n",
        "value is another dictionary with keys being `:train, :val, :test, B`. Each key has\n",
        "data as value, train, val and test have Tuple of (X, Y) and B has a Tuple of u_out\n",
        "binary vectors for train, val and test data.\n",
        "\"\"\"\n",
        "function load_data_RC(;seed=nothing, vars::Vector{Symbol}=[:time_step, :u_in, :u_out, :R, :C], rnn = true)\n",
        "    data = CSV.read(datadir(\"subset.csv\"), DataFrame)\n",
        "    RC_groups = groupby(data, [:R, :C])\n",
        "\n",
        "    dataset = Dict()\n",
        "    for g in RC_groups\n",
        "        df = g |> DataFrame\n",
        "        train, val, test, B = train_val_test_split(df; seed = seed, vars = vars, rnn = rnn)\n",
        "        k = Symbol(\"R=$(g[1,:R]), C=$(g[1,:C])\")\n",
        "        d = Dict(\n",
        "            :train => train,\n",
        "            :val => val,\n",
        "            :test => test,\n",
        "            :B => B\n",
        "        )\n",
        "        push!(dataset, k => d)\n",
        "    end\n",
        "\n",
        "    return dataset\n",
        "end\n",
        "\n",
        "\n",
        "\"\"\"\n",
        "    train_val_test_split(df::DataFrame; seed=nothing, vars::Vector{Symbol}=[:time_step, :u_in, :u_out, :R, :C], rnn=false)\n",
        "\n",
        "Divides the data to train/validation/test splits of 0.8:0.1:0.1 ratios.\n",
        "\"\"\"\n",
        "function train_val_test_split(df::DataFrame; seed=nothing, vars::Vector{Symbol}=[:time_step, :u_in, :u_out, :R, :C], rnn=false)\n",
        "    # group by breath_id\n",
        "    groups = groupby(df, :breath_id)\n",
        "\n",
        "    # allocate vectors\n",
        "    if rnn\n",
        "        X_data, P_data, B_data = Vector{Vector{Float32}}[], Vector{Vector{Float32}}[], Array{Float32,2}[]\n",
        "    else\n",
        "        X_data, P_data, B_data = Array{Float32,2}[], Array{Float32,2}[], Array{Float32,2}[]\n",
        "    end\n",
        "\n",
        "    for g in groups\n",
        "        # the feature engineering part\n",
        "        _x = collect(g[!, vars] |> Array |> transpose)\n",
        "        xf0, x0 = pool_feature_add(_x; u = 0)\n",
        "        xf1, x1 = pool_feature_add(_x; u = 1)\n",
        "        xfull = vcat(hcat(x0,x1), xf0, xf1)\n",
        "\n",
        "        # pressure values\n",
        "        p = collect(g[:, :pressure]')\n",
        "\n",
        "        # push to allocated vectors\n",
        "        if rnn\n",
        "            push!(X_data, [xi for xi in eachcol(xfull)])\n",
        "            push!(P_data, [pi for pi in eachcol(p)])\n",
        "        else\n",
        "            push!(X_data, xfull)\n",
        "            push!(P_data, p)\n",
        "        end\n",
        "\n",
        "        b = collect(g[:, :u_out]')\n",
        "        push!(B_data, b)\n",
        "    end\n",
        "\n",
        "    # get lengths of train/val/test data\n",
        "    n = length(groups)\n",
        "    n1 = round(Int, n*0.8)\n",
        "    n2 = (n - n1) ÷ 2\n",
        "\n",
        "    # set seed\n",
        "    (seed == nothing) ? nothing : Random.seed!(seed)\n",
        "\n",
        "    # randomly sample indexes\n",
        "    idx = sample(1:n, n, replace=false)\n",
        "    tix, val_ix, test_ix = idx[1:n1], idx[n1+1:n1+n2], idx[n1+n2+1:end]\n",
        "\n",
        "    # split data\n",
        "    X_train, P_train, B_train = X_data[tix], P_data[tix], B_data[tix]\n",
        "    X_val, P_val, B_val = X_data[val_ix], P_data[val_ix], B_data[val_ix]\n",
        "    X_test, P_test, B_test = X_data[test_ix], P_data[test_ix], B_data[test_ix]\n",
        "\n",
        "    # reset seed\n",
        "\t(seed !== nothing) ? Random.seed!() : nothing\n",
        "\n",
        "    return (X_train, P_train), (X_val, P_val), (X_test, P_test), (B_train, B_val, B_test)\n",
        "end"
      ],
      "metadata": {
        "colab": {
          "base_uri": "https://localhost:8080/"
        },
        "id": "9yH6w4FYJQzS",
        "outputId": "526abb1c-1636-4210-8dc9-0e866345cc10"
      },
      "execution_count": 8,
      "outputs": [
        {
          "output_type": "execute_result",
          "data": {
            "text/plain": [
              "train_val_test_split"
            ]
          },
          "metadata": {},
          "execution_count": 8
        }
      ]
    },
    {
      "cell_type": "markdown",
      "source": [
        "Now that we have the functions, we can load the dataset."
      ],
      "metadata": {
        "id": "OJLgoHYGJS0w"
      }
    },
    {
      "cell_type": "code",
      "source": [
        "seed = 1\n",
        "dataset = load_data_RC(;seed = seed)\n",
        "@info \"Data loaded.\""
      ],
      "metadata": {
        "id": "uR8bD_H6JX9d",
        "colab": {
          "base_uri": "https://localhost:8080/"
        },
        "outputId": "e5c7e3a0-f646-4a35-96a6-eba3b5aaec0f"
      },
      "execution_count": 11,
      "outputs": [
        {
          "output_type": "stream",
          "name": "stderr",
          "text": [
            "┌ Info: Data loaded.\n",
            "└ @ Main In[11]:3\n"
          ]
        }
      ]
    },
    {
      "cell_type": "markdown",
      "source": [
        "## Preparation\n",
        "\n",
        "New, we need to sample parameters and create loss functions, prediction function and score functions."
      ],
      "metadata": {
        "id": "l4YPvRoVJZFN"
      }
    },
    {
      "cell_type": "code",
      "source": [
        "# function to sample parameters\n",
        "function sample_params()\n",
        "    par_vec = (2 .^ [5,6,7,8,9], 1:4, 1:4, [\"swish\", \"relu\", \"elu\"], [\"LSTM\", \"GRU\"])\n",
        "    argnames = (:hdim, :rnn_layers, :dense_layers, :activation, :rnn_cell)\n",
        "    parameters = (;zip(argnames, map(x->sample(x, 1)[1], par_vec))...)\n",
        "    return parameters\n",
        "end\n",
        "\n",
        "# loss function\n",
        "function lossf(model, x, y)\n",
        "    Flux.reset!(model)\n",
        "    mean(Flux.mae(model(xi), yi) for (xi, yi) in zip(x, y))\n",
        "end\n",
        "\n",
        "# function to predict pressure\n",
        "function predict(model, x)\n",
        "    Flux.reset!(model)\n",
        "    vcat([model(xi) for xi in x]...)\n",
        "end\n",
        "\n",
        "# function to score model\n",
        "function score_model(model, x, p, b)\n",
        "    b = reshape(b, 80)\n",
        "    Flux.mae(predict(model, x)[b .== 0], vcat(p...)[b .== 0])\n",
        "end"
      ],
      "metadata": {
        "colab": {
          "base_uri": "https://localhost:8080/"
        },
        "id": "65636N4RJgn8",
        "outputId": "18873bb2-e481-4f98-d435-e9aaa685422b"
      },
      "execution_count": 9,
      "outputs": [
        {
          "output_type": "execute_result",
          "data": {
            "text/plain": [
              "score_model (generic function with 1 method)"
            ]
          },
          "metadata": {},
          "execution_count": 9
        }
      ]
    },
    {
      "cell_type": "markdown",
      "source": [
        "With the functions created we can define the model. We can sample the parameters with the commented line, but will not do so to generate a simple model which will be trained more quickly."
      ],
      "metadata": {
        "id": "TBv4I58PJjaA"
      }
    },
    {
      "cell_type": "code",
      "source": [
        "# sample parameters and create model\n",
        "d = dataset[Symbol(\"R=5, C=20\")][:train][1];\n",
        "idim = size(d[1][1],1)\n",
        "# pvec = sample_params()\n",
        "pvec = (hdim = 32, rnn_layers = 1, dense_layers = 1, activation = \"relu\", rnn_cell = \"LSTM\")\n",
        "# create one model\n",
        "model = rnn_constructor(;idim = idim, odim = 1, pvec...)\n",
        "# deepcopy it 9 times (number of unique [R, C])\n",
        "models = Dict([(k, deepcopy(model)) for (i,k) in enumerate(keys(dataset))])\n",
        "\n",
        "# get keys to have them enumerated\n",
        "ks = Dict([(i,k) for (i,k) in enumerate(keys(dataset))])\n",
        "\n",
        "# now we need 9 optimizers (one for each model)\n",
        "opts = Dict([(k, ADAM()) for k in keys(dataset)])"
      ],
      "metadata": {
        "colab": {
          "base_uri": "https://localhost:8080/"
        },
        "id": "26QqXmk6Juot",
        "outputId": "adacfef2-f46b-41b9-e2ff-7fe58a8398b0"
      },
      "execution_count": 12,
      "outputs": [
        {
          "output_type": "execute_result",
          "data": {
            "text/plain": [
              "Dict{Symbol, ADAM} with 9 entries:\n",
              "  Symbol(\"R=5, C=20\")  => ADAM(0.001, (0.9, 0.999), IdDict{Any, Any}())\n",
              "  Symbol(\"R=50, C=20\") => ADAM(0.001, (0.9, 0.999), IdDict{Any, Any}())\n",
              "  Symbol(\"R=5, C=10\")  => ADAM(0.001, (0.9, 0.999), IdDict{Any, Any}())\n",
              "  Symbol(\"R=20, C=50\") => ADAM(0.001, (0.9, 0.999), IdDict{Any, Any}())\n",
              "  Symbol(\"R=20, C=10\") => ADAM(0.001, (0.9, 0.999), IdDict{Any, Any}())\n",
              "  Symbol(\"R=50, C=50\") => ADAM(0.001, (0.9, 0.999), IdDict{Any, Any}())\n",
              "  Symbol(\"R=20, C=20\") => ADAM(0.001, (0.9, 0.999), IdDict{Any, Any}())\n",
              "  Symbol(\"R=5, C=50\")  => ADAM(0.001, (0.9, 0.999), IdDict{Any, Any}())\n",
              "  Symbol(\"R=50, C=10\") => ADAM(0.001, (0.9, 0.999), IdDict{Any, Any}())"
            ]
          },
          "metadata": {},
          "execution_count": 12
        }
      ]
    },
    {
      "cell_type": "markdown",
      "source": [
        "## Training\n",
        "\n",
        "We already have everything we need, now just to a training loop. First, we define some convenience variables to save best scores and best models and define for how long we want the model to train with `max_train_time`. Feel free to change this, it is a training time in seconds."
      ],
      "metadata": {
        "id": "ORuu-yycKKos"
      }
    },
    {
      "cell_type": "code",
      "source": [
        "# prerequisities for training\n",
        "best_val_scores = Dict([(k, Inf) for k in keys(dataset)])\n",
        "best_models = deepcopy(models)\n",
        "max_train_time = 60*5 # 5 minutes\n",
        "epoch = 1\n",
        "\n",
        "# and now to the training\n",
        "@info \"Starting training.\"\n",
        "start_time = time()\n",
        "while true\n",
        "    better = false\n",
        "    # use multithreading on more CPU cores\n",
        "    Threads.@threads for i in 1:9\n",
        "    # for i in 1:9\n",
        "        # get data based on key\n",
        "        X, Y = dataset[ks[i]][:train]\n",
        "        \n",
        "        # model & optimiser based on key\n",
        "        m = models[ks[i]]\n",
        "        opt = opts[ks[i]]\n",
        "\n",
        "        # loss function with chosen model\n",
        "        loss(x, y) = lossf(m, x, y)\n",
        "        \n",
        "        # parameters\n",
        "        ps = Flux.params(m)\n",
        "    \n",
        "        # sample batch and train\n",
        "        batch = RandomBatch(X, Y)\n",
        "        Flux.train!(loss, ps, repeated((batch[1], batch[2]), 5), opt)\n",
        "\n",
        "        # validation score\n",
        "        Xv, Yv = dataset[ks[i]][:val]\n",
        "        Bv = dataset[ks[i]][:B][2]\n",
        "\n",
        "        val_score = mean(map((x, y, b) -> score_model(m, x, y, b), Xv, Yv, Bv))\n",
        "\n",
        "        if val_score < best_val_scores[ks[i]]\n",
        "            best_models[ks[i]] = deepcopy(m)\n",
        "            best_val_scores[ks[i]] = val_score\n",
        "            better = true\n",
        "        end\n",
        "    end\n",
        "\n",
        "    # print best scores if some scores changed\n",
        "    if better\n",
        "        for (key, v) in best_val_scores\n",
        "            println(\"key: $key, score = $(round(v, digits=3))\")\n",
        "        end\n",
        "        validation_losses = round(mean(values(best_val_scores)), digits=4)\n",
        "        @show epoch validation_losses\n",
        "    end\n",
        "    global epoch += 1\n",
        "    \n",
        "    # stop when training time is exceeded\n",
        "    if (time() - start_time > max_train_time)\n",
        "        @info \"Stopped training, time limit exceeded.\"\n",
        "        break\n",
        "    end\n",
        "end"
      ],
      "metadata": {
        "id": "74TSYFNhKeCq",
        "colab": {
          "base_uri": "https://localhost:8080/"
        },
        "outputId": "5101190a-e070-4540-f210-5d553dfd3115"
      },
      "execution_count": 19,
      "outputs": [
        {
          "output_type": "stream",
          "name": "stderr",
          "text": [
            "┌ Info: Starting training.\n",
            "└ @ Main In[19]:8\n"
          ]
        },
        {
          "output_type": "stream",
          "name": "stdout",
          "text": [
            "key: R=5, C=20, score = 16.246\n",
            "key: R=50, C=20, score = 14.191\n",
            "key: R=5, C=10, score = 19.173\n",
            "key: R=20, C=50, score = 14.192\n",
            "key: R=20, C=10, score = 19.735\n",
            "key: R=50, C=50, score = 17.54\n",
            "key: R=20, C=20, score = 16.586\n",
            "key: R=5, C=50, score = 13.594\n",
            "key: R=50, C=10, score = 15.561\n",
            "epoch = 1\n",
            "validation_losses = 16.3131\n",
            "key: R=5, C=20, score = 15.921\n",
            "key: R=50, C=20, score = 13.725\n",
            "key: R=5, C=10, score = 18.817\n",
            "key: R=20, C=50, score = 13.783\n",
            "key: R=20, C=10, score = 19.356\n",
            "key: R=50, C=50, score = 17.097\n",
            "key: R=20, C=20, score = 16.209\n",
            "key: R=5, C=50, score = 13.197\n",
            "key: R=50, C=10, score = 15.084\n",
            "epoch = 2\n",
            "validation_losses = 15.9098\n",
            "key: R=5, C=20, score = 15.527\n",
            "key: R=50, C=20, score = 13.248\n",
            "key: R=5, C=10, score = 18.444\n",
            "key: R=20, C=50, score = 13.355\n",
            "key: R=20, C=10, score = 18.944\n",
            "key: R=50, C=50, score = 16.6\n",
            "key: R=20, C=20, score = 15.773\n",
            "key: R=5, C=50, score = 12.756\n",
            "key: R=50, C=10, score = 14.584\n",
            "epoch = 3\n",
            "validation_losses = 15.47\n",
            "key: R=5, C=20, score = 15.057\n",
            "key: R=50, C=20, score = 12.757\n",
            "key: R=5, C=10, score = 18.082\n",
            "key: R=20, C=50, score = 12.867\n",
            "key: R=20, C=10, score = 18.429\n",
            "key: R=50, C=50, score = 16.076\n",
            "key: R=20, C=20, score = 15.257\n",
            "key: R=5, C=50, score = 12.261\n",
            "key: R=50, C=10, score = 14.134\n",
            "epoch = 4\n",
            "validation_losses = 14.9912\n",
            "key: R=5, C=20, score = 14.476\n",
            "key: R=50, C=20, score = 12.266\n",
            "key: R=5, C=10, score = 17.611\n",
            "key: R=20, C=50, score = 12.31\n",
            "key: R=20, C=10, score = 17.82\n",
            "key: R=50, C=50, score = 15.529\n",
            "key: R=20, C=20, score = 14.643\n",
            "key: R=5, C=50, score = 11.625\n",
            "key: R=50, C=10, score = 13.713\n",
            "epoch = 5\n",
            "validation_losses = 14.4437\n",
            "key: R=5, C=20, score = 13.881\n",
            "key: R=50, C=20, score = 11.81\n",
            "key: R=5, C=10, score = 17.009\n",
            "key: R=20, C=50, score = 11.674\n",
            "key: R=20, C=10, score = 17.25\n",
            "key: R=50, C=50, score = 15.064\n",
            "key: R=20, C=20, score = 14.066\n",
            "key: R=5, C=50, score = 10.973\n",
            "key: R=50, C=10, score = 13.28\n",
            "epoch = 6\n",
            "validation_losses = 13.8896\n",
            "key: R=5, C=20, score = 13.28\n",
            "key: R=50, C=20, score = 11.341\n",
            "key: R=5, C=10, score = 16.463\n",
            "key: R=20, C=50, score = 11.088\n",
            "key: R=20, C=10, score = 16.682\n",
            "key: R=50, C=50, score = 14.6\n",
            "key: R=20, C=20, score = 13.555\n",
            "key: R=5, C=50, score = 10.242\n",
            "key: R=50, C=10, score = 12.845\n",
            "epoch = 7\n",
            "validation_losses = 13.3441\n",
            "key: R=5, C=20, score = 12.763\n",
            "key: R=50, C=20, score = 10.94\n",
            "key: R=5, C=10, score = 16.036\n",
            "key: R=20, C=50, score = 10.563\n",
            "key: R=20, C=10, score = 16.152\n",
            "key: R=50, C=50, score = 14.211\n",
            "key: R=20, C=20, score = 13.116\n",
            "key: R=5, C=50, score = 9.815\n",
            "key: R=50, C=10, score = 12.433\n",
            "epoch = 8\n",
            "validation_losses = 12.8922\n",
            "key: R=5, C=20, score = 12.449\n",
            "key: R=50, C=20, score = 10.544\n",
            "key: R=5, C=10, score = 15.656\n",
            "key: R=20, C=50, score = 10.144\n",
            "key: R=20, C=10, score = 15.741\n",
            "key: R=50, C=50, score = 13.849\n",
            "key: R=20, C=20, score = 12.784\n",
            "key: R=5, C=50, score = 9.507\n",
            "key: R=50, C=10, score = 12.141\n",
            "epoch = 9\n",
            "validation_losses = 12.535\n",
            "key: R=5, C=20, score = 12.162\n",
            "key: R=50, C=20, score = 10.251\n",
            "key: R=5, C=10, score = 15.336\n",
            "key: R=20, C=50, score = 9.805\n",
            "key: R=20, C=10, score = 15.418\n",
            "key: R=50, C=50, score = 13.604\n",
            "key: R=20, C=20, score = 12.474\n",
            "key: R=5, C=50, score = 9.239\n",
            "key: R=50, C=10, score = 11.97\n",
            "epoch = 10\n",
            "validation_losses = 12.2511\n",
            "key: R=5, C=20, score = 11.893\n",
            "key: R=50, C=20, score = 9.989\n",
            "key: R=5, C=10, score = 15.053\n",
            "key: R=20, C=50, score = 9.535\n",
            "key: R=20, C=10, score = 15.189\n",
            "key: R=50, C=50, score = 13.456\n",
            "key: R=20, C=20, score = 12.205\n",
            "key: R=5, C=50, score = 8.941\n",
            "key: R=50, C=10, score = 11.872\n",
            "epoch = 11\n",
            "validation_losses = 12.0147\n",
            "key: R=5, C=20, score = 11.598\n",
            "key: R=50, C=20, score = 9.832\n",
            "key: R=5, C=10, score = 14.814\n",
            "key: R=20, C=50, score = 9.369\n",
            "key: R=20, C=10, score = 14.997\n",
            "key: R=50, C=50, score = 13.356\n",
            "key: R=20, C=20, score = 11.961\n",
            "key: R=5, C=50, score = 8.737\n",
            "key: R=50, C=10, score = 11.804\n",
            "epoch = 12\n",
            "validation_losses = 11.8297\n",
            "key: R=5, C=20, score = 11.335\n",
            "key: R=50, C=20, score = 9.729\n",
            "key: R=5, C=10, score = 14.576\n",
            "key: R=20, C=50, score = 9.205\n",
            "key: R=20, C=10, score = 14.866\n",
            "key: R=50, C=50, score = 13.289\n",
            "key: R=20, C=20, score = 11.841\n",
            "key: R=5, C=50, score = 8.601\n",
            "key: R=50, C=10, score = 11.758\n",
            "epoch = 13\n",
            "validation_losses = 11.6888\n",
            "key: R=5, C=20, score = 11.122\n",
            "key: R=50, C=20, score = 9.642\n",
            "key: R=5, C=10, score = 14.397\n",
            "key: R=20, C=50, score = 9.043\n",
            "key: R=20, C=10, score = 14.709\n",
            "key: R=50, C=50, score = 13.235\n",
            "key: R=20, C=20, score = 11.687\n",
            "key: R=5, C=50, score = 8.451\n",
            "key: R=50, C=10, score = 11.707\n",
            "epoch = 14\n",
            "validation_losses = 11.5548\n",
            "key: R=5, C=20, score = 10.937\n",
            "key: R=50, C=20, score = 9.575\n",
            "key: R=5, C=10, score = 14.22\n",
            "key: R=20, C=50, score = 8.953\n",
            "key: R=20, C=10, score = 14.61\n",
            "key: R=50, C=50, score = 13.152\n",
            "key: R=20, C=20, score = 11.587\n",
            "key: R=5, C=50, score = 8.305\n",
            "key: R=50, C=10, score = 11.658\n",
            "epoch = 15\n",
            "validation_losses = 11.4441\n",
            "key: R=5, C=20, score = 10.741\n",
            "key: R=50, C=20, score = 9.536\n",
            "key: R=5, C=10, score = 14.126\n",
            "key: R=20, C=50, score = 8.909\n",
            "key: R=20, C=10, score = 14.491\n",
            "key: R=50, C=50, score = 13.121\n",
            "key: R=20, C=20, score = 11.462\n",
            "key: R=5, C=50, score = 8.16\n",
            "key: R=50, C=10, score = 11.626\n",
            "epoch = 16\n",
            "validation_losses = 11.3525\n",
            "key: R=5, C=20, score = 10.537\n",
            "key: R=50, C=20, score = 9.502\n",
            "key: R=5, C=10, score = 14.044\n",
            "key: R=20, C=50, score = 8.831\n",
            "key: R=20, C=10, score = 14.408\n",
            "key: R=50, C=50, score = 13.072\n",
            "key: R=20, C=20, score = 11.415\n",
            "key: R=5, C=50, score = 8.069\n",
            "key: R=50, C=10, score = 11.619\n",
            "epoch = 17\n",
            "validation_losses = 11.2775\n",
            "key: R=5, C=20, score = 10.424\n",
            "key: R=50, C=20, score = 9.476\n",
            "key: R=5, C=10, score = 14.015\n",
            "key: R=20, C=50, score = 8.767\n",
            "key: R=20, C=10, score = 14.402\n",
            "key: R=50, C=50, score = 13.034\n",
            "key: R=20, C=20, score = 11.392\n",
            "key: R=5, C=50, score = 8.018\n",
            "key: R=50, C=10, score = 11.613\n",
            "epoch = 18\n",
            "validation_losses = 11.2378\n",
            "key: R=5, C=20, score = 10.326\n",
            "key: R=50, C=20, score = 9.463\n",
            "key: R=5, C=10, score = 13.976\n",
            "key: R=20, C=50, score = 8.736\n",
            "key: R=20, C=10, score = 14.402\n",
            "key: R=50, C=50, score = 12.997\n",
            "key: R=20, C=20, score = 11.386\n",
            "key: R=5, C=50, score = 7.966\n",
            "key: R=50, C=10, score = 11.608\n",
            "epoch = 19\n",
            "validation_losses = 11.2065\n",
            "key: R=5, C=20, score = 10.255\n",
            "key: R=50, C=20, score = 9.458\n",
            "key: R=5, C=10, score = 13.946\n",
            "key: R=20, C=50, score = 8.699\n",
            "key: R=20, C=10, score = 14.402\n",
            "key: R=50, C=50, score = 12.932\n",
            "key: R=20, C=20, score = 11.379\n",
            "key: R=5, C=50, score = 7.924\n",
            "key: R=50, C=10, score = 11.608\n",
            "epoch = 20\n",
            "validation_losses = 11.1781\n",
            "key: R=5, C=20, score = 10.204\n",
            "key: R=50, C=20, score = 9.458\n",
            "key: R=5, C=10, score = 13.918\n",
            "key: R=20, C=50, score = 8.695\n",
            "key: R=20, C=10, score = 14.402\n",
            "key: R=50, C=50, score = 12.852\n",
            "key: R=20, C=20, score = 11.37\n",
            "key: R=5, C=50, score = 7.87\n",
            "key: R=50, C=10, score = 11.608\n",
            "epoch = 21\n",
            "validation_losses = 11.153\n",
            "key: R=5, C=20, score = 10.157\n",
            "key: R=50, C=20, score = 9.458\n",
            "key: R=5, C=10, score = 13.899\n",
            "key: R=20, C=50, score = 8.695\n",
            "key: R=20, C=10, score = 14.402\n",
            "key: R=50, C=50, score = 12.786\n",
            "key: R=20, C=20, score = 11.352\n",
            "key: R=5, C=50, score = 7.82\n",
            "key: R=50, C=10, score = 11.608\n",
            "epoch = 22\n",
            "validation_losses = 11.1307\n",
            "key: R=5, C=20, score = 10.123\n",
            "key: R=50, C=20, score = 9.458\n",
            "key: R=5, C=10, score = 13.882\n",
            "key: R=20, C=50, score = 8.694\n",
            "key: R=20, C=10, score = 14.402\n",
            "key: R=50, C=50, score = 12.724\n",
            "key: R=20, C=20, score = 11.34\n",
            "key: R=5, C=50, score = 7.786\n",
            "key: R=50, C=10, score = 11.601\n",
            "epoch = 23\n",
            "validation_losses = 11.1123\n",
            "key: R=5, C=20, score = 10.1\n",
            "key: R=50, C=20, score = 9.458\n",
            "key: R=5, C=10, score = 13.866\n",
            "key: R=20, C=50, score = 8.653\n",
            "key: R=20, C=10, score = 14.402\n",
            "key: R=50, C=50, score = 12.69\n",
            "key: R=20, C=20, score = 11.323\n",
            "key: R=5, C=50, score = 7.754\n",
            "key: R=50, C=10, score = 11.586\n",
            "epoch = 24\n",
            "validation_losses = 11.0925\n",
            "key: R=5, C=20, score = 10.085\n",
            "key: R=50, C=20, score = 9.458\n",
            "key: R=5, C=10, score = 13.866\n",
            "key: R=20, C=50, score = 8.634\n",
            "key: R=20, C=10, score = 14.402\n",
            "key: R=50, C=50, score = 12.67\n",
            "key: R=20, C=20, score = 11.306\n",
            "key: R=5, C=50, score = 7.716\n",
            "key: R=50, C=10, score = 11.586\n",
            "epoch = 25\n",
            "validation_losses = 11.0804\n",
            "key: R=5, C=20, score = 10.085\n",
            "key: R=50, C=20, score = 9.458\n",
            "key: R=5, C=10, score = 13.866\n",
            "key: R=20, C=50, score = 8.618\n",
            "key: R=20, C=10, score = 14.402\n",
            "key: R=50, C=50, score = 12.657\n",
            "key: R=20, C=20, score = 11.29\n",
            "key: R=5, C=50, score = 7.661\n",
            "key: R=50, C=10, score = 11.574\n",
            "epoch = 26\n",
            "validation_losses = 11.0679\n",
            "key: R=5, C=20, score = 10.085\n",
            "key: R=50, C=20, score = 9.458\n",
            "key: R=5, C=10, score = 13.866\n",
            "key: R=20, C=50, score = 8.611\n",
            "key: R=20, C=10, score = 14.402\n",
            "key: R=50, C=50, score = 12.642\n",
            "key: R=20, C=20, score = 11.264\n",
            "key: R=5, C=50, score = 7.625\n",
            "key: R=50, C=10, score = 11.535\n",
            "epoch = 27\n",
            "validation_losses = 11.0544\n",
            "key: R=5, C=20, score = 10.074\n",
            "key: R=50, C=20, score = 9.458\n",
            "key: R=5, C=10, score = 13.866\n",
            "key: R=20, C=50, score = 8.607\n",
            "key: R=20, C=10, score = 14.402\n",
            "key: R=50, C=50, score = 12.603\n",
            "key: R=20, C=20, score = 11.247\n",
            "key: R=5, C=50, score = 7.594\n",
            "key: R=50, C=10, score = 11.529\n",
            "epoch = 28\n",
            "validation_losses = 11.0421\n",
            "key: R=5, C=20, score = 9.952\n",
            "key: R=50, C=20, score = 9.458\n",
            "key: R=5, C=10, score = 13.866\n",
            "key: R=20, C=50, score = 8.6\n",
            "key: R=20, C=10, score = 14.402\n",
            "key: R=50, C=50, score = 12.573\n",
            "key: R=20, C=20, score = 11.238\n",
            "key: R=5, C=50, score = 7.577\n",
            "key: R=50, C=10, score = 11.509\n",
            "epoch = 29\n",
            "validation_losses = 11.0194\n"
          ]
        },
        {
          "output_type": "stream",
          "name": "stderr",
          "text": [
            "┌ Info: Stopped training, time limit exceeded.\n",
            "└ @ Main In[19]:57\n"
          ]
        }
      ]
    },
    {
      "cell_type": "markdown",
      "source": [
        "## Evaluation\n",
        "\n",
        "Let's define a function to get score for data and use it to calculate the scores."
      ],
      "metadata": {
        "id": "cZbCr9UuUj8o"
      }
    },
    {
      "cell_type": "code",
      "source": [
        "\"\"\"\n",
        "    get_scores(dataset, models, ks, type::Symbol=:val)\n",
        "\n",
        "Calculates the scores for all models and all 9 subsets of datasets.\n",
        "Variable `type` controls whether to use train, validation or test data.\n",
        "Returns a vector of scores (without R, C combination).\n",
        "\"\"\"\n",
        "function get_scores(dataset, models, ks, type::Symbol=:val)\n",
        "    scores = Dict([(k, 0f0) for k in keys(dataset)])\n",
        "    \n",
        "    Threads.@threads for i in 1:9\n",
        "        # model based on key\n",
        "        m = models[ks[i]]\n",
        "\n",
        "        # score\n",
        "        Xv, Yv = dataset[ks[i]][type]\n",
        "        num = Dict(:train => 1, :val => 2, :test => 3)\n",
        "        Bv = dataset[ks[i]][:B][num[type]]\n",
        "        score = mean(map((x, y, b) -> score_model(m, x, y, b), Xv, Yv, Bv))\n",
        "        \n",
        "        scores[ks[i]] = score\n",
        "    end\n",
        "    \n",
        "    return scores\n",
        "end"
      ],
      "metadata": {
        "colab": {
          "base_uri": "https://localhost:8080/"
        },
        "id": "JIFjbd57Urwu",
        "outputId": "3284d343-bb21-4308-c0fa-48a16dca5161"
      },
      "execution_count": 14,
      "outputs": [
        {
          "output_type": "execute_result",
          "data": {
            "text/plain": [
              "get_scores"
            ]
          },
          "metadata": {},
          "execution_count": 14
        }
      ]
    },
    {
      "cell_type": "code",
      "source": [
        "# calculate train, validation, test scores\n",
        "train_sc = get_scores(dataset, best_models, ks, :train)\n",
        "val_sc = get_scores(dataset, best_models, ks, :val)\n",
        "test_sc = get_scores(dataset, best_models, ks, :test)\n",
        "\n",
        "train, val, test = map(x -> mean(values(x)), [train_sc, val_sc, test_sc])\n",
        "\n",
        "println(\"\"\"\n",
        "\n",
        "Training finished with the following results:\n",
        "\n",
        "train score      = $(round(train, digits=4))\n",
        "validation score = $(round(val, digits=4))\n",
        "test score       = $(round(test, digits=4))\n",
        "\"\"\")\n"
      ],
      "metadata": {
        "colab": {
          "base_uri": "https://localhost:8080/"
        },
        "id": "T9-OLBIWUs8E",
        "outputId": "5a846d5c-d2c7-4933-9084-8f0f04f9c283"
      },
      "execution_count": 42,
      "outputs": [
        {
          "output_type": "stream",
          "name": "stdout",
          "text": [
            "\n",
            "Training finished with the following results:\n",
            "\n",
            "train score      = 10.8355\n",
            "validation score = 11.0194\n",
            "test score       = 10.628\n",
            "\n"
          ]
        }
      ]
    },
    {
      "cell_type": "markdown",
      "source": [
        "## Visualization\n",
        "\n",
        "Now that we have trained our model, we can also see visually the sequences and how our model predicts the data vs real values."
      ],
      "metadata": {
        "id": "D2GwGjg3cQAS"
      }
    },
    {
      "cell_type": "code",
      "source": [
        "using Plots\n",
        "function plot_sequences(dataset, models, ks, type=:train; seed = 1)\n",
        "    # set seed\n",
        "    Random.seed!(seed)\n",
        "\n",
        "    # sample sequence\n",
        "    ix9 = sample(1:9)\n",
        "    ix = sample(1:15)\n",
        "    _d = dataset[ks[ix9]][type][1][ix]\n",
        "    d = hcat(_d...)\n",
        "\n",
        "    # model\n",
        "    m = models[ks[ix9]]\n",
        "    # time\n",
        "    t = d[1,:]\n",
        "    # u_in\n",
        "    u = d[2,:]\n",
        "    # pressure\n",
        "    p = vcat(dataset[ks[ix9]][type][2][ix]...)\n",
        "\n",
        "    # make model prediction\n",
        "    pred = predict(m, _d)\n",
        "\n",
        "    # plot sequences\n",
        "    plot(t, p, marker=:circle, label=\"true\", title=ks[ix9])\n",
        "    plot!(t, pred, marker=:square, label=\"prediction\")\n",
        "end"
      ],
      "metadata": {
        "colab": {
          "base_uri": "https://localhost:8080/"
        },
        "id": "4vj2ldHggvc2",
        "outputId": "10b01c30-0f6e-4464-9d6a-0b6693e5ecc0"
      },
      "execution_count": 39,
      "outputs": [
        {
          "output_type": "execute_result",
          "data": {
            "text/plain": [
              "plot_sequences (generic function with 3 methods)"
            ]
          },
          "metadata": {},
          "execution_count": 39
        }
      ]
    },
    {
      "cell_type": "code",
      "source": [
        "plot_sequences(dataset, models, ks, :test, seed = 10)"
      ],
      "metadata": {
        "colab": {
          "base_uri": "https://localhost:8080/",
          "height": 421
        },
        "id": "7_5L7C0geuOo",
        "outputId": "d0c92de0-c2b5-46b5-a46d-310806e88eda"
      },
      "execution_count": 43,
      "outputs": [
        {
          "output_type": "execute_result",
          "data": {
            "image/svg+xml": "<?xml version=\"1.0\" encoding=\"utf-8\"?>\n<svg xmlns=\"http://www.w3.org/2000/svg\" xmlns:xlink=\"http://www.w3.org/1999/xlink\" width=\"600\" height=\"400\" viewBox=\"0 0 2400 1600\">\n<defs>\n  <clipPath id=\"clip150\">\n    <rect x=\"0\" y=\"0\" width=\"2400\" height=\"1600\"/>\n  </clipPath>\n</defs>\n<path clip-path=\"url(#clip150)\" d=\"\nM0 1600 L2400 1600 L2400 0 L0 0  Z\n  \" fill=\"#ffffff\" fill-rule=\"evenodd\" fill-opacity=\"1\"/>\n<defs>\n  <clipPath id=\"clip151\">\n    <rect x=\"480\" y=\"0\" width=\"1681\" height=\"1600\"/>\n  </clipPath>\n</defs>\n<path clip-path=\"url(#clip150)\" d=\"\nM138.959 1486.45 L2352.76 1486.45 L2352.76 123.472 L138.959 123.472  Z\n  \" fill=\"#ffffff\" fill-rule=\"evenodd\" fill-opacity=\"1\"/>\n<defs>\n  <clipPath id=\"clip152\">\n    <rect x=\"138\" y=\"123\" width=\"2215\" height=\"1364\"/>\n  </clipPath>\n</defs>\n<polyline clip-path=\"url(#clip152)\" style=\"stroke:#000000; stroke-linecap:butt; stroke-linejoin:round; stroke-width:2; stroke-opacity:0.1; fill:none\" points=\"\n  201.614,1486.45 201.614,123.472 \n  \"/>\n<polyline clip-path=\"url(#clip152)\" style=\"stroke:#000000; stroke-linecap:butt; stroke-linejoin:round; stroke-width:2; stroke-opacity:0.1; fill:none\" points=\"\n  618.583,1486.45 618.583,123.472 \n  \"/>\n<polyline clip-path=\"url(#clip152)\" style=\"stroke:#000000; stroke-linecap:butt; stroke-linejoin:round; stroke-width:2; stroke-opacity:0.1; fill:none\" points=\"\n  1035.55,1486.45 1035.55,123.472 \n  \"/>\n<polyline clip-path=\"url(#clip152)\" style=\"stroke:#000000; stroke-linecap:butt; stroke-linejoin:round; stroke-width:2; stroke-opacity:0.1; fill:none\" points=\"\n  1452.52,1486.45 1452.52,123.472 \n  \"/>\n<polyline clip-path=\"url(#clip152)\" style=\"stroke:#000000; stroke-linecap:butt; stroke-linejoin:round; stroke-width:2; stroke-opacity:0.1; fill:none\" points=\"\n  1869.49,1486.45 1869.49,123.472 \n  \"/>\n<polyline clip-path=\"url(#clip152)\" style=\"stroke:#000000; stroke-linecap:butt; stroke-linejoin:round; stroke-width:2; stroke-opacity:0.1; fill:none\" points=\"\n  2286.46,1486.45 2286.46,123.472 \n  \"/>\n<polyline clip-path=\"url(#clip150)\" style=\"stroke:#000000; stroke-linecap:butt; stroke-linejoin:round; stroke-width:4; stroke-opacity:1; fill:none\" points=\"\n  138.959,1486.45 2352.76,1486.45 \n  \"/>\n<polyline clip-path=\"url(#clip150)\" style=\"stroke:#000000; stroke-linecap:butt; stroke-linejoin:round; stroke-width:4; stroke-opacity:1; fill:none\" points=\"\n  201.614,1486.45 201.614,1467.55 \n  \"/>\n<polyline clip-path=\"url(#clip150)\" style=\"stroke:#000000; stroke-linecap:butt; stroke-linejoin:round; stroke-width:4; stroke-opacity:1; fill:none\" points=\"\n  618.583,1486.45 618.583,1467.55 \n  \"/>\n<polyline clip-path=\"url(#clip150)\" style=\"stroke:#000000; stroke-linecap:butt; stroke-linejoin:round; stroke-width:4; stroke-opacity:1; fill:none\" points=\"\n  1035.55,1486.45 1035.55,1467.55 \n  \"/>\n<polyline clip-path=\"url(#clip150)\" style=\"stroke:#000000; stroke-linecap:butt; stroke-linejoin:round; stroke-width:4; stroke-opacity:1; fill:none\" points=\"\n  1452.52,1486.45 1452.52,1467.55 \n  \"/>\n<polyline clip-path=\"url(#clip150)\" style=\"stroke:#000000; stroke-linecap:butt; stroke-linejoin:round; stroke-width:4; stroke-opacity:1; fill:none\" points=\"\n  1869.49,1486.45 1869.49,1467.55 \n  \"/>\n<polyline clip-path=\"url(#clip150)\" style=\"stroke:#000000; stroke-linecap:butt; stroke-linejoin:round; stroke-width:4; stroke-opacity:1; fill:none\" points=\"\n  2286.46,1486.45 2286.46,1467.55 \n  \"/>\n<path clip-path=\"url(#clip150)\" d=\"M178.998 1517.37 Q175.387 1517.37 173.559 1520.93 Q171.753 1524.47 171.753 1531.6 Q171.753 1538.71 173.559 1542.27 Q175.387 1545.82 178.998 1545.82 Q182.633 1545.82 184.438 1542.27 Q186.267 1538.71 186.267 1531.6 Q186.267 1524.47 184.438 1520.93 Q182.633 1517.37 178.998 1517.37 M178.998 1513.66 Q184.809 1513.66 187.864 1518.27 Q190.943 1522.85 190.943 1531.6 Q190.943 1540.33 187.864 1544.94 Q184.809 1549.52 178.998 1549.52 Q173.188 1549.52 170.11 1544.94 Q167.054 1540.33 167.054 1531.6 Q167.054 1522.85 170.11 1518.27 Q173.188 1513.66 178.998 1513.66 Z\" fill=\"#000000\" fill-rule=\"evenodd\" fill-opacity=\"1\" /><path clip-path=\"url(#clip150)\" d=\"M199.16 1542.97 L204.045 1542.97 L204.045 1548.85 L199.16 1548.85 L199.16 1542.97 Z\" fill=\"#000000\" fill-rule=\"evenodd\" fill-opacity=\"1\" /><path clip-path=\"url(#clip150)\" d=\"M224.23 1517.37 Q220.619 1517.37 218.79 1520.93 Q216.984 1524.47 216.984 1531.6 Q216.984 1538.71 218.79 1542.27 Q220.619 1545.82 224.23 1545.82 Q227.864 1545.82 229.669 1542.27 Q231.498 1538.71 231.498 1531.6 Q231.498 1524.47 229.669 1520.93 Q227.864 1517.37 224.23 1517.37 M224.23 1513.66 Q230.04 1513.66 233.095 1518.27 Q236.174 1522.85 236.174 1531.6 Q236.174 1540.33 233.095 1544.94 Q230.04 1549.52 224.23 1549.52 Q218.42 1549.52 215.341 1544.94 Q212.285 1540.33 212.285 1531.6 Q212.285 1522.85 215.341 1518.27 Q218.42 1513.66 224.23 1513.66 Z\" fill=\"#000000\" fill-rule=\"evenodd\" fill-opacity=\"1\" /><path clip-path=\"url(#clip150)\" d=\"M596.465 1517.37 Q592.854 1517.37 591.025 1520.93 Q589.22 1524.47 589.22 1531.6 Q589.22 1538.71 591.025 1542.27 Q592.854 1545.82 596.465 1545.82 Q600.099 1545.82 601.905 1542.27 Q603.734 1538.71 603.734 1531.6 Q603.734 1524.47 601.905 1520.93 Q600.099 1517.37 596.465 1517.37 M596.465 1513.66 Q602.275 1513.66 605.331 1518.27 Q608.409 1522.85 608.409 1531.6 Q608.409 1540.33 605.331 1544.94 Q602.275 1549.52 596.465 1549.52 Q590.655 1549.52 587.576 1544.94 Q584.521 1540.33 584.521 1531.6 Q584.521 1522.85 587.576 1518.27 Q590.655 1513.66 596.465 1513.66 Z\" fill=\"#000000\" fill-rule=\"evenodd\" fill-opacity=\"1\" /><path clip-path=\"url(#clip150)\" d=\"M616.627 1542.97 L621.511 1542.97 L621.511 1548.85 L616.627 1548.85 L616.627 1542.97 Z\" fill=\"#000000\" fill-rule=\"evenodd\" fill-opacity=\"1\" /><path clip-path=\"url(#clip150)\" d=\"M631.743 1514.29 L650.099 1514.29 L650.099 1518.22 L636.025 1518.22 L636.025 1526.7 Q637.044 1526.35 638.062 1526.19 Q639.081 1526 640.099 1526 Q645.886 1526 649.266 1529.17 Q652.645 1532.34 652.645 1537.76 Q652.645 1543.34 649.173 1546.44 Q645.701 1549.52 639.382 1549.52 Q637.206 1549.52 634.937 1549.15 Q632.692 1548.78 630.284 1548.04 L630.284 1543.34 Q632.368 1544.47 634.59 1545.03 Q636.812 1545.58 639.289 1545.58 Q643.294 1545.58 645.631 1543.48 Q647.969 1541.37 647.969 1537.76 Q647.969 1534.15 645.631 1532.04 Q643.294 1529.94 639.289 1529.94 Q637.414 1529.94 635.539 1530.35 Q633.687 1530.77 631.743 1531.65 L631.743 1514.29 Z\" fill=\"#000000\" fill-rule=\"evenodd\" fill-opacity=\"1\" /><path clip-path=\"url(#clip150)\" d=\"M1002.7 1544.91 L1010.34 1544.91 L1010.34 1518.55 L1002.03 1520.21 L1002.03 1515.95 L1010.3 1514.29 L1014.97 1514.29 L1014.97 1544.91 L1022.61 1544.91 L1022.61 1548.85 L1002.7 1548.85 L1002.7 1544.91 Z\" fill=\"#000000\" fill-rule=\"evenodd\" fill-opacity=\"1\" /><path clip-path=\"url(#clip150)\" d=\"M1032.06 1542.97 L1036.94 1542.97 L1036.94 1548.85 L1032.06 1548.85 L1032.06 1542.97 Z\" fill=\"#000000\" fill-rule=\"evenodd\" fill-opacity=\"1\" /><path clip-path=\"url(#clip150)\" d=\"M1057.13 1517.37 Q1053.51 1517.37 1051.69 1520.93 Q1049.88 1524.47 1049.88 1531.6 Q1049.88 1538.71 1051.69 1542.27 Q1053.51 1545.82 1057.13 1545.82 Q1060.76 1545.82 1062.57 1542.27 Q1064.39 1538.71 1064.39 1531.6 Q1064.39 1524.47 1062.57 1520.93 Q1060.76 1517.37 1057.13 1517.37 M1057.13 1513.66 Q1062.94 1513.66 1065.99 1518.27 Q1069.07 1522.85 1069.07 1531.6 Q1069.07 1540.33 1065.99 1544.94 Q1062.94 1549.52 1057.13 1549.52 Q1051.32 1549.52 1048.24 1544.94 Q1045.18 1540.33 1045.18 1531.6 Q1045.18 1522.85 1048.24 1518.27 Q1051.32 1513.66 1057.13 1513.66 Z\" fill=\"#000000\" fill-rule=\"evenodd\" fill-opacity=\"1\" /><path clip-path=\"url(#clip150)\" d=\"M1420.17 1544.91 L1427.81 1544.91 L1427.81 1518.55 L1419.5 1520.21 L1419.5 1515.95 L1427.76 1514.29 L1432.44 1514.29 L1432.44 1544.91 L1440.08 1544.91 L1440.08 1548.85 L1420.17 1548.85 L1420.17 1544.91 Z\" fill=\"#000000\" fill-rule=\"evenodd\" fill-opacity=\"1\" /><path clip-path=\"url(#clip150)\" d=\"M1449.52 1542.97 L1454.41 1542.97 L1454.41 1548.85 L1449.52 1548.85 L1449.52 1542.97 Z\" fill=\"#000000\" fill-rule=\"evenodd\" fill-opacity=\"1\" /><path clip-path=\"url(#clip150)\" d=\"M1464.64 1514.29 L1483 1514.29 L1483 1518.22 L1468.92 1518.22 L1468.92 1526.7 Q1469.94 1526.35 1470.96 1526.19 Q1471.98 1526 1473 1526 Q1478.78 1526 1482.16 1529.17 Q1485.54 1532.34 1485.54 1537.76 Q1485.54 1543.34 1482.07 1546.44 Q1478.6 1549.52 1472.28 1549.52 Q1470.1 1549.52 1467.83 1549.15 Q1465.59 1548.78 1463.18 1548.04 L1463.18 1543.34 Q1465.26 1544.47 1467.49 1545.03 Q1469.71 1545.58 1472.19 1545.58 Q1476.19 1545.58 1478.53 1543.48 Q1480.87 1541.37 1480.87 1537.76 Q1480.87 1534.15 1478.53 1532.04 Q1476.19 1529.94 1472.19 1529.94 Q1470.31 1529.94 1468.44 1530.35 Q1466.58 1530.77 1464.64 1531.65 L1464.64 1514.29 Z\" fill=\"#000000\" fill-rule=\"evenodd\" fill-opacity=\"1\" /><path clip-path=\"url(#clip150)\" d=\"M1840.73 1544.91 L1857.05 1544.91 L1857.05 1548.85 L1835.1 1548.85 L1835.1 1544.91 Q1837.77 1542.16 1842.35 1537.53 Q1846.96 1532.88 1848.14 1531.53 Q1850.38 1529.01 1851.26 1527.27 Q1852.16 1525.51 1852.16 1523.82 Q1852.16 1521.07 1850.22 1519.33 Q1848.3 1517.6 1845.2 1517.6 Q1843 1517.6 1840.54 1518.36 Q1838.11 1519.13 1835.33 1520.68 L1835.33 1515.95 Q1838.16 1514.82 1840.61 1514.24 Q1843.07 1513.66 1845.1 1513.66 Q1850.47 1513.66 1853.67 1516.35 Q1856.86 1519.03 1856.86 1523.52 Q1856.86 1525.65 1856.05 1527.57 Q1855.27 1529.47 1853.16 1532.07 Q1852.58 1532.74 1849.48 1535.95 Q1846.38 1539.15 1840.73 1544.91 Z\" fill=\"#000000\" fill-rule=\"evenodd\" fill-opacity=\"1\" /><path clip-path=\"url(#clip150)\" d=\"M1866.86 1542.97 L1871.75 1542.97 L1871.75 1548.85 L1866.86 1548.85 L1866.86 1542.97 Z\" fill=\"#000000\" fill-rule=\"evenodd\" fill-opacity=\"1\" /><path clip-path=\"url(#clip150)\" d=\"M1891.93 1517.37 Q1888.32 1517.37 1886.49 1520.93 Q1884.69 1524.47 1884.69 1531.6 Q1884.69 1538.71 1886.49 1542.27 Q1888.32 1545.82 1891.93 1545.82 Q1895.57 1545.82 1897.37 1542.27 Q1899.2 1538.71 1899.2 1531.6 Q1899.2 1524.47 1897.37 1520.93 Q1895.57 1517.37 1891.93 1517.37 M1891.93 1513.66 Q1897.74 1513.66 1900.8 1518.27 Q1903.88 1522.85 1903.88 1531.6 Q1903.88 1540.33 1900.8 1544.94 Q1897.74 1549.52 1891.93 1549.52 Q1886.12 1549.52 1883.04 1544.94 Q1879.99 1540.33 1879.99 1531.6 Q1879.99 1522.85 1883.04 1518.27 Q1886.12 1513.66 1891.93 1513.66 Z\" fill=\"#000000\" fill-rule=\"evenodd\" fill-opacity=\"1\" /><path clip-path=\"url(#clip150)\" d=\"M2258.2 1544.91 L2274.51 1544.91 L2274.51 1548.85 L2252.57 1548.85 L2252.57 1544.91 Q2255.23 1542.16 2259.82 1537.53 Q2264.42 1532.88 2265.6 1531.53 Q2267.85 1529.01 2268.73 1527.27 Q2269.63 1525.51 2269.63 1523.82 Q2269.63 1521.07 2267.69 1519.33 Q2265.76 1517.6 2262.66 1517.6 Q2260.46 1517.6 2258.01 1518.36 Q2255.58 1519.13 2252.8 1520.68 L2252.8 1515.95 Q2255.63 1514.82 2258.08 1514.24 Q2260.53 1513.66 2262.57 1513.66 Q2267.94 1513.66 2271.13 1516.35 Q2274.33 1519.03 2274.33 1523.52 Q2274.33 1525.65 2273.52 1527.57 Q2272.73 1529.47 2270.63 1532.07 Q2270.05 1532.74 2266.95 1535.95 Q2263.84 1539.15 2258.2 1544.91 Z\" fill=\"#000000\" fill-rule=\"evenodd\" fill-opacity=\"1\" /><path clip-path=\"url(#clip150)\" d=\"M2284.33 1542.97 L2289.21 1542.97 L2289.21 1548.85 L2284.33 1548.85 L2284.33 1542.97 Z\" fill=\"#000000\" fill-rule=\"evenodd\" fill-opacity=\"1\" /><path clip-path=\"url(#clip150)\" d=\"M2299.44 1514.29 L2317.8 1514.29 L2317.8 1518.22 L2303.73 1518.22 L2303.73 1526.7 Q2304.75 1526.35 2305.76 1526.19 Q2306.78 1526 2307.8 1526 Q2313.59 1526 2316.97 1529.17 Q2320.35 1532.34 2320.35 1537.76 Q2320.35 1543.34 2316.88 1546.44 Q2313.4 1549.52 2307.08 1549.52 Q2304.91 1549.52 2302.64 1549.15 Q2300.39 1548.78 2297.99 1548.04 L2297.99 1543.34 Q2300.07 1544.47 2302.29 1545.03 Q2304.51 1545.58 2306.99 1545.58 Q2311 1545.58 2313.33 1543.48 Q2315.67 1541.37 2315.67 1537.76 Q2315.67 1534.15 2313.33 1532.04 Q2311 1529.94 2306.99 1529.94 Q2305.12 1529.94 2303.24 1530.35 Q2301.39 1530.77 2299.44 1531.65 L2299.44 1514.29 Z\" fill=\"#000000\" fill-rule=\"evenodd\" fill-opacity=\"1\" /><polyline clip-path=\"url(#clip152)\" style=\"stroke:#000000; stroke-linecap:butt; stroke-linejoin:round; stroke-width:2; stroke-opacity:0.1; fill:none\" points=\"\n  138.959,1269.37 2352.76,1269.37 \n  \"/>\n<polyline clip-path=\"url(#clip152)\" style=\"stroke:#000000; stroke-linecap:butt; stroke-linejoin:round; stroke-width:2; stroke-opacity:0.1; fill:none\" points=\"\n  138.959,965.556 2352.76,965.556 \n  \"/>\n<polyline clip-path=\"url(#clip152)\" style=\"stroke:#000000; stroke-linecap:butt; stroke-linejoin:round; stroke-width:2; stroke-opacity:0.1; fill:none\" points=\"\n  138.959,661.744 2352.76,661.744 \n  \"/>\n<polyline clip-path=\"url(#clip152)\" style=\"stroke:#000000; stroke-linecap:butt; stroke-linejoin:round; stroke-width:2; stroke-opacity:0.1; fill:none\" points=\"\n  138.959,357.933 2352.76,357.933 \n  \"/>\n<polyline clip-path=\"url(#clip150)\" style=\"stroke:#000000; stroke-linecap:butt; stroke-linejoin:round; stroke-width:4; stroke-opacity:1; fill:none\" points=\"\n  138.959,1486.45 138.959,123.472 \n  \"/>\n<polyline clip-path=\"url(#clip150)\" style=\"stroke:#000000; stroke-linecap:butt; stroke-linejoin:round; stroke-width:4; stroke-opacity:1; fill:none\" points=\"\n  138.959,1269.37 157.857,1269.37 \n  \"/>\n<polyline clip-path=\"url(#clip150)\" style=\"stroke:#000000; stroke-linecap:butt; stroke-linejoin:round; stroke-width:4; stroke-opacity:1; fill:none\" points=\"\n  138.959,965.556 157.857,965.556 \n  \"/>\n<polyline clip-path=\"url(#clip150)\" style=\"stroke:#000000; stroke-linecap:butt; stroke-linejoin:round; stroke-width:4; stroke-opacity:1; fill:none\" points=\"\n  138.959,661.744 157.857,661.744 \n  \"/>\n<polyline clip-path=\"url(#clip150)\" style=\"stroke:#000000; stroke-linecap:butt; stroke-linejoin:round; stroke-width:4; stroke-opacity:1; fill:none\" points=\"\n  138.959,357.933 157.857,357.933 \n  \"/>\n<path clip-path=\"url(#clip150)\" d=\"M91.4317 1267.5 Q88.2836 1267.5 86.4318 1269.66 Q84.6031 1271.81 84.6031 1275.56 Q84.6031 1279.29 86.4318 1281.46 Q88.2836 1283.62 91.4317 1283.62 Q94.5799 1283.62 96.4085 1281.46 Q98.2604 1279.29 98.2604 1275.56 Q98.2604 1271.81 96.4085 1269.66 Q94.5799 1267.5 91.4317 1267.5 M100.714 1252.85 L100.714 1257.11 Q98.9548 1256.28 97.1493 1255.84 Q95.3669 1255.4 93.6076 1255.4 Q88.978 1255.4 86.5243 1258.52 Q84.0938 1261.65 83.7466 1267.97 Q85.1123 1265.95 87.1725 1264.89 Q89.2327 1263.8 91.7095 1263.8 Q96.9178 1263.8 99.927 1266.97 Q102.959 1270.12 102.959 1275.56 Q102.959 1280.88 99.8113 1284.1 Q96.6632 1287.32 91.4317 1287.32 Q85.4364 1287.32 82.2651 1282.74 Q79.0938 1278.13 79.0938 1269.4 Q79.0938 1261.21 82.9827 1256.35 Q86.8716 1251.46 93.4225 1251.46 Q95.1817 1251.46 96.9641 1251.81 Q98.7696 1252.16 100.714 1252.85 Z\" fill=\"#000000\" fill-rule=\"evenodd\" fill-opacity=\"1\" /><path clip-path=\"url(#clip150)\" d=\"M91.1077 966.424 Q87.7743 966.424 85.8531 968.207 Q83.9549 969.989 83.9549 973.114 Q83.9549 976.239 85.8531 978.021 Q87.7743 979.804 91.1077 979.804 Q94.441 979.804 96.3623 978.021 Q98.2835 976.216 98.2835 973.114 Q98.2835 969.989 96.3623 968.207 Q94.4641 966.424 91.1077 966.424 M86.4318 964.433 Q83.4225 963.693 81.7327 961.633 Q80.066 959.572 80.066 956.609 Q80.066 952.466 83.0058 950.059 Q85.9688 947.651 91.1077 947.651 Q96.2697 947.651 99.2095 950.059 Q102.149 952.466 102.149 956.609 Q102.149 959.572 100.459 961.633 Q98.7928 963.693 95.8067 964.433 Q99.1863 965.22 101.061 967.512 Q102.959 969.804 102.959 973.114 Q102.959 978.137 99.8808 980.822 Q96.8252 983.507 91.1077 983.507 Q85.3901 983.507 82.3114 980.822 Q79.2559 978.137 79.2559 973.114 Q79.2559 969.804 81.154 967.512 Q83.0521 965.22 86.4318 964.433 M84.7188 957.049 Q84.7188 959.734 86.3855 961.239 Q88.0753 962.744 91.1077 962.744 Q94.1169 962.744 95.8067 961.239 Q97.5197 959.734 97.5197 957.049 Q97.5197 954.364 95.8067 952.859 Q94.1169 951.355 91.1077 951.355 Q88.0753 951.355 86.3855 952.859 Q84.7188 954.364 84.7188 957.049 Z\" fill=\"#000000\" fill-rule=\"evenodd\" fill-opacity=\"1\" /><path clip-path=\"url(#clip150)\" d=\"M51.6634 675.089 L59.3023 675.089 L59.3023 648.724 L50.9921 650.39 L50.9921 646.131 L59.256 644.464 L63.9319 644.464 L63.9319 675.089 L71.5707 675.089 L71.5707 679.024 L51.6634 679.024 L51.6634 675.089 Z\" fill=\"#000000\" fill-rule=\"evenodd\" fill-opacity=\"1\" /><path clip-path=\"url(#clip150)\" d=\"M91.0151 647.543 Q87.404 647.543 85.5753 651.108 Q83.7697 654.649 83.7697 661.779 Q83.7697 668.885 85.5753 672.45 Q87.404 675.992 91.0151 675.992 Q94.6493 675.992 96.4548 672.45 Q98.2835 668.885 98.2835 661.779 Q98.2835 654.649 96.4548 651.108 Q94.6493 647.543 91.0151 647.543 M91.0151 643.839 Q96.8252 643.839 99.8808 648.446 Q102.959 653.029 102.959 661.779 Q102.959 670.506 99.8808 675.112 Q96.8252 679.696 91.0151 679.696 Q85.2049 679.696 82.1262 675.112 Q79.0707 670.506 79.0707 661.779 Q79.0707 653.029 82.1262 648.446 Q85.2049 643.839 91.0151 643.839 Z\" fill=\"#000000\" fill-rule=\"evenodd\" fill-opacity=\"1\" /><path clip-path=\"url(#clip150)\" d=\"M53.2606 371.277 L60.8995 371.277 L60.8995 344.912 L52.5893 346.578 L52.5893 342.319 L60.8532 340.653 L65.5291 340.653 L65.5291 371.277 L73.1679 371.277 L73.1679 375.213 L53.2606 375.213 L53.2606 371.277 Z\" fill=\"#000000\" fill-rule=\"evenodd\" fill-opacity=\"1\" /><path clip-path=\"url(#clip150)\" d=\"M86.6401 371.277 L102.959 371.277 L102.959 375.213 L81.0151 375.213 L81.0151 371.277 Q83.6771 368.523 88.2604 363.893 Q92.8669 359.24 94.0475 357.898 Q96.2928 355.375 97.1724 353.639 Q98.0752 351.879 98.0752 350.189 Q98.0752 347.435 96.1308 345.699 Q94.2095 343.963 91.1077 343.963 Q88.9086 343.963 86.4549 344.727 Q84.0244 345.49 81.2466 347.041 L81.2466 342.319 Q84.0707 341.185 86.5243 340.606 Q88.978 340.028 91.0151 340.028 Q96.3854 340.028 99.5798 342.713 Q102.774 345.398 102.774 349.889 Q102.774 352.018 101.964 353.939 Q101.177 355.838 99.0706 358.43 Q98.4919 359.101 95.39 362.319 Q92.2882 365.513 86.6401 371.277 Z\" fill=\"#000000\" fill-rule=\"evenodd\" fill-opacity=\"1\" /><path clip-path=\"url(#clip150)\" d=\"M1048.52 44.2197 Q1051.15 45.1109 1053.62 48.0275 Q1056.13 50.9442 1058.65 56.0483 L1066.95 72.576 L1058.16 72.576 L1050.42 57.061 Q1047.42 50.9847 1044.59 48.9997 Q1041.79 47.0148 1036.93 47.0148 L1028.02 47.0148 L1028.02 72.576 L1019.84 72.576 L1019.84 12.096 L1038.31 12.096 Q1048.68 12.096 1053.78 16.4305 Q1058.89 20.7649 1058.89 29.5149 Q1058.89 35.2267 1056.21 38.994 Q1053.58 42.7613 1048.52 44.2197 M1028.02 18.8205 L1028.02 40.2903 L1038.31 40.2903 Q1044.22 40.2903 1047.22 37.5762 Q1050.26 34.8216 1050.26 29.5149 Q1050.26 24.2082 1047.22 21.5346 Q1044.22 18.8205 1038.31 18.8205 L1028.02 18.8205 Z\" fill=\"#000000\" fill-rule=\"evenodd\" fill-opacity=\"1\" /><path clip-path=\"url(#clip150)\" d=\"M1078.13 34.9026 L1130.06 34.9026 L1130.06 41.7081 L1078.13 41.7081 L1078.13 34.9026 M1078.13 51.4303 L1130.06 51.4303 L1130.06 58.3168 L1078.13 58.3168 L1078.13 51.4303 Z\" fill=\"#000000\" fill-rule=\"evenodd\" fill-opacity=\"1\" /><path clip-path=\"url(#clip150)\" d=\"M1147.81 12.096 L1179.93 12.096 L1179.93 18.9825 L1155.3 18.9825 L1155.3 33.8088 Q1157.08 33.2012 1158.86 32.9176 Q1160.65 32.5936 1162.43 32.5936 Q1172.56 32.5936 1178.47 38.1433 Q1184.39 43.6931 1184.39 53.1722 Q1184.39 62.9348 1178.31 68.3631 Q1172.23 73.7508 1161.17 73.7508 Q1157.37 73.7508 1153.4 73.1026 Q1149.47 72.4545 1145.25 71.1582 L1145.25 62.9348 Q1148.9 64.9198 1152.79 65.892 Q1156.68 66.8642 1161.01 66.8642 Q1168.02 66.8642 1172.11 63.1779 Q1176.2 59.4916 1176.2 53.1722 Q1176.2 46.8528 1172.11 43.1664 Q1168.02 39.4801 1161.01 39.4801 Q1157.73 39.4801 1154.45 40.2093 Q1151.21 40.9384 1147.81 42.4778 L1147.81 12.096 Z\" fill=\"#000000\" fill-rule=\"evenodd\" fill-opacity=\"1\" /><path clip-path=\"url(#clip150)\" d=\"M1201.36 62.2867 L1209.91 62.2867 L1209.91 69.2543 L1203.26 82.2172 L1198.04 82.2172 L1201.36 69.2543 L1201.36 62.2867 Z\" fill=\"#000000\" fill-rule=\"evenodd\" fill-opacity=\"1\" /><path clip-path=\"url(#clip150)\" d=\"M1297.81 16.7545 L1297.81 25.383 Q1293.68 21.5346 1288.98 19.6307 Q1284.32 17.7268 1279.05 17.7268 Q1268.68 17.7268 1263.18 24.0867 Q1257.67 30.4061 1257.67 42.3968 Q1257.67 54.3469 1263.18 60.7069 Q1268.68 67.0263 1279.05 67.0263 Q1284.32 67.0263 1288.98 65.1223 Q1293.68 63.2184 1297.81 59.3701 L1297.81 67.9175 Q1293.52 70.8341 1288.7 72.2924 Q1283.92 73.7508 1278.57 73.7508 Q1264.84 73.7508 1256.94 65.3654 Q1249.04 56.9395 1249.04 42.3968 Q1249.04 27.8135 1256.94 19.4281 Q1264.84 11.0023 1278.57 11.0023 Q1284 11.0023 1288.78 12.4606 Q1293.6 13.8784 1297.81 16.7545 Z\" fill=\"#000000\" fill-rule=\"evenodd\" fill-opacity=\"1\" /><path clip-path=\"url(#clip150)\" d=\"M1311.1 34.9026 L1363.03 34.9026 L1363.03 41.7081 L1311.1 41.7081 L1311.1 34.9026 M1311.1 51.4303 L1363.03 51.4303 L1363.03 58.3168 L1311.1 58.3168 L1311.1 51.4303 Z\" fill=\"#000000\" fill-rule=\"evenodd\" fill-opacity=\"1\" /><path clip-path=\"url(#clip150)\" d=\"M1387.74 65.6895 L1416.3 65.6895 L1416.3 72.576 L1377.9 72.576 L1377.9 65.6895 Q1382.56 60.8689 1390.58 52.7671 Q1398.64 44.6248 1400.7 42.2752 Q1404.63 37.8598 1406.17 34.8216 Q1407.75 31.7429 1407.75 28.7857 Q1407.75 23.9651 1404.35 20.927 Q1400.99 17.8888 1395.56 17.8888 Q1391.71 17.8888 1387.42 19.2256 Q1383.16 20.5624 1378.3 23.2765 L1378.3 15.0127 Q1383.24 13.0277 1387.54 12.015 Q1391.83 11.0023 1395.4 11.0023 Q1404.79 11.0023 1410.39 15.7013 Q1415.98 20.4004 1415.98 28.2591 Q1415.98 31.9859 1414.56 35.3482 Q1413.18 38.6699 1409.49 43.2069 Q1408.48 44.3817 1403.05 50.0125 Q1397.62 55.6027 1387.74 65.6895 Z\" fill=\"#000000\" fill-rule=\"evenodd\" fill-opacity=\"1\" /><path clip-path=\"url(#clip150)\" d=\"M1450.98 17.4837 Q1444.66 17.4837 1441.46 23.7221 Q1438.3 29.92 1438.3 42.3968 Q1438.3 54.833 1441.46 61.0714 Q1444.66 67.2693 1450.98 67.2693 Q1457.34 67.2693 1460.49 61.0714 Q1463.7 54.833 1463.7 42.3968 Q1463.7 29.92 1460.49 23.7221 Q1457.34 17.4837 1450.98 17.4837 M1450.98 11.0023 Q1461.14 11.0023 1466.49 19.0636 Q1471.88 27.0843 1471.88 42.3968 Q1471.88 57.6687 1466.49 65.73 Q1461.14 73.7508 1450.98 73.7508 Q1440.81 73.7508 1435.42 65.73 Q1430.07 57.6687 1430.07 42.3968 Q1430.07 27.0843 1435.42 19.0636 Q1440.81 11.0023 1450.98 11.0023 Z\" fill=\"#000000\" fill-rule=\"evenodd\" fill-opacity=\"1\" /><polyline clip-path=\"url(#clip152)\" style=\"stroke:#009af9; stroke-linecap:butt; stroke-linejoin:round; stroke-width:4; stroke-opacity:1; fill:none\" points=\"\n  201.614,1251.34 228.148,1294.05 254.639,1133.86 281.09,1208.62 307.561,1112.51 334.029,1059.11 360.422,1016.39 386.828,962.995 413.22,888.24 439.617,920.278 \n  466.032,845.523 492.39,845.523 518.754,813.485 545.139,706.692 571.558,760.088 597.928,621.257 624.307,696.012 650.793,599.899 677.287,589.219 703.744,567.861 \n  730.245,557.181 756.742,503.785 783.232,514.464 809.657,375.633 836.011,482.426 862.393,300.878 888.877,386.312 915.369,332.916 941.876,290.199 968.294,300.878 \n  994.689,279.519 1021.06,258.161 1047.43,162.047 1073.81,300.878 1100.3,599.899 1126.69,813.485 1153.08,909.599 1179.51,1027.07 1205.88,1080.47 1232.22,1027.07 \n  1258.63,1080.47 1285.03,1165.9 1311.42,1144.54 1337.8,1208.62 1364.21,1197.94 1390.58,1272.7 1417,1251.34 1443.42,1283.37 1469.83,1283.37 1496.21,1272.7 \n  1522.67,1315.41 1549.04,1262.02 1575.42,1272.7 1601.93,1229.98 1628.43,1229.98 1654.9,1208.62 1681.43,1197.94 1707.93,1251.34 1734.44,1229.98 1760.89,1165.9 \n  1787.39,1208.62 1813.84,1208.62 1840.33,1208.62 1866.82,1176.58 1893.35,1240.66 1919.85,1229.98 1946.32,1219.3 1972.79,1251.34 1999.26,1240.66 2025.72,1240.66 \n  2052.21,1251.34 2078.67,1240.66 2105.16,1251.34 2131.57,1229.98 2157.95,1240.66 2184.34,1208.62 2210.74,1240.66 2237.2,1219.3 2263.66,1251.34 2290.1,1229.98 \n  \n  \"/>\n<circle clip-path=\"url(#clip152)\" cx=\"201.614\" cy=\"1251.34\" r=\"14\" fill=\"#009af9\" fill-rule=\"evenodd\" fill-opacity=\"1\" stroke=\"#000000\" stroke-opacity=\"1\" stroke-width=\"3.2\"/>\n<circle clip-path=\"url(#clip152)\" cx=\"228.148\" cy=\"1294.05\" r=\"14\" fill=\"#009af9\" fill-rule=\"evenodd\" fill-opacity=\"1\" stroke=\"#000000\" stroke-opacity=\"1\" stroke-width=\"3.2\"/>\n<circle clip-path=\"url(#clip152)\" cx=\"254.639\" cy=\"1133.86\" r=\"14\" fill=\"#009af9\" fill-rule=\"evenodd\" fill-opacity=\"1\" stroke=\"#000000\" stroke-opacity=\"1\" stroke-width=\"3.2\"/>\n<circle clip-path=\"url(#clip152)\" cx=\"281.09\" cy=\"1208.62\" r=\"14\" fill=\"#009af9\" fill-rule=\"evenodd\" fill-opacity=\"1\" stroke=\"#000000\" stroke-opacity=\"1\" stroke-width=\"3.2\"/>\n<circle clip-path=\"url(#clip152)\" cx=\"307.561\" cy=\"1112.51\" r=\"14\" fill=\"#009af9\" fill-rule=\"evenodd\" fill-opacity=\"1\" stroke=\"#000000\" stroke-opacity=\"1\" stroke-width=\"3.2\"/>\n<circle clip-path=\"url(#clip152)\" cx=\"334.029\" cy=\"1059.11\" r=\"14\" fill=\"#009af9\" fill-rule=\"evenodd\" fill-opacity=\"1\" stroke=\"#000000\" stroke-opacity=\"1\" stroke-width=\"3.2\"/>\n<circle clip-path=\"url(#clip152)\" cx=\"360.422\" cy=\"1016.39\" r=\"14\" fill=\"#009af9\" fill-rule=\"evenodd\" fill-opacity=\"1\" stroke=\"#000000\" stroke-opacity=\"1\" stroke-width=\"3.2\"/>\n<circle clip-path=\"url(#clip152)\" cx=\"386.828\" cy=\"962.995\" r=\"14\" fill=\"#009af9\" fill-rule=\"evenodd\" fill-opacity=\"1\" stroke=\"#000000\" stroke-opacity=\"1\" stroke-width=\"3.2\"/>\n<circle clip-path=\"url(#clip152)\" cx=\"413.22\" cy=\"888.24\" r=\"14\" fill=\"#009af9\" fill-rule=\"evenodd\" fill-opacity=\"1\" stroke=\"#000000\" stroke-opacity=\"1\" stroke-width=\"3.2\"/>\n<circle clip-path=\"url(#clip152)\" cx=\"439.617\" cy=\"920.278\" r=\"14\" fill=\"#009af9\" fill-rule=\"evenodd\" fill-opacity=\"1\" stroke=\"#000000\" stroke-opacity=\"1\" stroke-width=\"3.2\"/>\n<circle clip-path=\"url(#clip152)\" cx=\"466.032\" cy=\"845.523\" r=\"14\" fill=\"#009af9\" fill-rule=\"evenodd\" fill-opacity=\"1\" stroke=\"#000000\" stroke-opacity=\"1\" stroke-width=\"3.2\"/>\n<circle clip-path=\"url(#clip152)\" cx=\"492.39\" cy=\"845.523\" r=\"14\" fill=\"#009af9\" fill-rule=\"evenodd\" fill-opacity=\"1\" stroke=\"#000000\" stroke-opacity=\"1\" stroke-width=\"3.2\"/>\n<circle clip-path=\"url(#clip152)\" cx=\"518.754\" cy=\"813.485\" r=\"14\" fill=\"#009af9\" fill-rule=\"evenodd\" fill-opacity=\"1\" stroke=\"#000000\" stroke-opacity=\"1\" stroke-width=\"3.2\"/>\n<circle clip-path=\"url(#clip152)\" cx=\"545.139\" cy=\"706.692\" r=\"14\" fill=\"#009af9\" fill-rule=\"evenodd\" fill-opacity=\"1\" stroke=\"#000000\" stroke-opacity=\"1\" stroke-width=\"3.2\"/>\n<circle clip-path=\"url(#clip152)\" cx=\"571.558\" cy=\"760.088\" r=\"14\" fill=\"#009af9\" fill-rule=\"evenodd\" fill-opacity=\"1\" stroke=\"#000000\" stroke-opacity=\"1\" stroke-width=\"3.2\"/>\n<circle clip-path=\"url(#clip152)\" cx=\"597.928\" cy=\"621.257\" r=\"14\" fill=\"#009af9\" fill-rule=\"evenodd\" fill-opacity=\"1\" stroke=\"#000000\" stroke-opacity=\"1\" stroke-width=\"3.2\"/>\n<circle clip-path=\"url(#clip152)\" cx=\"624.307\" cy=\"696.012\" r=\"14\" fill=\"#009af9\" fill-rule=\"evenodd\" fill-opacity=\"1\" stroke=\"#000000\" stroke-opacity=\"1\" stroke-width=\"3.2\"/>\n<circle clip-path=\"url(#clip152)\" cx=\"650.793\" cy=\"599.899\" r=\"14\" fill=\"#009af9\" fill-rule=\"evenodd\" fill-opacity=\"1\" stroke=\"#000000\" stroke-opacity=\"1\" stroke-width=\"3.2\"/>\n<circle clip-path=\"url(#clip152)\" cx=\"677.287\" cy=\"589.219\" r=\"14\" fill=\"#009af9\" fill-rule=\"evenodd\" fill-opacity=\"1\" stroke=\"#000000\" stroke-opacity=\"1\" stroke-width=\"3.2\"/>\n<circle clip-path=\"url(#clip152)\" cx=\"703.744\" cy=\"567.861\" r=\"14\" fill=\"#009af9\" fill-rule=\"evenodd\" fill-opacity=\"1\" stroke=\"#000000\" stroke-opacity=\"1\" stroke-width=\"3.2\"/>\n<circle clip-path=\"url(#clip152)\" cx=\"730.245\" cy=\"557.181\" r=\"14\" fill=\"#009af9\" fill-rule=\"evenodd\" fill-opacity=\"1\" stroke=\"#000000\" stroke-opacity=\"1\" stroke-width=\"3.2\"/>\n<circle clip-path=\"url(#clip152)\" cx=\"756.742\" cy=\"503.785\" r=\"14\" fill=\"#009af9\" fill-rule=\"evenodd\" fill-opacity=\"1\" stroke=\"#000000\" stroke-opacity=\"1\" stroke-width=\"3.2\"/>\n<circle clip-path=\"url(#clip152)\" cx=\"783.232\" cy=\"514.464\" r=\"14\" fill=\"#009af9\" fill-rule=\"evenodd\" fill-opacity=\"1\" stroke=\"#000000\" stroke-opacity=\"1\" stroke-width=\"3.2\"/>\n<circle clip-path=\"url(#clip152)\" cx=\"809.657\" cy=\"375.633\" r=\"14\" fill=\"#009af9\" fill-rule=\"evenodd\" fill-opacity=\"1\" stroke=\"#000000\" stroke-opacity=\"1\" stroke-width=\"3.2\"/>\n<circle clip-path=\"url(#clip152)\" cx=\"836.011\" cy=\"482.426\" r=\"14\" fill=\"#009af9\" fill-rule=\"evenodd\" fill-opacity=\"1\" stroke=\"#000000\" stroke-opacity=\"1\" stroke-width=\"3.2\"/>\n<circle clip-path=\"url(#clip152)\" cx=\"862.393\" cy=\"300.878\" r=\"14\" fill=\"#009af9\" fill-rule=\"evenodd\" fill-opacity=\"1\" stroke=\"#000000\" stroke-opacity=\"1\" stroke-width=\"3.2\"/>\n<circle clip-path=\"url(#clip152)\" cx=\"888.877\" cy=\"386.312\" r=\"14\" fill=\"#009af9\" fill-rule=\"evenodd\" fill-opacity=\"1\" stroke=\"#000000\" stroke-opacity=\"1\" stroke-width=\"3.2\"/>\n<circle clip-path=\"url(#clip152)\" cx=\"915.369\" cy=\"332.916\" r=\"14\" fill=\"#009af9\" fill-rule=\"evenodd\" fill-opacity=\"1\" stroke=\"#000000\" stroke-opacity=\"1\" stroke-width=\"3.2\"/>\n<circle clip-path=\"url(#clip152)\" cx=\"941.876\" cy=\"290.199\" r=\"14\" fill=\"#009af9\" fill-rule=\"evenodd\" fill-opacity=\"1\" stroke=\"#000000\" stroke-opacity=\"1\" stroke-width=\"3.2\"/>\n<circle clip-path=\"url(#clip152)\" cx=\"968.294\" cy=\"300.878\" r=\"14\" fill=\"#009af9\" fill-rule=\"evenodd\" fill-opacity=\"1\" stroke=\"#000000\" stroke-opacity=\"1\" stroke-width=\"3.2\"/>\n<circle clip-path=\"url(#clip152)\" cx=\"994.689\" cy=\"279.519\" r=\"14\" fill=\"#009af9\" fill-rule=\"evenodd\" fill-opacity=\"1\" stroke=\"#000000\" stroke-opacity=\"1\" stroke-width=\"3.2\"/>\n<circle clip-path=\"url(#clip152)\" cx=\"1021.06\" cy=\"258.161\" r=\"14\" fill=\"#009af9\" fill-rule=\"evenodd\" fill-opacity=\"1\" stroke=\"#000000\" stroke-opacity=\"1\" stroke-width=\"3.2\"/>\n<circle clip-path=\"url(#clip152)\" cx=\"1047.43\" cy=\"162.047\" r=\"14\" fill=\"#009af9\" fill-rule=\"evenodd\" fill-opacity=\"1\" stroke=\"#000000\" stroke-opacity=\"1\" stroke-width=\"3.2\"/>\n<circle clip-path=\"url(#clip152)\" cx=\"1073.81\" cy=\"300.878\" r=\"14\" fill=\"#009af9\" fill-rule=\"evenodd\" fill-opacity=\"1\" stroke=\"#000000\" stroke-opacity=\"1\" stroke-width=\"3.2\"/>\n<circle clip-path=\"url(#clip152)\" cx=\"1100.3\" cy=\"599.899\" r=\"14\" fill=\"#009af9\" fill-rule=\"evenodd\" fill-opacity=\"1\" stroke=\"#000000\" stroke-opacity=\"1\" stroke-width=\"3.2\"/>\n<circle clip-path=\"url(#clip152)\" cx=\"1126.69\" cy=\"813.485\" r=\"14\" fill=\"#009af9\" fill-rule=\"evenodd\" fill-opacity=\"1\" stroke=\"#000000\" stroke-opacity=\"1\" stroke-width=\"3.2\"/>\n<circle clip-path=\"url(#clip152)\" cx=\"1153.08\" cy=\"909.599\" r=\"14\" fill=\"#009af9\" fill-rule=\"evenodd\" fill-opacity=\"1\" stroke=\"#000000\" stroke-opacity=\"1\" stroke-width=\"3.2\"/>\n<circle clip-path=\"url(#clip152)\" cx=\"1179.51\" cy=\"1027.07\" r=\"14\" fill=\"#009af9\" fill-rule=\"evenodd\" fill-opacity=\"1\" stroke=\"#000000\" stroke-opacity=\"1\" stroke-width=\"3.2\"/>\n<circle clip-path=\"url(#clip152)\" cx=\"1205.88\" cy=\"1080.47\" r=\"14\" fill=\"#009af9\" fill-rule=\"evenodd\" fill-opacity=\"1\" stroke=\"#000000\" stroke-opacity=\"1\" stroke-width=\"3.2\"/>\n<circle clip-path=\"url(#clip152)\" cx=\"1232.22\" cy=\"1027.07\" r=\"14\" fill=\"#009af9\" fill-rule=\"evenodd\" fill-opacity=\"1\" stroke=\"#000000\" stroke-opacity=\"1\" stroke-width=\"3.2\"/>\n<circle clip-path=\"url(#clip152)\" cx=\"1258.63\" cy=\"1080.47\" r=\"14\" fill=\"#009af9\" fill-rule=\"evenodd\" fill-opacity=\"1\" stroke=\"#000000\" stroke-opacity=\"1\" stroke-width=\"3.2\"/>\n<circle clip-path=\"url(#clip152)\" cx=\"1285.03\" cy=\"1165.9\" r=\"14\" fill=\"#009af9\" fill-rule=\"evenodd\" fill-opacity=\"1\" stroke=\"#000000\" stroke-opacity=\"1\" stroke-width=\"3.2\"/>\n<circle clip-path=\"url(#clip152)\" cx=\"1311.42\" cy=\"1144.54\" r=\"14\" fill=\"#009af9\" fill-rule=\"evenodd\" fill-opacity=\"1\" stroke=\"#000000\" stroke-opacity=\"1\" stroke-width=\"3.2\"/>\n<circle clip-path=\"url(#clip152)\" cx=\"1337.8\" cy=\"1208.62\" r=\"14\" fill=\"#009af9\" fill-rule=\"evenodd\" fill-opacity=\"1\" stroke=\"#000000\" stroke-opacity=\"1\" stroke-width=\"3.2\"/>\n<circle clip-path=\"url(#clip152)\" cx=\"1364.21\" cy=\"1197.94\" r=\"14\" fill=\"#009af9\" fill-rule=\"evenodd\" fill-opacity=\"1\" stroke=\"#000000\" stroke-opacity=\"1\" stroke-width=\"3.2\"/>\n<circle clip-path=\"url(#clip152)\" cx=\"1390.58\" cy=\"1272.7\" r=\"14\" fill=\"#009af9\" fill-rule=\"evenodd\" fill-opacity=\"1\" stroke=\"#000000\" stroke-opacity=\"1\" stroke-width=\"3.2\"/>\n<circle clip-path=\"url(#clip152)\" cx=\"1417\" cy=\"1251.34\" r=\"14\" fill=\"#009af9\" fill-rule=\"evenodd\" fill-opacity=\"1\" stroke=\"#000000\" stroke-opacity=\"1\" stroke-width=\"3.2\"/>\n<circle clip-path=\"url(#clip152)\" cx=\"1443.42\" cy=\"1283.37\" r=\"14\" fill=\"#009af9\" fill-rule=\"evenodd\" fill-opacity=\"1\" stroke=\"#000000\" stroke-opacity=\"1\" stroke-width=\"3.2\"/>\n<circle clip-path=\"url(#clip152)\" cx=\"1469.83\" cy=\"1283.37\" r=\"14\" fill=\"#009af9\" fill-rule=\"evenodd\" fill-opacity=\"1\" stroke=\"#000000\" stroke-opacity=\"1\" stroke-width=\"3.2\"/>\n<circle clip-path=\"url(#clip152)\" cx=\"1496.21\" cy=\"1272.7\" r=\"14\" fill=\"#009af9\" fill-rule=\"evenodd\" fill-opacity=\"1\" stroke=\"#000000\" stroke-opacity=\"1\" stroke-width=\"3.2\"/>\n<circle clip-path=\"url(#clip152)\" cx=\"1522.67\" cy=\"1315.41\" r=\"14\" fill=\"#009af9\" fill-rule=\"evenodd\" fill-opacity=\"1\" stroke=\"#000000\" stroke-opacity=\"1\" stroke-width=\"3.2\"/>\n<circle clip-path=\"url(#clip152)\" cx=\"1549.04\" cy=\"1262.02\" r=\"14\" fill=\"#009af9\" fill-rule=\"evenodd\" fill-opacity=\"1\" stroke=\"#000000\" stroke-opacity=\"1\" stroke-width=\"3.2\"/>\n<circle clip-path=\"url(#clip152)\" cx=\"1575.42\" cy=\"1272.7\" r=\"14\" fill=\"#009af9\" fill-rule=\"evenodd\" fill-opacity=\"1\" stroke=\"#000000\" stroke-opacity=\"1\" stroke-width=\"3.2\"/>\n<circle clip-path=\"url(#clip152)\" cx=\"1601.93\" cy=\"1229.98\" r=\"14\" fill=\"#009af9\" fill-rule=\"evenodd\" fill-opacity=\"1\" stroke=\"#000000\" stroke-opacity=\"1\" stroke-width=\"3.2\"/>\n<circle clip-path=\"url(#clip152)\" cx=\"1628.43\" cy=\"1229.98\" r=\"14\" fill=\"#009af9\" fill-rule=\"evenodd\" fill-opacity=\"1\" stroke=\"#000000\" stroke-opacity=\"1\" stroke-width=\"3.2\"/>\n<circle clip-path=\"url(#clip152)\" cx=\"1654.9\" cy=\"1208.62\" r=\"14\" fill=\"#009af9\" fill-rule=\"evenodd\" fill-opacity=\"1\" stroke=\"#000000\" stroke-opacity=\"1\" stroke-width=\"3.2\"/>\n<circle clip-path=\"url(#clip152)\" cx=\"1681.43\" cy=\"1197.94\" r=\"14\" fill=\"#009af9\" fill-rule=\"evenodd\" fill-opacity=\"1\" stroke=\"#000000\" stroke-opacity=\"1\" stroke-width=\"3.2\"/>\n<circle clip-path=\"url(#clip152)\" cx=\"1707.93\" cy=\"1251.34\" r=\"14\" fill=\"#009af9\" fill-rule=\"evenodd\" fill-opacity=\"1\" stroke=\"#000000\" stroke-opacity=\"1\" stroke-width=\"3.2\"/>\n<circle clip-path=\"url(#clip152)\" cx=\"1734.44\" cy=\"1229.98\" r=\"14\" fill=\"#009af9\" fill-rule=\"evenodd\" fill-opacity=\"1\" stroke=\"#000000\" stroke-opacity=\"1\" stroke-width=\"3.2\"/>\n<circle clip-path=\"url(#clip152)\" cx=\"1760.89\" cy=\"1165.9\" r=\"14\" fill=\"#009af9\" fill-rule=\"evenodd\" fill-opacity=\"1\" stroke=\"#000000\" stroke-opacity=\"1\" stroke-width=\"3.2\"/>\n<circle clip-path=\"url(#clip152)\" cx=\"1787.39\" cy=\"1208.62\" r=\"14\" fill=\"#009af9\" fill-rule=\"evenodd\" fill-opacity=\"1\" stroke=\"#000000\" stroke-opacity=\"1\" stroke-width=\"3.2\"/>\n<circle clip-path=\"url(#clip152)\" cx=\"1813.84\" cy=\"1208.62\" r=\"14\" fill=\"#009af9\" fill-rule=\"evenodd\" fill-opacity=\"1\" stroke=\"#000000\" stroke-opacity=\"1\" stroke-width=\"3.2\"/>\n<circle clip-path=\"url(#clip152)\" cx=\"1840.33\" cy=\"1208.62\" r=\"14\" fill=\"#009af9\" fill-rule=\"evenodd\" fill-opacity=\"1\" stroke=\"#000000\" stroke-opacity=\"1\" stroke-width=\"3.2\"/>\n<circle clip-path=\"url(#clip152)\" cx=\"1866.82\" cy=\"1176.58\" r=\"14\" fill=\"#009af9\" fill-rule=\"evenodd\" fill-opacity=\"1\" stroke=\"#000000\" stroke-opacity=\"1\" stroke-width=\"3.2\"/>\n<circle clip-path=\"url(#clip152)\" cx=\"1893.35\" cy=\"1240.66\" r=\"14\" fill=\"#009af9\" fill-rule=\"evenodd\" fill-opacity=\"1\" stroke=\"#000000\" stroke-opacity=\"1\" stroke-width=\"3.2\"/>\n<circle clip-path=\"url(#clip152)\" cx=\"1919.85\" cy=\"1229.98\" r=\"14\" fill=\"#009af9\" fill-rule=\"evenodd\" fill-opacity=\"1\" stroke=\"#000000\" stroke-opacity=\"1\" stroke-width=\"3.2\"/>\n<circle clip-path=\"url(#clip152)\" cx=\"1946.32\" cy=\"1219.3\" r=\"14\" fill=\"#009af9\" fill-rule=\"evenodd\" fill-opacity=\"1\" stroke=\"#000000\" stroke-opacity=\"1\" stroke-width=\"3.2\"/>\n<circle clip-path=\"url(#clip152)\" cx=\"1972.79\" cy=\"1251.34\" r=\"14\" fill=\"#009af9\" fill-rule=\"evenodd\" fill-opacity=\"1\" stroke=\"#000000\" stroke-opacity=\"1\" stroke-width=\"3.2\"/>\n<circle clip-path=\"url(#clip152)\" cx=\"1999.26\" cy=\"1240.66\" r=\"14\" fill=\"#009af9\" fill-rule=\"evenodd\" fill-opacity=\"1\" stroke=\"#000000\" stroke-opacity=\"1\" stroke-width=\"3.2\"/>\n<circle clip-path=\"url(#clip152)\" cx=\"2025.72\" cy=\"1240.66\" r=\"14\" fill=\"#009af9\" fill-rule=\"evenodd\" fill-opacity=\"1\" stroke=\"#000000\" stroke-opacity=\"1\" stroke-width=\"3.2\"/>\n<circle clip-path=\"url(#clip152)\" cx=\"2052.21\" cy=\"1251.34\" r=\"14\" fill=\"#009af9\" fill-rule=\"evenodd\" fill-opacity=\"1\" stroke=\"#000000\" stroke-opacity=\"1\" stroke-width=\"3.2\"/>\n<circle clip-path=\"url(#clip152)\" cx=\"2078.67\" cy=\"1240.66\" r=\"14\" fill=\"#009af9\" fill-rule=\"evenodd\" fill-opacity=\"1\" stroke=\"#000000\" stroke-opacity=\"1\" stroke-width=\"3.2\"/>\n<circle clip-path=\"url(#clip152)\" cx=\"2105.16\" cy=\"1251.34\" r=\"14\" fill=\"#009af9\" fill-rule=\"evenodd\" fill-opacity=\"1\" stroke=\"#000000\" stroke-opacity=\"1\" stroke-width=\"3.2\"/>\n<circle clip-path=\"url(#clip152)\" cx=\"2131.57\" cy=\"1229.98\" r=\"14\" fill=\"#009af9\" fill-rule=\"evenodd\" fill-opacity=\"1\" stroke=\"#000000\" stroke-opacity=\"1\" stroke-width=\"3.2\"/>\n<circle clip-path=\"url(#clip152)\" cx=\"2157.95\" cy=\"1240.66\" r=\"14\" fill=\"#009af9\" fill-rule=\"evenodd\" fill-opacity=\"1\" stroke=\"#000000\" stroke-opacity=\"1\" stroke-width=\"3.2\"/>\n<circle clip-path=\"url(#clip152)\" cx=\"2184.34\" cy=\"1208.62\" r=\"14\" fill=\"#009af9\" fill-rule=\"evenodd\" fill-opacity=\"1\" stroke=\"#000000\" stroke-opacity=\"1\" stroke-width=\"3.2\"/>\n<circle clip-path=\"url(#clip152)\" cx=\"2210.74\" cy=\"1240.66\" r=\"14\" fill=\"#009af9\" fill-rule=\"evenodd\" fill-opacity=\"1\" stroke=\"#000000\" stroke-opacity=\"1\" stroke-width=\"3.2\"/>\n<circle clip-path=\"url(#clip152)\" cx=\"2237.2\" cy=\"1219.3\" r=\"14\" fill=\"#009af9\" fill-rule=\"evenodd\" fill-opacity=\"1\" stroke=\"#000000\" stroke-opacity=\"1\" stroke-width=\"3.2\"/>\n<circle clip-path=\"url(#clip152)\" cx=\"2263.66\" cy=\"1251.34\" r=\"14\" fill=\"#009af9\" fill-rule=\"evenodd\" fill-opacity=\"1\" stroke=\"#000000\" stroke-opacity=\"1\" stroke-width=\"3.2\"/>\n<circle clip-path=\"url(#clip152)\" cx=\"2290.1\" cy=\"1229.98\" r=\"14\" fill=\"#009af9\" fill-rule=\"evenodd\" fill-opacity=\"1\" stroke=\"#000000\" stroke-opacity=\"1\" stroke-width=\"3.2\"/>\n<polyline clip-path=\"url(#clip152)\" style=\"stroke:#e26f46; stroke-linecap:butt; stroke-linejoin:round; stroke-width:4; stroke-opacity:1; fill:none\" points=\"\n  201.614,1447.87 228.148,1164.62 254.639,1116.94 281.09,1087.29 307.561,1081.09 334.029,1075.51 360.422,1071.87 386.828,1069.6 413.22,1072.06 439.617,1065.1 \n  466.032,1065.99 492.39,1062.6 518.754,1059.2 545.139,1065.56 571.558,1057.38 597.928,1066.08 624.307,1057.79 650.793,1062.59 677.287,1061.72 703.744,1061.96 \n  730.245,1059.44 756.742,1062.57 783.232,1057.49 809.657,1068.31 836.011,1057.37 862.393,1070.72 888.877,1063.71 915.369,1066.23 941.876,1069.6 968.294,1069.85 \n  994.689,1071.78 1021.06,1073.82 1047.43,1110.41 1073.81,1112.92 1100.3,1113.48 1126.69,1113.72 1153.08,1113.9 1179.51,1114.03 1205.88,1114.12 1232.22,1114.18 \n  1258.63,1114.23 1285.03,1114.26 1311.42,1114.28 1337.8,1114.3 1364.21,1114.68 1390.58,1118.54 1417,1126.01 1443.42,1134.92 1469.83,1126.19 1496.21,1117.48 \n  1522.67,1110 1549.04,1103.81 1575.42,1098.72 1601.93,1094.51 1628.43,1091.1 1654.9,1088.34 1681.43,1086.12 1707.93,1084.36 1734.44,1082.96 1760.89,1081.88 \n  1787.39,1081.06 1813.84,1080.46 1840.33,1080.04 1866.82,1079.79 1893.35,1079.67 1919.85,1079.68 1946.32,1079.79 1972.79,1080.01 1999.26,1080.31 2025.72,1080.69 \n  2052.21,1081.15 2078.67,1081.67 2105.16,1082.26 2131.57,1082.9 2157.95,1083.6 2184.34,1084.35 2210.74,1085.14 2237.2,1086.02 2263.66,1087.14 2290.1,1088.17 \n  \n  \"/>\n<path clip-path=\"url(#clip152)\" d=\"M185.614 1431.87 L185.614 1463.87 L217.614 1463.87 L217.614 1431.87 L185.614 1431.87 Z\" fill=\"#e26f46\" fill-rule=\"evenodd\" fill-opacity=\"1\" stroke=\"#000000\" stroke-opacity=\"1\" stroke-width=\"3.2\"/>\n<path clip-path=\"url(#clip152)\" d=\"M212.148 1148.62 L212.148 1180.62 L244.148 1180.62 L244.148 1148.62 L212.148 1148.62 Z\" fill=\"#e26f46\" fill-rule=\"evenodd\" fill-opacity=\"1\" stroke=\"#000000\" stroke-opacity=\"1\" stroke-width=\"3.2\"/>\n<path clip-path=\"url(#clip152)\" d=\"M238.639 1100.94 L238.639 1132.94 L270.639 1132.94 L270.639 1100.94 L238.639 1100.94 Z\" fill=\"#e26f46\" fill-rule=\"evenodd\" fill-opacity=\"1\" stroke=\"#000000\" stroke-opacity=\"1\" stroke-width=\"3.2\"/>\n<path clip-path=\"url(#clip152)\" d=\"M265.09 1071.29 L265.09 1103.29 L297.09 1103.29 L297.09 1071.29 L265.09 1071.29 Z\" fill=\"#e26f46\" fill-rule=\"evenodd\" fill-opacity=\"1\" stroke=\"#000000\" stroke-opacity=\"1\" stroke-width=\"3.2\"/>\n<path clip-path=\"url(#clip152)\" d=\"M291.561 1065.09 L291.561 1097.09 L323.561 1097.09 L323.561 1065.09 L291.561 1065.09 Z\" fill=\"#e26f46\" fill-rule=\"evenodd\" fill-opacity=\"1\" stroke=\"#000000\" stroke-opacity=\"1\" stroke-width=\"3.2\"/>\n<path clip-path=\"url(#clip152)\" d=\"M318.029 1059.51 L318.029 1091.51 L350.029 1091.51 L350.029 1059.51 L318.029 1059.51 Z\" fill=\"#e26f46\" fill-rule=\"evenodd\" fill-opacity=\"1\" stroke=\"#000000\" stroke-opacity=\"1\" stroke-width=\"3.2\"/>\n<path clip-path=\"url(#clip152)\" d=\"M344.422 1055.87 L344.422 1087.87 L376.422 1087.87 L376.422 1055.87 L344.422 1055.87 Z\" fill=\"#e26f46\" fill-rule=\"evenodd\" fill-opacity=\"1\" stroke=\"#000000\" stroke-opacity=\"1\" stroke-width=\"3.2\"/>\n<path clip-path=\"url(#clip152)\" d=\"M370.828 1053.6 L370.828 1085.6 L402.828 1085.6 L402.828 1053.6 L370.828 1053.6 Z\" fill=\"#e26f46\" fill-rule=\"evenodd\" fill-opacity=\"1\" stroke=\"#000000\" stroke-opacity=\"1\" stroke-width=\"3.2\"/>\n<path clip-path=\"url(#clip152)\" d=\"M397.22 1056.06 L397.22 1088.06 L429.22 1088.06 L429.22 1056.06 L397.22 1056.06 Z\" fill=\"#e26f46\" fill-rule=\"evenodd\" fill-opacity=\"1\" stroke=\"#000000\" stroke-opacity=\"1\" stroke-width=\"3.2\"/>\n<path clip-path=\"url(#clip152)\" d=\"M423.617 1049.1 L423.617 1081.1 L455.617 1081.1 L455.617 1049.1 L423.617 1049.1 Z\" fill=\"#e26f46\" fill-rule=\"evenodd\" fill-opacity=\"1\" stroke=\"#000000\" stroke-opacity=\"1\" stroke-width=\"3.2\"/>\n<path clip-path=\"url(#clip152)\" d=\"M450.032 1049.99 L450.032 1081.99 L482.032 1081.99 L482.032 1049.99 L450.032 1049.99 Z\" fill=\"#e26f46\" fill-rule=\"evenodd\" fill-opacity=\"1\" stroke=\"#000000\" stroke-opacity=\"1\" stroke-width=\"3.2\"/>\n<path clip-path=\"url(#clip152)\" d=\"M476.39 1046.6 L476.39 1078.6 L508.39 1078.6 L508.39 1046.6 L476.39 1046.6 Z\" fill=\"#e26f46\" fill-rule=\"evenodd\" fill-opacity=\"1\" stroke=\"#000000\" stroke-opacity=\"1\" stroke-width=\"3.2\"/>\n<path clip-path=\"url(#clip152)\" d=\"M502.754 1043.2 L502.754 1075.2 L534.754 1075.2 L534.754 1043.2 L502.754 1043.2 Z\" fill=\"#e26f46\" fill-rule=\"evenodd\" fill-opacity=\"1\" stroke=\"#000000\" stroke-opacity=\"1\" stroke-width=\"3.2\"/>\n<path clip-path=\"url(#clip152)\" d=\"M529.139 1049.56 L529.139 1081.56 L561.139 1081.56 L561.139 1049.56 L529.139 1049.56 Z\" fill=\"#e26f46\" fill-rule=\"evenodd\" fill-opacity=\"1\" stroke=\"#000000\" stroke-opacity=\"1\" stroke-width=\"3.2\"/>\n<path clip-path=\"url(#clip152)\" d=\"M555.558 1041.38 L555.558 1073.38 L587.558 1073.38 L587.558 1041.38 L555.558 1041.38 Z\" fill=\"#e26f46\" fill-rule=\"evenodd\" fill-opacity=\"1\" stroke=\"#000000\" stroke-opacity=\"1\" stroke-width=\"3.2\"/>\n<path clip-path=\"url(#clip152)\" d=\"M581.928 1050.08 L581.928 1082.08 L613.928 1082.08 L613.928 1050.08 L581.928 1050.08 Z\" fill=\"#e26f46\" fill-rule=\"evenodd\" fill-opacity=\"1\" stroke=\"#000000\" stroke-opacity=\"1\" stroke-width=\"3.2\"/>\n<path clip-path=\"url(#clip152)\" d=\"M608.307 1041.79 L608.307 1073.79 L640.307 1073.79 L640.307 1041.79 L608.307 1041.79 Z\" fill=\"#e26f46\" fill-rule=\"evenodd\" fill-opacity=\"1\" stroke=\"#000000\" stroke-opacity=\"1\" stroke-width=\"3.2\"/>\n<path clip-path=\"url(#clip152)\" d=\"M634.793 1046.59 L634.793 1078.59 L666.793 1078.59 L666.793 1046.59 L634.793 1046.59 Z\" fill=\"#e26f46\" fill-rule=\"evenodd\" fill-opacity=\"1\" stroke=\"#000000\" stroke-opacity=\"1\" stroke-width=\"3.2\"/>\n<path clip-path=\"url(#clip152)\" d=\"M661.287 1045.72 L661.287 1077.72 L693.287 1077.72 L693.287 1045.72 L661.287 1045.72 Z\" fill=\"#e26f46\" fill-rule=\"evenodd\" fill-opacity=\"1\" stroke=\"#000000\" stroke-opacity=\"1\" stroke-width=\"3.2\"/>\n<path clip-path=\"url(#clip152)\" d=\"M687.744 1045.96 L687.744 1077.96 L719.744 1077.96 L719.744 1045.96 L687.744 1045.96 Z\" fill=\"#e26f46\" fill-rule=\"evenodd\" fill-opacity=\"1\" stroke=\"#000000\" stroke-opacity=\"1\" stroke-width=\"3.2\"/>\n<path clip-path=\"url(#clip152)\" d=\"M714.245 1043.44 L714.245 1075.44 L746.245 1075.44 L746.245 1043.44 L714.245 1043.44 Z\" fill=\"#e26f46\" fill-rule=\"evenodd\" fill-opacity=\"1\" stroke=\"#000000\" stroke-opacity=\"1\" stroke-width=\"3.2\"/>\n<path clip-path=\"url(#clip152)\" d=\"M740.742 1046.57 L740.742 1078.57 L772.742 1078.57 L772.742 1046.57 L740.742 1046.57 Z\" fill=\"#e26f46\" fill-rule=\"evenodd\" fill-opacity=\"1\" stroke=\"#000000\" stroke-opacity=\"1\" stroke-width=\"3.2\"/>\n<path clip-path=\"url(#clip152)\" d=\"M767.232 1041.49 L767.232 1073.49 L799.232 1073.49 L799.232 1041.49 L767.232 1041.49 Z\" fill=\"#e26f46\" fill-rule=\"evenodd\" fill-opacity=\"1\" stroke=\"#000000\" stroke-opacity=\"1\" stroke-width=\"3.2\"/>\n<path clip-path=\"url(#clip152)\" d=\"M793.657 1052.31 L793.657 1084.31 L825.657 1084.31 L825.657 1052.31 L793.657 1052.31 Z\" fill=\"#e26f46\" fill-rule=\"evenodd\" fill-opacity=\"1\" stroke=\"#000000\" stroke-opacity=\"1\" stroke-width=\"3.2\"/>\n<path clip-path=\"url(#clip152)\" d=\"M820.011 1041.37 L820.011 1073.37 L852.011 1073.37 L852.011 1041.37 L820.011 1041.37 Z\" fill=\"#e26f46\" fill-rule=\"evenodd\" fill-opacity=\"1\" stroke=\"#000000\" stroke-opacity=\"1\" stroke-width=\"3.2\"/>\n<path clip-path=\"url(#clip152)\" d=\"M846.393 1054.72 L846.393 1086.72 L878.393 1086.72 L878.393 1054.72 L846.393 1054.72 Z\" fill=\"#e26f46\" fill-rule=\"evenodd\" fill-opacity=\"1\" stroke=\"#000000\" stroke-opacity=\"1\" stroke-width=\"3.2\"/>\n<path clip-path=\"url(#clip152)\" d=\"M872.877 1047.71 L872.877 1079.71 L904.877 1079.71 L904.877 1047.71 L872.877 1047.71 Z\" fill=\"#e26f46\" fill-rule=\"evenodd\" fill-opacity=\"1\" stroke=\"#000000\" stroke-opacity=\"1\" stroke-width=\"3.2\"/>\n<path clip-path=\"url(#clip152)\" d=\"M899.369 1050.23 L899.369 1082.23 L931.369 1082.23 L931.369 1050.23 L899.369 1050.23 Z\" fill=\"#e26f46\" fill-rule=\"evenodd\" fill-opacity=\"1\" stroke=\"#000000\" stroke-opacity=\"1\" stroke-width=\"3.2\"/>\n<path clip-path=\"url(#clip152)\" d=\"M925.876 1053.6 L925.876 1085.6 L957.876 1085.6 L957.876 1053.6 L925.876 1053.6 Z\" fill=\"#e26f46\" fill-rule=\"evenodd\" fill-opacity=\"1\" stroke=\"#000000\" stroke-opacity=\"1\" stroke-width=\"3.2\"/>\n<path clip-path=\"url(#clip152)\" d=\"M952.294 1053.85 L952.294 1085.85 L984.294 1085.85 L984.294 1053.85 L952.294 1053.85 Z\" fill=\"#e26f46\" fill-rule=\"evenodd\" fill-opacity=\"1\" stroke=\"#000000\" stroke-opacity=\"1\" stroke-width=\"3.2\"/>\n<path clip-path=\"url(#clip152)\" d=\"M978.689 1055.78 L978.689 1087.78 L1010.69 1087.78 L1010.69 1055.78 L978.689 1055.78 Z\" fill=\"#e26f46\" fill-rule=\"evenodd\" fill-opacity=\"1\" stroke=\"#000000\" stroke-opacity=\"1\" stroke-width=\"3.2\"/>\n<path clip-path=\"url(#clip152)\" d=\"M1005.06 1057.82 L1005.06 1089.82 L1037.06 1089.82 L1037.06 1057.82 L1005.06 1057.82 Z\" fill=\"#e26f46\" fill-rule=\"evenodd\" fill-opacity=\"1\" stroke=\"#000000\" stroke-opacity=\"1\" stroke-width=\"3.2\"/>\n<path clip-path=\"url(#clip152)\" d=\"M1031.43 1094.41 L1031.43 1126.41 L1063.43 1126.41 L1063.43 1094.41 L1031.43 1094.41 Z\" fill=\"#e26f46\" fill-rule=\"evenodd\" fill-opacity=\"1\" stroke=\"#000000\" stroke-opacity=\"1\" stroke-width=\"3.2\"/>\n<path clip-path=\"url(#clip152)\" d=\"M1057.81 1096.92 L1057.81 1128.92 L1089.81 1128.92 L1089.81 1096.92 L1057.81 1096.92 Z\" fill=\"#e26f46\" fill-rule=\"evenodd\" fill-opacity=\"1\" stroke=\"#000000\" stroke-opacity=\"1\" stroke-width=\"3.2\"/>\n<path clip-path=\"url(#clip152)\" d=\"M1084.3 1097.48 L1084.3 1129.48 L1116.3 1129.48 L1116.3 1097.48 L1084.3 1097.48 Z\" fill=\"#e26f46\" fill-rule=\"evenodd\" fill-opacity=\"1\" stroke=\"#000000\" stroke-opacity=\"1\" stroke-width=\"3.2\"/>\n<path clip-path=\"url(#clip152)\" d=\"M1110.69 1097.72 L1110.69 1129.72 L1142.69 1129.72 L1142.69 1097.72 L1110.69 1097.72 Z\" fill=\"#e26f46\" fill-rule=\"evenodd\" fill-opacity=\"1\" stroke=\"#000000\" stroke-opacity=\"1\" stroke-width=\"3.2\"/>\n<path clip-path=\"url(#clip152)\" d=\"M1137.08 1097.9 L1137.08 1129.9 L1169.08 1129.9 L1169.08 1097.9 L1137.08 1097.9 Z\" fill=\"#e26f46\" fill-rule=\"evenodd\" fill-opacity=\"1\" stroke=\"#000000\" stroke-opacity=\"1\" stroke-width=\"3.2\"/>\n<path clip-path=\"url(#clip152)\" d=\"M1163.51 1098.03 L1163.51 1130.03 L1195.51 1130.03 L1195.51 1098.03 L1163.51 1098.03 Z\" fill=\"#e26f46\" fill-rule=\"evenodd\" fill-opacity=\"1\" stroke=\"#000000\" stroke-opacity=\"1\" stroke-width=\"3.2\"/>\n<path clip-path=\"url(#clip152)\" d=\"M1189.88 1098.12 L1189.88 1130.12 L1221.88 1130.12 L1221.88 1098.12 L1189.88 1098.12 Z\" fill=\"#e26f46\" fill-rule=\"evenodd\" fill-opacity=\"1\" stroke=\"#000000\" stroke-opacity=\"1\" stroke-width=\"3.2\"/>\n<path clip-path=\"url(#clip152)\" d=\"M1216.22 1098.18 L1216.22 1130.18 L1248.22 1130.18 L1248.22 1098.18 L1216.22 1098.18 Z\" fill=\"#e26f46\" fill-rule=\"evenodd\" fill-opacity=\"1\" stroke=\"#000000\" stroke-opacity=\"1\" stroke-width=\"3.2\"/>\n<path clip-path=\"url(#clip152)\" d=\"M1242.63 1098.23 L1242.63 1130.23 L1274.63 1130.23 L1274.63 1098.23 L1242.63 1098.23 Z\" fill=\"#e26f46\" fill-rule=\"evenodd\" fill-opacity=\"1\" stroke=\"#000000\" stroke-opacity=\"1\" stroke-width=\"3.2\"/>\n<path clip-path=\"url(#clip152)\" d=\"M1269.03 1098.26 L1269.03 1130.26 L1301.03 1130.26 L1301.03 1098.26 L1269.03 1098.26 Z\" fill=\"#e26f46\" fill-rule=\"evenodd\" fill-opacity=\"1\" stroke=\"#000000\" stroke-opacity=\"1\" stroke-width=\"3.2\"/>\n<path clip-path=\"url(#clip152)\" d=\"M1295.42 1098.28 L1295.42 1130.28 L1327.42 1130.28 L1327.42 1098.28 L1295.42 1098.28 Z\" fill=\"#e26f46\" fill-rule=\"evenodd\" fill-opacity=\"1\" stroke=\"#000000\" stroke-opacity=\"1\" stroke-width=\"3.2\"/>\n<path clip-path=\"url(#clip152)\" d=\"M1321.8 1098.3 L1321.8 1130.3 L1353.8 1130.3 L1353.8 1098.3 L1321.8 1098.3 Z\" fill=\"#e26f46\" fill-rule=\"evenodd\" fill-opacity=\"1\" stroke=\"#000000\" stroke-opacity=\"1\" stroke-width=\"3.2\"/>\n<path clip-path=\"url(#clip152)\" d=\"M1348.21 1098.68 L1348.21 1130.68 L1380.21 1130.68 L1380.21 1098.68 L1348.21 1098.68 Z\" fill=\"#e26f46\" fill-rule=\"evenodd\" fill-opacity=\"1\" stroke=\"#000000\" stroke-opacity=\"1\" stroke-width=\"3.2\"/>\n<path clip-path=\"url(#clip152)\" d=\"M1374.58 1102.54 L1374.58 1134.54 L1406.58 1134.54 L1406.58 1102.54 L1374.58 1102.54 Z\" fill=\"#e26f46\" fill-rule=\"evenodd\" fill-opacity=\"1\" stroke=\"#000000\" stroke-opacity=\"1\" stroke-width=\"3.2\"/>\n<path clip-path=\"url(#clip152)\" d=\"M1401 1110.01 L1401 1142.01 L1433 1142.01 L1433 1110.01 L1401 1110.01 Z\" fill=\"#e26f46\" fill-rule=\"evenodd\" fill-opacity=\"1\" stroke=\"#000000\" stroke-opacity=\"1\" stroke-width=\"3.2\"/>\n<path clip-path=\"url(#clip152)\" d=\"M1427.42 1118.92 L1427.42 1150.92 L1459.42 1150.92 L1459.42 1118.92 L1427.42 1118.92 Z\" fill=\"#e26f46\" fill-rule=\"evenodd\" fill-opacity=\"1\" stroke=\"#000000\" stroke-opacity=\"1\" stroke-width=\"3.2\"/>\n<path clip-path=\"url(#clip152)\" d=\"M1453.83 1110.19 L1453.83 1142.19 L1485.83 1142.19 L1485.83 1110.19 L1453.83 1110.19 Z\" fill=\"#e26f46\" fill-rule=\"evenodd\" fill-opacity=\"1\" stroke=\"#000000\" stroke-opacity=\"1\" stroke-width=\"3.2\"/>\n<path clip-path=\"url(#clip152)\" d=\"M1480.21 1101.48 L1480.21 1133.48 L1512.21 1133.48 L1512.21 1101.48 L1480.21 1101.48 Z\" fill=\"#e26f46\" fill-rule=\"evenodd\" fill-opacity=\"1\" stroke=\"#000000\" stroke-opacity=\"1\" stroke-width=\"3.2\"/>\n<path clip-path=\"url(#clip152)\" d=\"M1506.67 1094 L1506.67 1126 L1538.67 1126 L1538.67 1094 L1506.67 1094 Z\" fill=\"#e26f46\" fill-rule=\"evenodd\" fill-opacity=\"1\" stroke=\"#000000\" stroke-opacity=\"1\" stroke-width=\"3.2\"/>\n<path clip-path=\"url(#clip152)\" d=\"M1533.04 1087.81 L1533.04 1119.81 L1565.04 1119.81 L1565.04 1087.81 L1533.04 1087.81 Z\" fill=\"#e26f46\" fill-rule=\"evenodd\" fill-opacity=\"1\" stroke=\"#000000\" stroke-opacity=\"1\" stroke-width=\"3.2\"/>\n<path clip-path=\"url(#clip152)\" d=\"M1559.42 1082.72 L1559.42 1114.72 L1591.42 1114.72 L1591.42 1082.72 L1559.42 1082.72 Z\" fill=\"#e26f46\" fill-rule=\"evenodd\" fill-opacity=\"1\" stroke=\"#000000\" stroke-opacity=\"1\" stroke-width=\"3.2\"/>\n<path clip-path=\"url(#clip152)\" d=\"M1585.93 1078.51 L1585.93 1110.51 L1617.93 1110.51 L1617.93 1078.51 L1585.93 1078.51 Z\" fill=\"#e26f46\" fill-rule=\"evenodd\" fill-opacity=\"1\" stroke=\"#000000\" stroke-opacity=\"1\" stroke-width=\"3.2\"/>\n<path clip-path=\"url(#clip152)\" d=\"M1612.43 1075.1 L1612.43 1107.1 L1644.43 1107.1 L1644.43 1075.1 L1612.43 1075.1 Z\" fill=\"#e26f46\" fill-rule=\"evenodd\" fill-opacity=\"1\" stroke=\"#000000\" stroke-opacity=\"1\" stroke-width=\"3.2\"/>\n<path clip-path=\"url(#clip152)\" d=\"M1638.9 1072.34 L1638.9 1104.34 L1670.9 1104.34 L1670.9 1072.34 L1638.9 1072.34 Z\" fill=\"#e26f46\" fill-rule=\"evenodd\" fill-opacity=\"1\" stroke=\"#000000\" stroke-opacity=\"1\" stroke-width=\"3.2\"/>\n<path clip-path=\"url(#clip152)\" d=\"M1665.43 1070.12 L1665.43 1102.12 L1697.43 1102.12 L1697.43 1070.12 L1665.43 1070.12 Z\" fill=\"#e26f46\" fill-rule=\"evenodd\" fill-opacity=\"1\" stroke=\"#000000\" stroke-opacity=\"1\" stroke-width=\"3.2\"/>\n<path clip-path=\"url(#clip152)\" d=\"M1691.93 1068.36 L1691.93 1100.36 L1723.93 1100.36 L1723.93 1068.36 L1691.93 1068.36 Z\" fill=\"#e26f46\" fill-rule=\"evenodd\" fill-opacity=\"1\" stroke=\"#000000\" stroke-opacity=\"1\" stroke-width=\"3.2\"/>\n<path clip-path=\"url(#clip152)\" d=\"M1718.44 1066.96 L1718.44 1098.96 L1750.44 1098.96 L1750.44 1066.96 L1718.44 1066.96 Z\" fill=\"#e26f46\" fill-rule=\"evenodd\" fill-opacity=\"1\" stroke=\"#000000\" stroke-opacity=\"1\" stroke-width=\"3.2\"/>\n<path clip-path=\"url(#clip152)\" d=\"M1744.89 1065.88 L1744.89 1097.88 L1776.89 1097.88 L1776.89 1065.88 L1744.89 1065.88 Z\" fill=\"#e26f46\" fill-rule=\"evenodd\" fill-opacity=\"1\" stroke=\"#000000\" stroke-opacity=\"1\" stroke-width=\"3.2\"/>\n<path clip-path=\"url(#clip152)\" d=\"M1771.39 1065.06 L1771.39 1097.06 L1803.39 1097.06 L1803.39 1065.06 L1771.39 1065.06 Z\" fill=\"#e26f46\" fill-rule=\"evenodd\" fill-opacity=\"1\" stroke=\"#000000\" stroke-opacity=\"1\" stroke-width=\"3.2\"/>\n<path clip-path=\"url(#clip152)\" d=\"M1797.84 1064.46 L1797.84 1096.46 L1829.84 1096.46 L1829.84 1064.46 L1797.84 1064.46 Z\" fill=\"#e26f46\" fill-rule=\"evenodd\" fill-opacity=\"1\" stroke=\"#000000\" stroke-opacity=\"1\" stroke-width=\"3.2\"/>\n<path clip-path=\"url(#clip152)\" d=\"M1824.33 1064.04 L1824.33 1096.04 L1856.33 1096.04 L1856.33 1064.04 L1824.33 1064.04 Z\" fill=\"#e26f46\" fill-rule=\"evenodd\" fill-opacity=\"1\" stroke=\"#000000\" stroke-opacity=\"1\" stroke-width=\"3.2\"/>\n<path clip-path=\"url(#clip152)\" d=\"M1850.82 1063.79 L1850.82 1095.79 L1882.82 1095.79 L1882.82 1063.79 L1850.82 1063.79 Z\" fill=\"#e26f46\" fill-rule=\"evenodd\" fill-opacity=\"1\" stroke=\"#000000\" stroke-opacity=\"1\" stroke-width=\"3.2\"/>\n<path clip-path=\"url(#clip152)\" d=\"M1877.35 1063.67 L1877.35 1095.67 L1909.35 1095.67 L1909.35 1063.67 L1877.35 1063.67 Z\" fill=\"#e26f46\" fill-rule=\"evenodd\" fill-opacity=\"1\" stroke=\"#000000\" stroke-opacity=\"1\" stroke-width=\"3.2\"/>\n<path clip-path=\"url(#clip152)\" d=\"M1903.85 1063.68 L1903.85 1095.68 L1935.85 1095.68 L1935.85 1063.68 L1903.85 1063.68 Z\" fill=\"#e26f46\" fill-rule=\"evenodd\" fill-opacity=\"1\" stroke=\"#000000\" stroke-opacity=\"1\" stroke-width=\"3.2\"/>\n<path clip-path=\"url(#clip152)\" d=\"M1930.32 1063.79 L1930.32 1095.79 L1962.32 1095.79 L1962.32 1063.79 L1930.32 1063.79 Z\" fill=\"#e26f46\" fill-rule=\"evenodd\" fill-opacity=\"1\" stroke=\"#000000\" stroke-opacity=\"1\" stroke-width=\"3.2\"/>\n<path clip-path=\"url(#clip152)\" d=\"M1956.79 1064.01 L1956.79 1096.01 L1988.79 1096.01 L1988.79 1064.01 L1956.79 1064.01 Z\" fill=\"#e26f46\" fill-rule=\"evenodd\" fill-opacity=\"1\" stroke=\"#000000\" stroke-opacity=\"1\" stroke-width=\"3.2\"/>\n<path clip-path=\"url(#clip152)\" d=\"M1983.26 1064.31 L1983.26 1096.31 L2015.26 1096.31 L2015.26 1064.31 L1983.26 1064.31 Z\" fill=\"#e26f46\" fill-rule=\"evenodd\" fill-opacity=\"1\" stroke=\"#000000\" stroke-opacity=\"1\" stroke-width=\"3.2\"/>\n<path clip-path=\"url(#clip152)\" d=\"M2009.72 1064.69 L2009.72 1096.69 L2041.72 1096.69 L2041.72 1064.69 L2009.72 1064.69 Z\" fill=\"#e26f46\" fill-rule=\"evenodd\" fill-opacity=\"1\" stroke=\"#000000\" stroke-opacity=\"1\" stroke-width=\"3.2\"/>\n<path clip-path=\"url(#clip152)\" d=\"M2036.21 1065.15 L2036.21 1097.15 L2068.21 1097.15 L2068.21 1065.15 L2036.21 1065.15 Z\" fill=\"#e26f46\" fill-rule=\"evenodd\" fill-opacity=\"1\" stroke=\"#000000\" stroke-opacity=\"1\" stroke-width=\"3.2\"/>\n<path clip-path=\"url(#clip152)\" d=\"M2062.67 1065.67 L2062.67 1097.67 L2094.67 1097.67 L2094.67 1065.67 L2062.67 1065.67 Z\" fill=\"#e26f46\" fill-rule=\"evenodd\" fill-opacity=\"1\" stroke=\"#000000\" stroke-opacity=\"1\" stroke-width=\"3.2\"/>\n<path clip-path=\"url(#clip152)\" d=\"M2089.16 1066.26 L2089.16 1098.26 L2121.16 1098.26 L2121.16 1066.26 L2089.16 1066.26 Z\" fill=\"#e26f46\" fill-rule=\"evenodd\" fill-opacity=\"1\" stroke=\"#000000\" stroke-opacity=\"1\" stroke-width=\"3.2\"/>\n<path clip-path=\"url(#clip152)\" d=\"M2115.57 1066.9 L2115.57 1098.9 L2147.57 1098.9 L2147.57 1066.9 L2115.57 1066.9 Z\" fill=\"#e26f46\" fill-rule=\"evenodd\" fill-opacity=\"1\" stroke=\"#000000\" stroke-opacity=\"1\" stroke-width=\"3.2\"/>\n<path clip-path=\"url(#clip152)\" d=\"M2141.95 1067.6 L2141.95 1099.6 L2173.95 1099.6 L2173.95 1067.6 L2141.95 1067.6 Z\" fill=\"#e26f46\" fill-rule=\"evenodd\" fill-opacity=\"1\" stroke=\"#000000\" stroke-opacity=\"1\" stroke-width=\"3.2\"/>\n<path clip-path=\"url(#clip152)\" d=\"M2168.34 1068.35 L2168.34 1100.35 L2200.34 1100.35 L2200.34 1068.35 L2168.34 1068.35 Z\" fill=\"#e26f46\" fill-rule=\"evenodd\" fill-opacity=\"1\" stroke=\"#000000\" stroke-opacity=\"1\" stroke-width=\"3.2\"/>\n<path clip-path=\"url(#clip152)\" d=\"M2194.74 1069.14 L2194.74 1101.14 L2226.74 1101.14 L2226.74 1069.14 L2194.74 1069.14 Z\" fill=\"#e26f46\" fill-rule=\"evenodd\" fill-opacity=\"1\" stroke=\"#000000\" stroke-opacity=\"1\" stroke-width=\"3.2\"/>\n<path clip-path=\"url(#clip152)\" d=\"M2221.2 1070.02 L2221.2 1102.02 L2253.2 1102.02 L2253.2 1070.02 L2221.2 1070.02 Z\" fill=\"#e26f46\" fill-rule=\"evenodd\" fill-opacity=\"1\" stroke=\"#000000\" stroke-opacity=\"1\" stroke-width=\"3.2\"/>\n<path clip-path=\"url(#clip152)\" d=\"M2247.66 1071.14 L2247.66 1103.14 L2279.66 1103.14 L2279.66 1071.14 L2247.66 1071.14 Z\" fill=\"#e26f46\" fill-rule=\"evenodd\" fill-opacity=\"1\" stroke=\"#000000\" stroke-opacity=\"1\" stroke-width=\"3.2\"/>\n<path clip-path=\"url(#clip152)\" d=\"M2274.1 1072.17 L2274.1 1104.17 L2306.1 1104.17 L2306.1 1072.17 L2274.1 1072.17 Z\" fill=\"#e26f46\" fill-rule=\"evenodd\" fill-opacity=\"1\" stroke=\"#000000\" stroke-opacity=\"1\" stroke-width=\"3.2\"/>\n<path clip-path=\"url(#clip150)\" d=\"\nM1803.47 324.425 L2278.96 324.425 L2278.96 168.905 L1803.47 168.905  Z\n  \" fill=\"#ffffff\" fill-rule=\"evenodd\" fill-opacity=\"1\"/>\n<polyline clip-path=\"url(#clip150)\" style=\"stroke:#000000; stroke-linecap:butt; stroke-linejoin:round; stroke-width:4; stroke-opacity:1; fill:none\" points=\"\n  1803.47,324.425 2278.96,324.425 2278.96,168.905 1803.47,168.905 1803.47,324.425 \n  \"/>\n<polyline clip-path=\"url(#clip150)\" style=\"stroke:#009af9; stroke-linecap:butt; stroke-linejoin:round; stroke-width:4; stroke-opacity:1; fill:none\" points=\"\n  1828.07,220.745 1975.66,220.745 \n  \"/>\n<circle clip-path=\"url(#clip150)\" cx=\"1901.86\" cy=\"220.745\" r=\"23\" fill=\"#009af9\" fill-rule=\"evenodd\" fill-opacity=\"1\" stroke=\"#000000\" stroke-opacity=\"1\" stroke-width=\"5.12\"/>\n<path clip-path=\"url(#clip150)\" d=\"M2007.66 204.738 L2007.66 212.099 L2016.44 212.099 L2016.44 215.409 L2007.66 215.409 L2007.66 229.483 Q2007.66 232.654 2008.52 233.557 Q2009.4 234.46 2012.06 234.46 L2016.44 234.46 L2016.44 238.025 L2012.06 238.025 Q2007.13 238.025 2005.25 236.196 Q2003.38 234.344 2003.38 229.483 L2003.38 215.409 L2000.25 215.409 L2000.25 212.099 L2003.38 212.099 L2003.38 204.738 L2007.66 204.738 Z\" fill=\"#000000\" fill-rule=\"evenodd\" fill-opacity=\"1\" /><path clip-path=\"url(#clip150)\" d=\"M2037.06 216.08 Q2036.34 215.664 2035.49 215.478 Q2034.65 215.27 2033.63 215.27 Q2030.02 215.27 2028.08 217.631 Q2026.16 219.969 2026.16 224.367 L2026.16 238.025 L2021.87 238.025 L2021.87 212.099 L2026.16 212.099 L2026.16 216.127 Q2027.5 213.766 2029.65 212.631 Q2031.81 211.474 2034.88 211.474 Q2035.32 211.474 2035.86 211.543 Q2036.39 211.59 2037.04 211.705 L2037.06 216.08 Z\" fill=\"#000000\" fill-rule=\"evenodd\" fill-opacity=\"1\" /><path clip-path=\"url(#clip150)\" d=\"M2041.09 227.793 L2041.09 212.099 L2045.35 212.099 L2045.35 227.631 Q2045.35 231.312 2046.78 233.164 Q2048.22 234.992 2051.09 234.992 Q2054.54 234.992 2056.53 232.793 Q2058.54 230.594 2058.54 226.798 L2058.54 212.099 L2062.8 212.099 L2062.8 238.025 L2058.54 238.025 L2058.54 234.043 Q2056.99 236.404 2054.93 237.562 Q2052.89 238.696 2050.18 238.696 Q2045.72 238.696 2043.4 235.918 Q2041.09 233.14 2041.09 227.793 M2051.81 211.474 L2051.81 211.474 Z\" fill=\"#000000\" fill-rule=\"evenodd\" fill-opacity=\"1\" /><path clip-path=\"url(#clip150)\" d=\"M2093.75 223.997 L2093.75 226.08 L2074.17 226.08 Q2074.44 230.478 2076.81 232.793 Q2079.19 235.085 2083.43 235.085 Q2085.88 235.085 2088.17 234.483 Q2090.49 233.881 2092.75 232.677 L2092.75 236.705 Q2090.46 237.677 2088.06 238.187 Q2085.65 238.696 2083.17 238.696 Q2076.97 238.696 2073.33 235.085 Q2069.72 231.474 2069.72 225.316 Q2069.72 218.951 2073.15 215.224 Q2076.6 211.474 2082.43 211.474 Q2087.66 211.474 2090.69 214.853 Q2093.75 218.21 2093.75 223.997 M2089.49 222.747 Q2089.44 219.252 2087.52 217.168 Q2085.62 215.085 2082.48 215.085 Q2078.91 215.085 2076.76 217.099 Q2074.63 219.113 2074.31 222.77 L2089.49 222.747 Z\" fill=\"#000000\" fill-rule=\"evenodd\" fill-opacity=\"1\" /><polyline clip-path=\"url(#clip150)\" style=\"stroke:#e26f46; stroke-linecap:butt; stroke-linejoin:round; stroke-width:4; stroke-opacity:1; fill:none\" points=\"\n  1828.07,272.585 1975.66,272.585 \n  \"/>\n<path clip-path=\"url(#clip150)\" d=\"M1876.26 246.985 L1876.26 298.185 L1927.46 298.185 L1927.46 246.985 L1876.26 246.985 Z\" fill=\"#e26f46\" fill-rule=\"evenodd\" fill-opacity=\"1\" stroke=\"#000000\" stroke-opacity=\"1\" stroke-width=\"5.12\"/>\n<path clip-path=\"url(#clip150)\" d=\"M2004.54 285.976 L2004.54 299.726 L2000.25 299.726 L2000.25 263.939 L2004.54 263.939 L2004.54 267.874 Q2005.88 265.559 2007.92 264.448 Q2009.98 263.314 2012.82 263.314 Q2017.55 263.314 2020.49 267.064 Q2023.45 270.814 2023.45 276.925 Q2023.45 283.036 2020.49 286.786 Q2017.55 290.536 2012.82 290.536 Q2009.98 290.536 2007.92 289.425 Q2005.88 288.291 2004.54 285.976 M2019.03 276.925 Q2019.03 272.226 2017.08 269.564 Q2015.16 266.879 2011.78 266.879 Q2008.4 266.879 2006.46 269.564 Q2004.54 272.226 2004.54 276.925 Q2004.54 281.624 2006.46 284.309 Q2008.4 286.971 2011.78 286.971 Q2015.16 286.971 2017.08 284.309 Q2019.03 281.624 2019.03 276.925 Z\" fill=\"#000000\" fill-rule=\"evenodd\" fill-opacity=\"1\" /><path clip-path=\"url(#clip150)\" d=\"M2045.53 267.92 Q2044.81 267.504 2043.96 267.318 Q2043.12 267.11 2042.11 267.11 Q2038.5 267.11 2036.55 269.471 Q2034.63 271.809 2034.63 276.207 L2034.63 289.865 L2030.35 289.865 L2030.35 263.939 L2034.63 263.939 L2034.63 267.967 Q2035.97 265.606 2038.12 264.471 Q2040.28 263.314 2043.36 263.314 Q2043.8 263.314 2044.33 263.383 Q2044.86 263.43 2045.51 263.545 L2045.53 267.92 Z\" fill=\"#000000\" fill-rule=\"evenodd\" fill-opacity=\"1\" /><path clip-path=\"url(#clip150)\" d=\"M2071.13 275.837 L2071.13 277.92 L2051.55 277.92 Q2051.83 282.318 2054.19 284.633 Q2056.57 286.925 2060.81 286.925 Q2063.26 286.925 2065.56 286.323 Q2067.87 285.721 2070.14 284.517 L2070.14 288.545 Q2067.85 289.517 2065.44 290.027 Q2063.03 290.536 2060.56 290.536 Q2054.35 290.536 2050.72 286.925 Q2047.11 283.314 2047.11 277.156 Q2047.11 270.791 2050.53 267.064 Q2053.98 263.314 2059.81 263.314 Q2065.05 263.314 2068.08 266.693 Q2071.13 270.05 2071.13 275.837 M2066.87 274.587 Q2066.83 271.092 2064.91 269.008 Q2063.01 266.925 2059.86 266.925 Q2056.3 266.925 2054.14 268.939 Q2052.01 270.953 2051.69 274.61 L2066.87 274.587 Z\" fill=\"#000000\" fill-rule=\"evenodd\" fill-opacity=\"1\" /><path clip-path=\"url(#clip150)\" d=\"M2095.18 267.874 L2095.18 253.846 L2099.44 253.846 L2099.44 289.865 L2095.18 289.865 L2095.18 285.976 Q2093.84 288.291 2091.78 289.425 Q2089.74 290.536 2086.87 290.536 Q2082.18 290.536 2079.21 286.786 Q2076.27 283.036 2076.27 276.925 Q2076.27 270.814 2079.21 267.064 Q2082.18 263.314 2086.87 263.314 Q2089.74 263.314 2091.78 264.448 Q2093.84 265.559 2095.18 267.874 M2080.67 276.925 Q2080.67 281.624 2082.59 284.309 Q2084.54 286.971 2087.92 286.971 Q2091.3 286.971 2093.24 284.309 Q2095.18 281.624 2095.18 276.925 Q2095.18 272.226 2093.24 269.564 Q2091.3 266.879 2087.92 266.879 Q2084.54 266.879 2082.59 269.564 Q2080.67 272.226 2080.67 276.925 Z\" fill=\"#000000\" fill-rule=\"evenodd\" fill-opacity=\"1\" /><path clip-path=\"url(#clip150)\" d=\"M2108.22 263.939 L2112.48 263.939 L2112.48 289.865 L2108.22 289.865 L2108.22 263.939 M2108.22 253.846 L2112.48 253.846 L2112.48 259.24 L2108.22 259.24 L2108.22 253.846 Z\" fill=\"#000000\" fill-rule=\"evenodd\" fill-opacity=\"1\" /><path clip-path=\"url(#clip150)\" d=\"M2140.05 264.934 L2140.05 268.916 Q2138.24 267.92 2136.41 267.434 Q2134.61 266.925 2132.75 266.925 Q2128.61 266.925 2126.32 269.564 Q2124.03 272.18 2124.03 276.925 Q2124.03 281.67 2126.32 284.309 Q2128.61 286.925 2132.75 286.925 Q2134.61 286.925 2136.41 286.439 Q2138.24 285.929 2140.05 284.934 L2140.05 288.869 Q2138.26 289.703 2136.34 290.119 Q2134.44 290.536 2132.29 290.536 Q2126.43 290.536 2122.99 286.855 Q2119.54 283.175 2119.54 276.925 Q2119.54 270.582 2123.01 266.948 Q2126.5 263.314 2132.57 263.314 Q2134.54 263.314 2136.41 263.731 Q2138.29 264.124 2140.05 264.934 Z\" fill=\"#000000\" fill-rule=\"evenodd\" fill-opacity=\"1\" /><path clip-path=\"url(#clip150)\" d=\"M2151.67 256.578 L2151.67 263.939 L2160.44 263.939 L2160.44 267.249 L2151.67 267.249 L2151.67 281.323 Q2151.67 284.494 2152.52 285.397 Q2153.4 286.3 2156.06 286.3 L2160.44 286.3 L2160.44 289.865 L2156.06 289.865 Q2151.13 289.865 2149.26 288.036 Q2147.38 286.184 2147.38 281.323 L2147.38 267.249 L2144.26 267.249 L2144.26 263.939 L2147.38 263.939 L2147.38 256.578 L2151.67 256.578 Z\" fill=\"#000000\" fill-rule=\"evenodd\" fill-opacity=\"1\" /><path clip-path=\"url(#clip150)\" d=\"M2166.04 263.939 L2170.3 263.939 L2170.3 289.865 L2166.04 289.865 L2166.04 263.939 M2166.04 253.846 L2170.3 253.846 L2170.3 259.24 L2166.04 259.24 L2166.04 253.846 Z\" fill=\"#000000\" fill-rule=\"evenodd\" fill-opacity=\"1\" /><path clip-path=\"url(#clip150)\" d=\"M2189.26 266.925 Q2185.83 266.925 2183.84 269.61 Q2181.85 272.272 2181.85 276.925 Q2181.85 281.578 2183.82 284.263 Q2185.81 286.925 2189.26 286.925 Q2192.66 286.925 2194.65 284.24 Q2196.64 281.555 2196.64 276.925 Q2196.64 272.318 2194.65 269.633 Q2192.66 266.925 2189.26 266.925 M2189.26 263.314 Q2194.81 263.314 2197.98 266.925 Q2201.16 270.536 2201.16 276.925 Q2201.16 283.291 2197.98 286.925 Q2194.81 290.536 2189.26 290.536 Q2183.68 290.536 2180.51 286.925 Q2177.36 283.291 2177.36 276.925 Q2177.36 270.536 2180.51 266.925 Q2183.68 263.314 2189.26 263.314 Z\" fill=\"#000000\" fill-rule=\"evenodd\" fill-opacity=\"1\" /><path clip-path=\"url(#clip150)\" d=\"M2229.77 274.217 L2229.77 289.865 L2225.51 289.865 L2225.51 274.355 Q2225.51 270.675 2224.07 268.846 Q2222.64 267.018 2219.77 267.018 Q2216.32 267.018 2214.33 269.217 Q2212.34 271.416 2212.34 275.212 L2212.34 289.865 L2208.05 289.865 L2208.05 263.939 L2212.34 263.939 L2212.34 267.967 Q2213.86 265.629 2215.92 264.471 Q2218.01 263.314 2220.72 263.314 Q2225.18 263.314 2227.48 266.092 Q2229.77 268.846 2229.77 274.217 Z\" fill=\"#000000\" fill-rule=\"evenodd\" fill-opacity=\"1\" /></svg>\n"
          },
          "metadata": {},
          "execution_count": 43
        }
      ]
    },
    {
      "cell_type": "markdown",
      "source": [
        "This is only for the case of viewing the notebook which will not render and save the images and will not visualize it on Github.\n",
        "\n",
        "![image.png](data:image/png;base64,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)"
      ],
      "metadata": {
        "id": "h_ZNGnAom2l-"
      }
    },
    {
      "cell_type": "markdown",
      "source": [
        "This does not look so good, does it? Well, we have not trained the models enough and they might even not be large enough.\n",
        "\n",
        "Let's load some already trained model and compare the results."
      ],
      "metadata": {
        "id": "KDw0O7_njdUK"
      }
    },
    {
      "cell_type": "code",
      "source": [
        "using BSON\n",
        "trained_models = BSON.load(datadir(\"good_models.bson\"))[:models]"
      ],
      "metadata": {
        "colab": {
          "base_uri": "https://localhost:8080/"
        },
        "id": "LpPV2ABLcbYG",
        "outputId": "1bf56679-6ebc-4e99-d3c5-6476fffb9be9"
      },
      "execution_count": 30,
      "outputs": [
        {
          "output_type": "execute_result",
          "data": {
            "text/plain": [
              "Dict{Symbol, Any} with 9 entries:\n",
              "  Symbol(\"R=5, C=20\")  => Chain(Recur(GRUCell(42, 32)), Dense(32, 32, elu), Den…\n",
              "  Symbol(\"R=50, C=20\") => Chain(Recur(GRUCell(42, 32)), Dense(32, 32, elu), Den…\n",
              "  Symbol(\"R=5, C=10\")  => Chain(Recur(GRUCell(42, 32)), Dense(32, 32, elu), Den…\n",
              "  Symbol(\"R=20, C=50\") => Chain(Recur(GRUCell(42, 32)), Dense(32, 32, elu), Den…\n",
              "  Symbol(\"R=20, C=10\") => Chain(Recur(GRUCell(42, 32)), Dense(32, 32, elu), Den…\n",
              "  Symbol(\"R=50, C=50\") => Chain(Recur(GRUCell(42, 32)), Dense(32, 32, elu), Den…\n",
              "  Symbol(\"R=20, C=20\") => Chain(Recur(GRUCell(42, 32)), Dense(32, 32, elu), Den…\n",
              "  Symbol(\"R=5, C=50\")  => Chain(Recur(GRUCell(42, 32)), Dense(32, 32, elu), Den…\n",
              "  Symbol(\"R=50, C=10\") => Chain(Recur(GRUCell(42, 32)), Dense(32, 32, elu), Den…"
            ]
          },
          "metadata": {},
          "execution_count": 30
        }
      ]
    },
    {
      "cell_type": "code",
      "source": [
        "plot_sequences(dataset, trained_models, ks, :test, seed = 10)"
      ],
      "metadata": {
        "colab": {
          "base_uri": "https://localhost:8080/",
          "height": 421
        },
        "id": "yLETGjlJjXQo",
        "outputId": "bd5a1e20-d785-42aa-97f9-b6bc29031097"
      },
      "execution_count": 44,
      "outputs": [
        {
          "output_type": "execute_result",
          "data": {
            "image/svg+xml": "<?xml version=\"1.0\" encoding=\"utf-8\"?>\n<svg xmlns=\"http://www.w3.org/2000/svg\" xmlns:xlink=\"http://www.w3.org/1999/xlink\" width=\"600\" height=\"400\" viewBox=\"0 0 2400 1600\">\n<defs>\n  <clipPath id=\"clip190\">\n    <rect x=\"0\" y=\"0\" width=\"2400\" height=\"1600\"/>\n  </clipPath>\n</defs>\n<path clip-path=\"url(#clip190)\" d=\"\nM0 1600 L2400 1600 L2400 0 L0 0  Z\n  \" fill=\"#ffffff\" fill-rule=\"evenodd\" fill-opacity=\"1\"/>\n<defs>\n  <clipPath id=\"clip191\">\n    <rect x=\"480\" y=\"0\" width=\"1681\" height=\"1600\"/>\n  </clipPath>\n</defs>\n<path clip-path=\"url(#clip190)\" d=\"\nM138.959 1486.45 L2352.76 1486.45 L2352.76 123.472 L138.959 123.472  Z\n  \" fill=\"#ffffff\" fill-rule=\"evenodd\" fill-opacity=\"1\"/>\n<defs>\n  <clipPath id=\"clip192\">\n    <rect x=\"138\" y=\"123\" width=\"2215\" height=\"1364\"/>\n  </clipPath>\n</defs>\n<polyline clip-path=\"url(#clip192)\" style=\"stroke:#000000; stroke-linecap:butt; stroke-linejoin:round; stroke-width:2; stroke-opacity:0.1; fill:none\" points=\"\n  201.614,1486.45 201.614,123.472 \n  \"/>\n<polyline clip-path=\"url(#clip192)\" style=\"stroke:#000000; stroke-linecap:butt; stroke-linejoin:round; stroke-width:2; stroke-opacity:0.1; fill:none\" points=\"\n  618.583,1486.45 618.583,123.472 \n  \"/>\n<polyline clip-path=\"url(#clip192)\" style=\"stroke:#000000; stroke-linecap:butt; stroke-linejoin:round; stroke-width:2; stroke-opacity:0.1; fill:none\" points=\"\n  1035.55,1486.45 1035.55,123.472 \n  \"/>\n<polyline clip-path=\"url(#clip192)\" style=\"stroke:#000000; stroke-linecap:butt; stroke-linejoin:round; stroke-width:2; stroke-opacity:0.1; fill:none\" points=\"\n  1452.52,1486.45 1452.52,123.472 \n  \"/>\n<polyline clip-path=\"url(#clip192)\" style=\"stroke:#000000; stroke-linecap:butt; stroke-linejoin:round; stroke-width:2; stroke-opacity:0.1; fill:none\" points=\"\n  1869.49,1486.45 1869.49,123.472 \n  \"/>\n<polyline clip-path=\"url(#clip192)\" style=\"stroke:#000000; stroke-linecap:butt; stroke-linejoin:round; stroke-width:2; stroke-opacity:0.1; fill:none\" points=\"\n  2286.46,1486.45 2286.46,123.472 \n  \"/>\n<polyline clip-path=\"url(#clip190)\" style=\"stroke:#000000; stroke-linecap:butt; stroke-linejoin:round; stroke-width:4; stroke-opacity:1; fill:none\" points=\"\n  138.959,1486.45 2352.76,1486.45 \n  \"/>\n<polyline clip-path=\"url(#clip190)\" style=\"stroke:#000000; stroke-linecap:butt; stroke-linejoin:round; stroke-width:4; stroke-opacity:1; fill:none\" points=\"\n  201.614,1486.45 201.614,1467.55 \n  \"/>\n<polyline clip-path=\"url(#clip190)\" style=\"stroke:#000000; stroke-linecap:butt; stroke-linejoin:round; stroke-width:4; stroke-opacity:1; fill:none\" points=\"\n  618.583,1486.45 618.583,1467.55 \n  \"/>\n<polyline clip-path=\"url(#clip190)\" style=\"stroke:#000000; stroke-linecap:butt; stroke-linejoin:round; stroke-width:4; stroke-opacity:1; fill:none\" points=\"\n  1035.55,1486.45 1035.55,1467.55 \n  \"/>\n<polyline clip-path=\"url(#clip190)\" style=\"stroke:#000000; stroke-linecap:butt; stroke-linejoin:round; stroke-width:4; stroke-opacity:1; fill:none\" points=\"\n  1452.52,1486.45 1452.52,1467.55 \n  \"/>\n<polyline clip-path=\"url(#clip190)\" style=\"stroke:#000000; stroke-linecap:butt; stroke-linejoin:round; stroke-width:4; stroke-opacity:1; fill:none\" points=\"\n  1869.49,1486.45 1869.49,1467.55 \n  \"/>\n<polyline clip-path=\"url(#clip190)\" style=\"stroke:#000000; stroke-linecap:butt; stroke-linejoin:round; stroke-width:4; stroke-opacity:1; fill:none\" points=\"\n  2286.46,1486.45 2286.46,1467.55 \n  \"/>\n<path clip-path=\"url(#clip190)\" d=\"M178.998 1517.37 Q175.387 1517.37 173.559 1520.93 Q171.753 1524.47 171.753 1531.6 Q171.753 1538.71 173.559 1542.27 Q175.387 1545.82 178.998 1545.82 Q182.633 1545.82 184.438 1542.27 Q186.267 1538.71 186.267 1531.6 Q186.267 1524.47 184.438 1520.93 Q182.633 1517.37 178.998 1517.37 M178.998 1513.66 Q184.809 1513.66 187.864 1518.27 Q190.943 1522.85 190.943 1531.6 Q190.943 1540.33 187.864 1544.94 Q184.809 1549.52 178.998 1549.52 Q173.188 1549.52 170.11 1544.94 Q167.054 1540.33 167.054 1531.6 Q167.054 1522.85 170.11 1518.27 Q173.188 1513.66 178.998 1513.66 Z\" fill=\"#000000\" fill-rule=\"evenodd\" fill-opacity=\"1\" /><path clip-path=\"url(#clip190)\" d=\"M199.16 1542.97 L204.045 1542.97 L204.045 1548.85 L199.16 1548.85 L199.16 1542.97 Z\" fill=\"#000000\" fill-rule=\"evenodd\" fill-opacity=\"1\" /><path clip-path=\"url(#clip190)\" d=\"M224.23 1517.37 Q220.619 1517.37 218.79 1520.93 Q216.984 1524.47 216.984 1531.6 Q216.984 1538.71 218.79 1542.27 Q220.619 1545.82 224.23 1545.82 Q227.864 1545.82 229.669 1542.27 Q231.498 1538.71 231.498 1531.6 Q231.498 1524.47 229.669 1520.93 Q227.864 1517.37 224.23 1517.37 M224.23 1513.66 Q230.04 1513.66 233.095 1518.27 Q236.174 1522.85 236.174 1531.6 Q236.174 1540.33 233.095 1544.94 Q230.04 1549.52 224.23 1549.52 Q218.42 1549.52 215.341 1544.94 Q212.285 1540.33 212.285 1531.6 Q212.285 1522.85 215.341 1518.27 Q218.42 1513.66 224.23 1513.66 Z\" fill=\"#000000\" fill-rule=\"evenodd\" fill-opacity=\"1\" /><path clip-path=\"url(#clip190)\" d=\"M596.465 1517.37 Q592.854 1517.37 591.025 1520.93 Q589.22 1524.47 589.22 1531.6 Q589.22 1538.71 591.025 1542.27 Q592.854 1545.82 596.465 1545.82 Q600.099 1545.82 601.905 1542.27 Q603.734 1538.71 603.734 1531.6 Q603.734 1524.47 601.905 1520.93 Q600.099 1517.37 596.465 1517.37 M596.465 1513.66 Q602.275 1513.66 605.331 1518.27 Q608.409 1522.85 608.409 1531.6 Q608.409 1540.33 605.331 1544.94 Q602.275 1549.52 596.465 1549.52 Q590.655 1549.52 587.576 1544.94 Q584.521 1540.33 584.521 1531.6 Q584.521 1522.85 587.576 1518.27 Q590.655 1513.66 596.465 1513.66 Z\" fill=\"#000000\" fill-rule=\"evenodd\" fill-opacity=\"1\" /><path clip-path=\"url(#clip190)\" d=\"M616.627 1542.97 L621.511 1542.97 L621.511 1548.85 L616.627 1548.85 L616.627 1542.97 Z\" fill=\"#000000\" fill-rule=\"evenodd\" fill-opacity=\"1\" /><path clip-path=\"url(#clip190)\" d=\"M631.743 1514.29 L650.099 1514.29 L650.099 1518.22 L636.025 1518.22 L636.025 1526.7 Q637.044 1526.35 638.062 1526.19 Q639.081 1526 640.099 1526 Q645.886 1526 649.266 1529.17 Q652.645 1532.34 652.645 1537.76 Q652.645 1543.34 649.173 1546.44 Q645.701 1549.52 639.382 1549.52 Q637.206 1549.52 634.937 1549.15 Q632.692 1548.78 630.284 1548.04 L630.284 1543.34 Q632.368 1544.47 634.59 1545.03 Q636.812 1545.58 639.289 1545.58 Q643.294 1545.58 645.631 1543.48 Q647.969 1541.37 647.969 1537.76 Q647.969 1534.15 645.631 1532.04 Q643.294 1529.94 639.289 1529.94 Q637.414 1529.94 635.539 1530.35 Q633.687 1530.77 631.743 1531.65 L631.743 1514.29 Z\" fill=\"#000000\" fill-rule=\"evenodd\" fill-opacity=\"1\" /><path clip-path=\"url(#clip190)\" d=\"M1002.7 1544.91 L1010.34 1544.91 L1010.34 1518.55 L1002.03 1520.21 L1002.03 1515.95 L1010.3 1514.29 L1014.97 1514.29 L1014.97 1544.91 L1022.61 1544.91 L1022.61 1548.85 L1002.7 1548.85 L1002.7 1544.91 Z\" fill=\"#000000\" fill-rule=\"evenodd\" fill-opacity=\"1\" /><path clip-path=\"url(#clip190)\" d=\"M1032.06 1542.97 L1036.94 1542.97 L1036.94 1548.85 L1032.06 1548.85 L1032.06 1542.97 Z\" fill=\"#000000\" fill-rule=\"evenodd\" fill-opacity=\"1\" /><path clip-path=\"url(#clip190)\" d=\"M1057.13 1517.37 Q1053.51 1517.37 1051.69 1520.93 Q1049.88 1524.47 1049.88 1531.6 Q1049.88 1538.71 1051.69 1542.27 Q1053.51 1545.82 1057.13 1545.82 Q1060.76 1545.82 1062.57 1542.27 Q1064.39 1538.71 1064.39 1531.6 Q1064.39 1524.47 1062.57 1520.93 Q1060.76 1517.37 1057.13 1517.37 M1057.13 1513.66 Q1062.94 1513.66 1065.99 1518.27 Q1069.07 1522.85 1069.07 1531.6 Q1069.07 1540.33 1065.99 1544.94 Q1062.94 1549.52 1057.13 1549.52 Q1051.32 1549.52 1048.24 1544.94 Q1045.18 1540.33 1045.18 1531.6 Q1045.18 1522.85 1048.24 1518.27 Q1051.32 1513.66 1057.13 1513.66 Z\" fill=\"#000000\" fill-rule=\"evenodd\" fill-opacity=\"1\" /><path clip-path=\"url(#clip190)\" d=\"M1420.17 1544.91 L1427.81 1544.91 L1427.81 1518.55 L1419.5 1520.21 L1419.5 1515.95 L1427.76 1514.29 L1432.44 1514.29 L1432.44 1544.91 L1440.08 1544.91 L1440.08 1548.85 L1420.17 1548.85 L1420.17 1544.91 Z\" fill=\"#000000\" fill-rule=\"evenodd\" fill-opacity=\"1\" /><path clip-path=\"url(#clip190)\" d=\"M1449.52 1542.97 L1454.41 1542.97 L1454.41 1548.85 L1449.52 1548.85 L1449.52 1542.97 Z\" fill=\"#000000\" fill-rule=\"evenodd\" fill-opacity=\"1\" /><path clip-path=\"url(#clip190)\" d=\"M1464.64 1514.29 L1483 1514.29 L1483 1518.22 L1468.92 1518.22 L1468.92 1526.7 Q1469.94 1526.35 1470.96 1526.19 Q1471.98 1526 1473 1526 Q1478.78 1526 1482.16 1529.17 Q1485.54 1532.34 1485.54 1537.76 Q1485.54 1543.34 1482.07 1546.44 Q1478.6 1549.52 1472.28 1549.52 Q1470.1 1549.52 1467.83 1549.15 Q1465.59 1548.78 1463.18 1548.04 L1463.18 1543.34 Q1465.26 1544.47 1467.49 1545.03 Q1469.71 1545.58 1472.19 1545.58 Q1476.19 1545.58 1478.53 1543.48 Q1480.87 1541.37 1480.87 1537.76 Q1480.87 1534.15 1478.53 1532.04 Q1476.19 1529.94 1472.19 1529.94 Q1470.31 1529.94 1468.44 1530.35 Q1466.58 1530.77 1464.64 1531.65 L1464.64 1514.29 Z\" fill=\"#000000\" fill-rule=\"evenodd\" fill-opacity=\"1\" /><path clip-path=\"url(#clip190)\" d=\"M1840.73 1544.91 L1857.05 1544.91 L1857.05 1548.85 L1835.1 1548.85 L1835.1 1544.91 Q1837.77 1542.16 1842.35 1537.53 Q1846.96 1532.88 1848.14 1531.53 Q1850.38 1529.01 1851.26 1527.27 Q1852.16 1525.51 1852.16 1523.82 Q1852.16 1521.07 1850.22 1519.33 Q1848.3 1517.6 1845.2 1517.6 Q1843 1517.6 1840.54 1518.36 Q1838.11 1519.13 1835.33 1520.68 L1835.33 1515.95 Q1838.16 1514.82 1840.61 1514.24 Q1843.07 1513.66 1845.1 1513.66 Q1850.47 1513.66 1853.67 1516.35 Q1856.86 1519.03 1856.86 1523.52 Q1856.86 1525.65 1856.05 1527.57 Q1855.27 1529.47 1853.16 1532.07 Q1852.58 1532.74 1849.48 1535.95 Q1846.38 1539.15 1840.73 1544.91 Z\" fill=\"#000000\" fill-rule=\"evenodd\" fill-opacity=\"1\" /><path clip-path=\"url(#clip190)\" d=\"M1866.86 1542.97 L1871.75 1542.97 L1871.75 1548.85 L1866.86 1548.85 L1866.86 1542.97 Z\" fill=\"#000000\" fill-rule=\"evenodd\" fill-opacity=\"1\" /><path clip-path=\"url(#clip190)\" d=\"M1891.93 1517.37 Q1888.32 1517.37 1886.49 1520.93 Q1884.69 1524.47 1884.69 1531.6 Q1884.69 1538.71 1886.49 1542.27 Q1888.32 1545.82 1891.93 1545.82 Q1895.57 1545.82 1897.37 1542.27 Q1899.2 1538.71 1899.2 1531.6 Q1899.2 1524.47 1897.37 1520.93 Q1895.57 1517.37 1891.93 1517.37 M1891.93 1513.66 Q1897.74 1513.66 1900.8 1518.27 Q1903.88 1522.85 1903.88 1531.6 Q1903.88 1540.33 1900.8 1544.94 Q1897.74 1549.52 1891.93 1549.52 Q1886.12 1549.52 1883.04 1544.94 Q1879.99 1540.33 1879.99 1531.6 Q1879.99 1522.85 1883.04 1518.27 Q1886.12 1513.66 1891.93 1513.66 Z\" fill=\"#000000\" fill-rule=\"evenodd\" fill-opacity=\"1\" /><path clip-path=\"url(#clip190)\" d=\"M2258.2 1544.91 L2274.51 1544.91 L2274.51 1548.85 L2252.57 1548.85 L2252.57 1544.91 Q2255.23 1542.16 2259.82 1537.53 Q2264.42 1532.88 2265.6 1531.53 Q2267.85 1529.01 2268.73 1527.27 Q2269.63 1525.51 2269.63 1523.82 Q2269.63 1521.07 2267.69 1519.33 Q2265.76 1517.6 2262.66 1517.6 Q2260.46 1517.6 2258.01 1518.36 Q2255.58 1519.13 2252.8 1520.68 L2252.8 1515.95 Q2255.63 1514.82 2258.08 1514.24 Q2260.53 1513.66 2262.57 1513.66 Q2267.94 1513.66 2271.13 1516.35 Q2274.33 1519.03 2274.33 1523.52 Q2274.33 1525.65 2273.52 1527.57 Q2272.73 1529.47 2270.63 1532.07 Q2270.05 1532.74 2266.95 1535.95 Q2263.84 1539.15 2258.2 1544.91 Z\" fill=\"#000000\" fill-rule=\"evenodd\" fill-opacity=\"1\" /><path clip-path=\"url(#clip190)\" d=\"M2284.33 1542.97 L2289.21 1542.97 L2289.21 1548.85 L2284.33 1548.85 L2284.33 1542.97 Z\" fill=\"#000000\" fill-rule=\"evenodd\" fill-opacity=\"1\" /><path clip-path=\"url(#clip190)\" d=\"M2299.44 1514.29 L2317.8 1514.29 L2317.8 1518.22 L2303.73 1518.22 L2303.73 1526.7 Q2304.75 1526.35 2305.76 1526.19 Q2306.78 1526 2307.8 1526 Q2313.59 1526 2316.97 1529.17 Q2320.35 1532.34 2320.35 1537.76 Q2320.35 1543.34 2316.88 1546.44 Q2313.4 1549.52 2307.08 1549.52 Q2304.91 1549.52 2302.64 1549.15 Q2300.39 1548.78 2297.99 1548.04 L2297.99 1543.34 Q2300.07 1544.47 2302.29 1545.03 Q2304.51 1545.58 2306.99 1545.58 Q2311 1545.58 2313.33 1543.48 Q2315.67 1541.37 2315.67 1537.76 Q2315.67 1534.15 2313.33 1532.04 Q2311 1529.94 2306.99 1529.94 Q2305.12 1529.94 2303.24 1530.35 Q2301.39 1530.77 2299.44 1531.65 L2299.44 1514.29 Z\" fill=\"#000000\" fill-rule=\"evenodd\" fill-opacity=\"1\" /><polyline clip-path=\"url(#clip192)\" style=\"stroke:#000000; stroke-linecap:butt; stroke-linejoin:round; stroke-width:2; stroke-opacity:0.1; fill:none\" points=\"\n  138.959,1279.74 2352.76,1279.74 \n  \"/>\n<polyline clip-path=\"url(#clip192)\" style=\"stroke:#000000; stroke-linecap:butt; stroke-linejoin:round; stroke-width:2; stroke-opacity:0.1; fill:none\" points=\"\n  138.959,986.436 2352.76,986.436 \n  \"/>\n<polyline clip-path=\"url(#clip192)\" style=\"stroke:#000000; stroke-linecap:butt; stroke-linejoin:round; stroke-width:2; stroke-opacity:0.1; fill:none\" points=\"\n  138.959,693.131 2352.76,693.131 \n  \"/>\n<polyline clip-path=\"url(#clip192)\" style=\"stroke:#000000; stroke-linecap:butt; stroke-linejoin:round; stroke-width:2; stroke-opacity:0.1; fill:none\" points=\"\n  138.959,399.827 2352.76,399.827 \n  \"/>\n<polyline clip-path=\"url(#clip190)\" style=\"stroke:#000000; stroke-linecap:butt; stroke-linejoin:round; stroke-width:4; stroke-opacity:1; fill:none\" points=\"\n  138.959,1486.45 138.959,123.472 \n  \"/>\n<polyline clip-path=\"url(#clip190)\" style=\"stroke:#000000; stroke-linecap:butt; stroke-linejoin:round; stroke-width:4; stroke-opacity:1; fill:none\" points=\"\n  138.959,1279.74 157.857,1279.74 \n  \"/>\n<polyline clip-path=\"url(#clip190)\" style=\"stroke:#000000; stroke-linecap:butt; stroke-linejoin:round; stroke-width:4; stroke-opacity:1; fill:none\" points=\"\n  138.959,986.436 157.857,986.436 \n  \"/>\n<polyline clip-path=\"url(#clip190)\" style=\"stroke:#000000; stroke-linecap:butt; stroke-linejoin:round; stroke-width:4; stroke-opacity:1; fill:none\" points=\"\n  138.959,693.131 157.857,693.131 \n  \"/>\n<polyline clip-path=\"url(#clip190)\" style=\"stroke:#000000; stroke-linecap:butt; stroke-linejoin:round; stroke-width:4; stroke-opacity:1; fill:none\" points=\"\n  138.959,399.827 157.857,399.827 \n  \"/>\n<path clip-path=\"url(#clip190)\" d=\"M91.4317 1277.88 Q88.2836 1277.88 86.4318 1280.03 Q84.6031 1282.18 84.6031 1285.93 Q84.6031 1289.66 86.4318 1291.83 Q88.2836 1293.99 91.4317 1293.99 Q94.5799 1293.99 96.4085 1291.83 Q98.2604 1289.66 98.2604 1285.93 Q98.2604 1282.18 96.4085 1280.03 Q94.5799 1277.88 91.4317 1277.88 M100.714 1263.22 L100.714 1267.48 Q98.9548 1266.65 97.1493 1266.21 Q95.3669 1265.77 93.6076 1265.77 Q88.978 1265.77 86.5243 1268.9 Q84.0938 1272.02 83.7466 1278.34 Q85.1123 1276.33 87.1725 1275.26 Q89.2327 1274.17 91.7095 1274.17 Q96.9178 1274.17 99.927 1277.34 Q102.959 1280.49 102.959 1285.93 Q102.959 1291.26 99.8113 1294.47 Q96.6632 1297.69 91.4317 1297.69 Q85.4364 1297.69 82.2651 1293.11 Q79.0938 1288.5 79.0938 1279.77 Q79.0938 1271.58 82.9827 1266.72 Q86.8716 1261.84 93.4225 1261.84 Q95.1817 1261.84 96.9641 1262.18 Q98.7696 1262.53 100.714 1263.22 Z\" fill=\"#000000\" fill-rule=\"evenodd\" fill-opacity=\"1\" /><path clip-path=\"url(#clip190)\" d=\"M91.1077 987.304 Q87.7743 987.304 85.8531 989.086 Q83.9549 990.868 83.9549 993.993 Q83.9549 997.118 85.8531 998.901 Q87.7743 1000.68 91.1077 1000.68 Q94.441 1000.68 96.3623 998.901 Q98.2835 997.095 98.2835 993.993 Q98.2835 990.868 96.3623 989.086 Q94.4641 987.304 91.1077 987.304 M86.4318 985.313 Q83.4225 984.572 81.7327 982.512 Q80.066 980.452 80.066 977.489 Q80.066 973.345 83.0058 970.938 Q85.9688 968.531 91.1077 968.531 Q96.2697 968.531 99.2095 970.938 Q102.149 973.345 102.149 977.489 Q102.149 980.452 100.459 982.512 Q98.7928 984.572 95.8067 985.313 Q99.1863 986.1 101.061 988.392 Q102.959 990.683 102.959 993.993 Q102.959 999.017 99.8808 1001.7 Q96.8252 1004.39 91.1077 1004.39 Q85.3901 1004.39 82.3114 1001.7 Q79.2559 999.017 79.2559 993.993 Q79.2559 990.683 81.154 988.392 Q83.0521 986.1 86.4318 985.313 M84.7188 977.929 Q84.7188 980.614 86.3855 982.119 Q88.0753 983.623 91.1077 983.623 Q94.1169 983.623 95.8067 982.119 Q97.5197 980.614 97.5197 977.929 Q97.5197 975.244 95.8067 973.739 Q94.1169 972.234 91.1077 972.234 Q88.0753 972.234 86.3855 973.739 Q84.7188 975.244 84.7188 977.929 Z\" fill=\"#000000\" fill-rule=\"evenodd\" fill-opacity=\"1\" /><path clip-path=\"url(#clip190)\" d=\"M51.6634 706.476 L59.3023 706.476 L59.3023 680.11 L50.9921 681.777 L50.9921 677.518 L59.256 675.851 L63.9319 675.851 L63.9319 706.476 L71.5707 706.476 L71.5707 710.411 L51.6634 710.411 L51.6634 706.476 Z\" fill=\"#000000\" fill-rule=\"evenodd\" fill-opacity=\"1\" /><path clip-path=\"url(#clip190)\" d=\"M91.0151 678.93 Q87.404 678.93 85.5753 682.495 Q83.7697 686.036 83.7697 693.166 Q83.7697 700.272 85.5753 703.837 Q87.404 707.379 91.0151 707.379 Q94.6493 707.379 96.4548 703.837 Q98.2835 700.272 98.2835 693.166 Q98.2835 686.036 96.4548 682.495 Q94.6493 678.93 91.0151 678.93 M91.0151 675.226 Q96.8252 675.226 99.8808 679.833 Q102.959 684.416 102.959 693.166 Q102.959 701.893 99.8808 706.499 Q96.8252 711.082 91.0151 711.082 Q85.2049 711.082 82.1262 706.499 Q79.0707 701.893 79.0707 693.166 Q79.0707 684.416 82.1262 679.833 Q85.2049 675.226 91.0151 675.226 Z\" fill=\"#000000\" fill-rule=\"evenodd\" fill-opacity=\"1\" /><path clip-path=\"url(#clip190)\" d=\"M53.2606 413.171 L60.8995 413.171 L60.8995 386.806 L52.5893 388.473 L52.5893 384.213 L60.8532 382.547 L65.5291 382.547 L65.5291 413.171 L73.1679 413.171 L73.1679 417.107 L53.2606 417.107 L53.2606 413.171 Z\" fill=\"#000000\" fill-rule=\"evenodd\" fill-opacity=\"1\" /><path clip-path=\"url(#clip190)\" d=\"M86.6401 413.171 L102.959 413.171 L102.959 417.107 L81.0151 417.107 L81.0151 413.171 Q83.6771 410.417 88.2604 405.787 Q92.8669 401.134 94.0475 399.792 Q96.2928 397.269 97.1724 395.533 Q98.0752 393.773 98.0752 392.084 Q98.0752 389.329 96.1308 387.593 Q94.2095 385.857 91.1077 385.857 Q88.9086 385.857 86.4549 386.621 Q84.0244 387.385 81.2466 388.935 L81.2466 384.213 Q84.0707 383.079 86.5243 382.5 Q88.978 381.922 91.0151 381.922 Q96.3854 381.922 99.5798 384.607 Q102.774 387.292 102.774 391.783 Q102.774 393.912 101.964 395.834 Q101.177 397.732 99.0706 400.324 Q98.4919 400.996 95.39 404.213 Q92.2882 407.408 86.6401 413.171 Z\" fill=\"#000000\" fill-rule=\"evenodd\" fill-opacity=\"1\" /><path clip-path=\"url(#clip190)\" d=\"M1048.52 44.2197 Q1051.15 45.1109 1053.62 48.0275 Q1056.13 50.9442 1058.65 56.0483 L1066.95 72.576 L1058.16 72.576 L1050.42 57.061 Q1047.42 50.9847 1044.59 48.9997 Q1041.79 47.0148 1036.93 47.0148 L1028.02 47.0148 L1028.02 72.576 L1019.84 72.576 L1019.84 12.096 L1038.31 12.096 Q1048.68 12.096 1053.78 16.4305 Q1058.89 20.7649 1058.89 29.5149 Q1058.89 35.2267 1056.21 38.994 Q1053.58 42.7613 1048.52 44.2197 M1028.02 18.8205 L1028.02 40.2903 L1038.31 40.2903 Q1044.22 40.2903 1047.22 37.5762 Q1050.26 34.8216 1050.26 29.5149 Q1050.26 24.2082 1047.22 21.5346 Q1044.22 18.8205 1038.31 18.8205 L1028.02 18.8205 Z\" fill=\"#000000\" fill-rule=\"evenodd\" fill-opacity=\"1\" /><path clip-path=\"url(#clip190)\" d=\"M1078.13 34.9026 L1130.06 34.9026 L1130.06 41.7081 L1078.13 41.7081 L1078.13 34.9026 M1078.13 51.4303 L1130.06 51.4303 L1130.06 58.3168 L1078.13 58.3168 L1078.13 51.4303 Z\" fill=\"#000000\" fill-rule=\"evenodd\" fill-opacity=\"1\" /><path clip-path=\"url(#clip190)\" d=\"M1147.81 12.096 L1179.93 12.096 L1179.93 18.9825 L1155.3 18.9825 L1155.3 33.8088 Q1157.08 33.2012 1158.86 32.9176 Q1160.65 32.5936 1162.43 32.5936 Q1172.56 32.5936 1178.47 38.1433 Q1184.39 43.6931 1184.39 53.1722 Q1184.39 62.9348 1178.31 68.3631 Q1172.23 73.7508 1161.17 73.7508 Q1157.37 73.7508 1153.4 73.1026 Q1149.47 72.4545 1145.25 71.1582 L1145.25 62.9348 Q1148.9 64.9198 1152.79 65.892 Q1156.68 66.8642 1161.01 66.8642 Q1168.02 66.8642 1172.11 63.1779 Q1176.2 59.4916 1176.2 53.1722 Q1176.2 46.8528 1172.11 43.1664 Q1168.02 39.4801 1161.01 39.4801 Q1157.73 39.4801 1154.45 40.2093 Q1151.21 40.9384 1147.81 42.4778 L1147.81 12.096 Z\" fill=\"#000000\" fill-rule=\"evenodd\" fill-opacity=\"1\" /><path clip-path=\"url(#clip190)\" d=\"M1201.36 62.2867 L1209.91 62.2867 L1209.91 69.2543 L1203.26 82.2172 L1198.04 82.2172 L1201.36 69.2543 L1201.36 62.2867 Z\" fill=\"#000000\" fill-rule=\"evenodd\" fill-opacity=\"1\" /><path clip-path=\"url(#clip190)\" d=\"M1297.81 16.7545 L1297.81 25.383 Q1293.68 21.5346 1288.98 19.6307 Q1284.32 17.7268 1279.05 17.7268 Q1268.68 17.7268 1263.18 24.0867 Q1257.67 30.4061 1257.67 42.3968 Q1257.67 54.3469 1263.18 60.7069 Q1268.68 67.0263 1279.05 67.0263 Q1284.32 67.0263 1288.98 65.1223 Q1293.68 63.2184 1297.81 59.3701 L1297.81 67.9175 Q1293.52 70.8341 1288.7 72.2924 Q1283.92 73.7508 1278.57 73.7508 Q1264.84 73.7508 1256.94 65.3654 Q1249.04 56.9395 1249.04 42.3968 Q1249.04 27.8135 1256.94 19.4281 Q1264.84 11.0023 1278.57 11.0023 Q1284 11.0023 1288.78 12.4606 Q1293.6 13.8784 1297.81 16.7545 Z\" fill=\"#000000\" fill-rule=\"evenodd\" fill-opacity=\"1\" /><path clip-path=\"url(#clip190)\" d=\"M1311.1 34.9026 L1363.03 34.9026 L1363.03 41.7081 L1311.1 41.7081 L1311.1 34.9026 M1311.1 51.4303 L1363.03 51.4303 L1363.03 58.3168 L1311.1 58.3168 L1311.1 51.4303 Z\" fill=\"#000000\" fill-rule=\"evenodd\" fill-opacity=\"1\" /><path clip-path=\"url(#clip190)\" d=\"M1387.74 65.6895 L1416.3 65.6895 L1416.3 72.576 L1377.9 72.576 L1377.9 65.6895 Q1382.56 60.8689 1390.58 52.7671 Q1398.64 44.6248 1400.7 42.2752 Q1404.63 37.8598 1406.17 34.8216 Q1407.75 31.7429 1407.75 28.7857 Q1407.75 23.9651 1404.35 20.927 Q1400.99 17.8888 1395.56 17.8888 Q1391.71 17.8888 1387.42 19.2256 Q1383.16 20.5624 1378.3 23.2765 L1378.3 15.0127 Q1383.24 13.0277 1387.54 12.015 Q1391.83 11.0023 1395.4 11.0023 Q1404.79 11.0023 1410.39 15.7013 Q1415.98 20.4004 1415.98 28.2591 Q1415.98 31.9859 1414.56 35.3482 Q1413.18 38.6699 1409.49 43.2069 Q1408.48 44.3817 1403.05 50.0125 Q1397.62 55.6027 1387.74 65.6895 Z\" fill=\"#000000\" fill-rule=\"evenodd\" fill-opacity=\"1\" /><path clip-path=\"url(#clip190)\" d=\"M1450.98 17.4837 Q1444.66 17.4837 1441.46 23.7221 Q1438.3 29.92 1438.3 42.3968 Q1438.3 54.833 1441.46 61.0714 Q1444.66 67.2693 1450.98 67.2693 Q1457.34 67.2693 1460.49 61.0714 Q1463.7 54.833 1463.7 42.3968 Q1463.7 29.92 1460.49 23.7221 Q1457.34 17.4837 1450.98 17.4837 M1450.98 11.0023 Q1461.14 11.0023 1466.49 19.0636 Q1471.88 27.0843 1471.88 42.3968 Q1471.88 57.6687 1466.49 65.73 Q1461.14 73.7508 1450.98 73.7508 Q1440.81 73.7508 1435.42 65.73 Q1430.07 57.6687 1430.07 42.3968 Q1430.07 27.0843 1435.42 19.0636 Q1440.81 11.0023 1450.98 11.0023 Z\" fill=\"#000000\" fill-rule=\"evenodd\" fill-opacity=\"1\" /><polyline clip-path=\"url(#clip192)\" style=\"stroke:#009af9; stroke-linecap:butt; stroke-linejoin:round; stroke-width:4; stroke-opacity:1; fill:none\" points=\"\n  201.614,1262.33 228.148,1303.57 254.639,1148.92 281.09,1221.09 307.561,1128.3 334.029,1076.75 360.422,1035.51 386.828,983.963 413.22,911.794 439.617,942.723 \n  466.032,870.554 492.39,870.554 518.754,839.624 545.139,736.524 571.558,788.074 597.928,654.044 624.307,726.214 650.793,633.424 677.287,623.114 703.744,602.495 \n  730.245,592.184 756.742,540.635 783.232,550.945 809.657,416.915 836.011,520.015 862.393,344.745 888.877,427.225 915.369,375.675 941.876,334.435 968.294,344.745 \n  994.689,324.125 1021.06,303.505 1047.43,210.716 1073.81,344.745 1100.3,633.424 1126.69,839.624 1153.08,932.413 1179.51,1045.82 1205.88,1097.37 1232.22,1045.82 \n  1258.63,1097.37 1285.03,1179.85 1311.42,1159.23 1337.8,1221.09 1364.21,1210.78 1390.58,1282.95 1417,1262.33 1443.42,1293.26 1469.83,1293.26 1496.21,1282.95 \n  1522.67,1324.19 1549.04,1272.64 1575.42,1282.95 1601.93,1241.71 1628.43,1241.71 1654.9,1221.09 1681.43,1210.78 1707.93,1262.33 1734.44,1241.71 1760.89,1179.85 \n  1787.39,1221.09 1813.84,1221.09 1840.33,1221.09 1866.82,1190.16 1893.35,1252.02 1919.85,1241.71 1946.32,1231.4 1972.79,1262.33 1999.26,1252.02 2025.72,1252.02 \n  2052.21,1262.33 2078.67,1252.02 2105.16,1262.33 2131.57,1241.71 2157.95,1252.02 2184.34,1221.09 2210.74,1252.02 2237.2,1231.4 2263.66,1262.33 2290.1,1241.71 \n  \n  \"/>\n<circle clip-path=\"url(#clip192)\" cx=\"201.614\" cy=\"1262.33\" r=\"14\" fill=\"#009af9\" fill-rule=\"evenodd\" fill-opacity=\"1\" stroke=\"#000000\" stroke-opacity=\"1\" stroke-width=\"3.2\"/>\n<circle clip-path=\"url(#clip192)\" cx=\"228.148\" cy=\"1303.57\" r=\"14\" fill=\"#009af9\" fill-rule=\"evenodd\" fill-opacity=\"1\" stroke=\"#000000\" stroke-opacity=\"1\" stroke-width=\"3.2\"/>\n<circle clip-path=\"url(#clip192)\" cx=\"254.639\" cy=\"1148.92\" r=\"14\" fill=\"#009af9\" fill-rule=\"evenodd\" fill-opacity=\"1\" stroke=\"#000000\" stroke-opacity=\"1\" stroke-width=\"3.2\"/>\n<circle clip-path=\"url(#clip192)\" cx=\"281.09\" cy=\"1221.09\" r=\"14\" fill=\"#009af9\" fill-rule=\"evenodd\" fill-opacity=\"1\" stroke=\"#000000\" stroke-opacity=\"1\" stroke-width=\"3.2\"/>\n<circle clip-path=\"url(#clip192)\" cx=\"307.561\" cy=\"1128.3\" r=\"14\" fill=\"#009af9\" fill-rule=\"evenodd\" fill-opacity=\"1\" stroke=\"#000000\" stroke-opacity=\"1\" stroke-width=\"3.2\"/>\n<circle clip-path=\"url(#clip192)\" cx=\"334.029\" cy=\"1076.75\" r=\"14\" fill=\"#009af9\" fill-rule=\"evenodd\" fill-opacity=\"1\" stroke=\"#000000\" stroke-opacity=\"1\" stroke-width=\"3.2\"/>\n<circle clip-path=\"url(#clip192)\" cx=\"360.422\" cy=\"1035.51\" r=\"14\" fill=\"#009af9\" fill-rule=\"evenodd\" fill-opacity=\"1\" stroke=\"#000000\" stroke-opacity=\"1\" stroke-width=\"3.2\"/>\n<circle clip-path=\"url(#clip192)\" cx=\"386.828\" cy=\"983.963\" r=\"14\" fill=\"#009af9\" fill-rule=\"evenodd\" fill-opacity=\"1\" stroke=\"#000000\" stroke-opacity=\"1\" stroke-width=\"3.2\"/>\n<circle clip-path=\"url(#clip192)\" cx=\"413.22\" cy=\"911.794\" r=\"14\" fill=\"#009af9\" fill-rule=\"evenodd\" fill-opacity=\"1\" stroke=\"#000000\" stroke-opacity=\"1\" stroke-width=\"3.2\"/>\n<circle clip-path=\"url(#clip192)\" cx=\"439.617\" cy=\"942.723\" r=\"14\" fill=\"#009af9\" fill-rule=\"evenodd\" fill-opacity=\"1\" stroke=\"#000000\" stroke-opacity=\"1\" stroke-width=\"3.2\"/>\n<circle clip-path=\"url(#clip192)\" cx=\"466.032\" cy=\"870.554\" r=\"14\" fill=\"#009af9\" fill-rule=\"evenodd\" fill-opacity=\"1\" stroke=\"#000000\" stroke-opacity=\"1\" stroke-width=\"3.2\"/>\n<circle clip-path=\"url(#clip192)\" cx=\"492.39\" cy=\"870.554\" r=\"14\" fill=\"#009af9\" fill-rule=\"evenodd\" fill-opacity=\"1\" stroke=\"#000000\" stroke-opacity=\"1\" stroke-width=\"3.2\"/>\n<circle clip-path=\"url(#clip192)\" cx=\"518.754\" cy=\"839.624\" r=\"14\" fill=\"#009af9\" fill-rule=\"evenodd\" fill-opacity=\"1\" stroke=\"#000000\" stroke-opacity=\"1\" stroke-width=\"3.2\"/>\n<circle clip-path=\"url(#clip192)\" cx=\"545.139\" cy=\"736.524\" r=\"14\" fill=\"#009af9\" fill-rule=\"evenodd\" fill-opacity=\"1\" stroke=\"#000000\" stroke-opacity=\"1\" stroke-width=\"3.2\"/>\n<circle clip-path=\"url(#clip192)\" cx=\"571.558\" cy=\"788.074\" r=\"14\" fill=\"#009af9\" fill-rule=\"evenodd\" fill-opacity=\"1\" stroke=\"#000000\" stroke-opacity=\"1\" stroke-width=\"3.2\"/>\n<circle clip-path=\"url(#clip192)\" cx=\"597.928\" cy=\"654.044\" r=\"14\" fill=\"#009af9\" fill-rule=\"evenodd\" fill-opacity=\"1\" stroke=\"#000000\" stroke-opacity=\"1\" stroke-width=\"3.2\"/>\n<circle clip-path=\"url(#clip192)\" cx=\"624.307\" cy=\"726.214\" r=\"14\" fill=\"#009af9\" fill-rule=\"evenodd\" fill-opacity=\"1\" stroke=\"#000000\" stroke-opacity=\"1\" stroke-width=\"3.2\"/>\n<circle clip-path=\"url(#clip192)\" cx=\"650.793\" cy=\"633.424\" r=\"14\" fill=\"#009af9\" fill-rule=\"evenodd\" fill-opacity=\"1\" stroke=\"#000000\" stroke-opacity=\"1\" stroke-width=\"3.2\"/>\n<circle clip-path=\"url(#clip192)\" cx=\"677.287\" cy=\"623.114\" r=\"14\" fill=\"#009af9\" fill-rule=\"evenodd\" fill-opacity=\"1\" stroke=\"#000000\" stroke-opacity=\"1\" stroke-width=\"3.2\"/>\n<circle clip-path=\"url(#clip192)\" cx=\"703.744\" cy=\"602.495\" r=\"14\" fill=\"#009af9\" fill-rule=\"evenodd\" fill-opacity=\"1\" stroke=\"#000000\" stroke-opacity=\"1\" stroke-width=\"3.2\"/>\n<circle clip-path=\"url(#clip192)\" cx=\"730.245\" cy=\"592.184\" r=\"14\" fill=\"#009af9\" fill-rule=\"evenodd\" fill-opacity=\"1\" stroke=\"#000000\" stroke-opacity=\"1\" stroke-width=\"3.2\"/>\n<circle clip-path=\"url(#clip192)\" cx=\"756.742\" cy=\"540.635\" r=\"14\" fill=\"#009af9\" fill-rule=\"evenodd\" fill-opacity=\"1\" stroke=\"#000000\" stroke-opacity=\"1\" stroke-width=\"3.2\"/>\n<circle clip-path=\"url(#clip192)\" cx=\"783.232\" cy=\"550.945\" r=\"14\" fill=\"#009af9\" fill-rule=\"evenodd\" fill-opacity=\"1\" stroke=\"#000000\" stroke-opacity=\"1\" stroke-width=\"3.2\"/>\n<circle clip-path=\"url(#clip192)\" cx=\"809.657\" cy=\"416.915\" r=\"14\" fill=\"#009af9\" fill-rule=\"evenodd\" fill-opacity=\"1\" stroke=\"#000000\" stroke-opacity=\"1\" stroke-width=\"3.2\"/>\n<circle clip-path=\"url(#clip192)\" cx=\"836.011\" cy=\"520.015\" r=\"14\" fill=\"#009af9\" fill-rule=\"evenodd\" fill-opacity=\"1\" stroke=\"#000000\" stroke-opacity=\"1\" stroke-width=\"3.2\"/>\n<circle clip-path=\"url(#clip192)\" cx=\"862.393\" cy=\"344.745\" r=\"14\" fill=\"#009af9\" fill-rule=\"evenodd\" fill-opacity=\"1\" stroke=\"#000000\" stroke-opacity=\"1\" stroke-width=\"3.2\"/>\n<circle clip-path=\"url(#clip192)\" cx=\"888.877\" cy=\"427.225\" r=\"14\" fill=\"#009af9\" fill-rule=\"evenodd\" fill-opacity=\"1\" stroke=\"#000000\" stroke-opacity=\"1\" stroke-width=\"3.2\"/>\n<circle clip-path=\"url(#clip192)\" cx=\"915.369\" cy=\"375.675\" r=\"14\" fill=\"#009af9\" fill-rule=\"evenodd\" fill-opacity=\"1\" stroke=\"#000000\" stroke-opacity=\"1\" stroke-width=\"3.2\"/>\n<circle clip-path=\"url(#clip192)\" cx=\"941.876\" cy=\"334.435\" r=\"14\" fill=\"#009af9\" fill-rule=\"evenodd\" fill-opacity=\"1\" stroke=\"#000000\" stroke-opacity=\"1\" stroke-width=\"3.2\"/>\n<circle clip-path=\"url(#clip192)\" cx=\"968.294\" cy=\"344.745\" r=\"14\" fill=\"#009af9\" fill-rule=\"evenodd\" fill-opacity=\"1\" stroke=\"#000000\" stroke-opacity=\"1\" stroke-width=\"3.2\"/>\n<circle clip-path=\"url(#clip192)\" cx=\"994.689\" cy=\"324.125\" r=\"14\" fill=\"#009af9\" fill-rule=\"evenodd\" fill-opacity=\"1\" stroke=\"#000000\" stroke-opacity=\"1\" stroke-width=\"3.2\"/>\n<circle clip-path=\"url(#clip192)\" cx=\"1021.06\" cy=\"303.505\" r=\"14\" fill=\"#009af9\" fill-rule=\"evenodd\" fill-opacity=\"1\" stroke=\"#000000\" stroke-opacity=\"1\" stroke-width=\"3.2\"/>\n<circle clip-path=\"url(#clip192)\" cx=\"1047.43\" cy=\"210.716\" r=\"14\" fill=\"#009af9\" fill-rule=\"evenodd\" fill-opacity=\"1\" stroke=\"#000000\" stroke-opacity=\"1\" stroke-width=\"3.2\"/>\n<circle clip-path=\"url(#clip192)\" cx=\"1073.81\" cy=\"344.745\" r=\"14\" fill=\"#009af9\" fill-rule=\"evenodd\" fill-opacity=\"1\" stroke=\"#000000\" stroke-opacity=\"1\" stroke-width=\"3.2\"/>\n<circle clip-path=\"url(#clip192)\" cx=\"1100.3\" cy=\"633.424\" r=\"14\" fill=\"#009af9\" fill-rule=\"evenodd\" fill-opacity=\"1\" stroke=\"#000000\" stroke-opacity=\"1\" stroke-width=\"3.2\"/>\n<circle clip-path=\"url(#clip192)\" cx=\"1126.69\" cy=\"839.624\" r=\"14\" fill=\"#009af9\" fill-rule=\"evenodd\" fill-opacity=\"1\" stroke=\"#000000\" stroke-opacity=\"1\" stroke-width=\"3.2\"/>\n<circle clip-path=\"url(#clip192)\" cx=\"1153.08\" cy=\"932.413\" r=\"14\" fill=\"#009af9\" fill-rule=\"evenodd\" fill-opacity=\"1\" stroke=\"#000000\" stroke-opacity=\"1\" stroke-width=\"3.2\"/>\n<circle clip-path=\"url(#clip192)\" cx=\"1179.51\" cy=\"1045.82\" r=\"14\" fill=\"#009af9\" fill-rule=\"evenodd\" fill-opacity=\"1\" stroke=\"#000000\" stroke-opacity=\"1\" stroke-width=\"3.2\"/>\n<circle clip-path=\"url(#clip192)\" cx=\"1205.88\" cy=\"1097.37\" r=\"14\" fill=\"#009af9\" fill-rule=\"evenodd\" fill-opacity=\"1\" stroke=\"#000000\" stroke-opacity=\"1\" stroke-width=\"3.2\"/>\n<circle clip-path=\"url(#clip192)\" cx=\"1232.22\" cy=\"1045.82\" r=\"14\" fill=\"#009af9\" fill-rule=\"evenodd\" fill-opacity=\"1\" stroke=\"#000000\" stroke-opacity=\"1\" stroke-width=\"3.2\"/>\n<circle clip-path=\"url(#clip192)\" cx=\"1258.63\" cy=\"1097.37\" r=\"14\" fill=\"#009af9\" fill-rule=\"evenodd\" fill-opacity=\"1\" stroke=\"#000000\" stroke-opacity=\"1\" stroke-width=\"3.2\"/>\n<circle clip-path=\"url(#clip192)\" cx=\"1285.03\" cy=\"1179.85\" r=\"14\" fill=\"#009af9\" fill-rule=\"evenodd\" fill-opacity=\"1\" stroke=\"#000000\" stroke-opacity=\"1\" stroke-width=\"3.2\"/>\n<circle clip-path=\"url(#clip192)\" cx=\"1311.42\" cy=\"1159.23\" r=\"14\" fill=\"#009af9\" fill-rule=\"evenodd\" fill-opacity=\"1\" stroke=\"#000000\" stroke-opacity=\"1\" stroke-width=\"3.2\"/>\n<circle clip-path=\"url(#clip192)\" cx=\"1337.8\" cy=\"1221.09\" r=\"14\" fill=\"#009af9\" fill-rule=\"evenodd\" fill-opacity=\"1\" stroke=\"#000000\" stroke-opacity=\"1\" stroke-width=\"3.2\"/>\n<circle clip-path=\"url(#clip192)\" cx=\"1364.21\" cy=\"1210.78\" r=\"14\" fill=\"#009af9\" fill-rule=\"evenodd\" fill-opacity=\"1\" stroke=\"#000000\" stroke-opacity=\"1\" stroke-width=\"3.2\"/>\n<circle clip-path=\"url(#clip192)\" cx=\"1390.58\" cy=\"1282.95\" r=\"14\" fill=\"#009af9\" fill-rule=\"evenodd\" fill-opacity=\"1\" stroke=\"#000000\" stroke-opacity=\"1\" stroke-width=\"3.2\"/>\n<circle clip-path=\"url(#clip192)\" cx=\"1417\" cy=\"1262.33\" r=\"14\" fill=\"#009af9\" fill-rule=\"evenodd\" fill-opacity=\"1\" stroke=\"#000000\" stroke-opacity=\"1\" stroke-width=\"3.2\"/>\n<circle clip-path=\"url(#clip192)\" cx=\"1443.42\" cy=\"1293.26\" r=\"14\" fill=\"#009af9\" fill-rule=\"evenodd\" fill-opacity=\"1\" stroke=\"#000000\" stroke-opacity=\"1\" stroke-width=\"3.2\"/>\n<circle clip-path=\"url(#clip192)\" cx=\"1469.83\" cy=\"1293.26\" r=\"14\" fill=\"#009af9\" fill-rule=\"evenodd\" fill-opacity=\"1\" stroke=\"#000000\" stroke-opacity=\"1\" stroke-width=\"3.2\"/>\n<circle clip-path=\"url(#clip192)\" cx=\"1496.21\" cy=\"1282.95\" r=\"14\" fill=\"#009af9\" fill-rule=\"evenodd\" fill-opacity=\"1\" stroke=\"#000000\" stroke-opacity=\"1\" stroke-width=\"3.2\"/>\n<circle clip-path=\"url(#clip192)\" cx=\"1522.67\" cy=\"1324.19\" r=\"14\" fill=\"#009af9\" fill-rule=\"evenodd\" fill-opacity=\"1\" stroke=\"#000000\" stroke-opacity=\"1\" stroke-width=\"3.2\"/>\n<circle clip-path=\"url(#clip192)\" cx=\"1549.04\" cy=\"1272.64\" r=\"14\" fill=\"#009af9\" fill-rule=\"evenodd\" fill-opacity=\"1\" stroke=\"#000000\" stroke-opacity=\"1\" stroke-width=\"3.2\"/>\n<circle clip-path=\"url(#clip192)\" cx=\"1575.42\" cy=\"1282.95\" r=\"14\" fill=\"#009af9\" fill-rule=\"evenodd\" fill-opacity=\"1\" stroke=\"#000000\" stroke-opacity=\"1\" stroke-width=\"3.2\"/>\n<circle clip-path=\"url(#clip192)\" cx=\"1601.93\" cy=\"1241.71\" r=\"14\" fill=\"#009af9\" fill-rule=\"evenodd\" fill-opacity=\"1\" stroke=\"#000000\" stroke-opacity=\"1\" stroke-width=\"3.2\"/>\n<circle clip-path=\"url(#clip192)\" cx=\"1628.43\" cy=\"1241.71\" r=\"14\" fill=\"#009af9\" fill-rule=\"evenodd\" fill-opacity=\"1\" stroke=\"#000000\" stroke-opacity=\"1\" stroke-width=\"3.2\"/>\n<circle clip-path=\"url(#clip192)\" cx=\"1654.9\" cy=\"1221.09\" r=\"14\" fill=\"#009af9\" fill-rule=\"evenodd\" fill-opacity=\"1\" stroke=\"#000000\" stroke-opacity=\"1\" stroke-width=\"3.2\"/>\n<circle clip-path=\"url(#clip192)\" cx=\"1681.43\" cy=\"1210.78\" r=\"14\" fill=\"#009af9\" fill-rule=\"evenodd\" fill-opacity=\"1\" stroke=\"#000000\" stroke-opacity=\"1\" stroke-width=\"3.2\"/>\n<circle clip-path=\"url(#clip192)\" cx=\"1707.93\" cy=\"1262.33\" r=\"14\" fill=\"#009af9\" fill-rule=\"evenodd\" fill-opacity=\"1\" stroke=\"#000000\" stroke-opacity=\"1\" stroke-width=\"3.2\"/>\n<circle clip-path=\"url(#clip192)\" cx=\"1734.44\" cy=\"1241.71\" r=\"14\" fill=\"#009af9\" fill-rule=\"evenodd\" fill-opacity=\"1\" stroke=\"#000000\" stroke-opacity=\"1\" stroke-width=\"3.2\"/>\n<circle clip-path=\"url(#clip192)\" cx=\"1760.89\" cy=\"1179.85\" r=\"14\" fill=\"#009af9\" fill-rule=\"evenodd\" fill-opacity=\"1\" stroke=\"#000000\" stroke-opacity=\"1\" stroke-width=\"3.2\"/>\n<circle clip-path=\"url(#clip192)\" cx=\"1787.39\" cy=\"1221.09\" r=\"14\" fill=\"#009af9\" fill-rule=\"evenodd\" fill-opacity=\"1\" stroke=\"#000000\" stroke-opacity=\"1\" stroke-width=\"3.2\"/>\n<circle clip-path=\"url(#clip192)\" cx=\"1813.84\" cy=\"1221.09\" r=\"14\" fill=\"#009af9\" fill-rule=\"evenodd\" fill-opacity=\"1\" stroke=\"#000000\" stroke-opacity=\"1\" stroke-width=\"3.2\"/>\n<circle clip-path=\"url(#clip192)\" cx=\"1840.33\" cy=\"1221.09\" r=\"14\" fill=\"#009af9\" fill-rule=\"evenodd\" fill-opacity=\"1\" stroke=\"#000000\" stroke-opacity=\"1\" stroke-width=\"3.2\"/>\n<circle clip-path=\"url(#clip192)\" cx=\"1866.82\" cy=\"1190.16\" r=\"14\" fill=\"#009af9\" fill-rule=\"evenodd\" fill-opacity=\"1\" stroke=\"#000000\" stroke-opacity=\"1\" stroke-width=\"3.2\"/>\n<circle clip-path=\"url(#clip192)\" cx=\"1893.35\" cy=\"1252.02\" r=\"14\" fill=\"#009af9\" fill-rule=\"evenodd\" fill-opacity=\"1\" stroke=\"#000000\" stroke-opacity=\"1\" stroke-width=\"3.2\"/>\n<circle clip-path=\"url(#clip192)\" cx=\"1919.85\" cy=\"1241.71\" r=\"14\" fill=\"#009af9\" fill-rule=\"evenodd\" fill-opacity=\"1\" stroke=\"#000000\" stroke-opacity=\"1\" stroke-width=\"3.2\"/>\n<circle clip-path=\"url(#clip192)\" cx=\"1946.32\" cy=\"1231.4\" r=\"14\" fill=\"#009af9\" fill-rule=\"evenodd\" fill-opacity=\"1\" stroke=\"#000000\" stroke-opacity=\"1\" stroke-width=\"3.2\"/>\n<circle clip-path=\"url(#clip192)\" cx=\"1972.79\" cy=\"1262.33\" r=\"14\" fill=\"#009af9\" fill-rule=\"evenodd\" fill-opacity=\"1\" stroke=\"#000000\" stroke-opacity=\"1\" stroke-width=\"3.2\"/>\n<circle clip-path=\"url(#clip192)\" cx=\"1999.26\" cy=\"1252.02\" r=\"14\" fill=\"#009af9\" fill-rule=\"evenodd\" fill-opacity=\"1\" stroke=\"#000000\" stroke-opacity=\"1\" stroke-width=\"3.2\"/>\n<circle clip-path=\"url(#clip192)\" cx=\"2025.72\" cy=\"1252.02\" r=\"14\" fill=\"#009af9\" fill-rule=\"evenodd\" fill-opacity=\"1\" stroke=\"#000000\" stroke-opacity=\"1\" stroke-width=\"3.2\"/>\n<circle clip-path=\"url(#clip192)\" cx=\"2052.21\" cy=\"1262.33\" r=\"14\" fill=\"#009af9\" fill-rule=\"evenodd\" fill-opacity=\"1\" stroke=\"#000000\" stroke-opacity=\"1\" stroke-width=\"3.2\"/>\n<circle clip-path=\"url(#clip192)\" cx=\"2078.67\" cy=\"1252.02\" r=\"14\" fill=\"#009af9\" fill-rule=\"evenodd\" fill-opacity=\"1\" stroke=\"#000000\" stroke-opacity=\"1\" stroke-width=\"3.2\"/>\n<circle clip-path=\"url(#clip192)\" cx=\"2105.16\" cy=\"1262.33\" r=\"14\" fill=\"#009af9\" fill-rule=\"evenodd\" fill-opacity=\"1\" stroke=\"#000000\" stroke-opacity=\"1\" stroke-width=\"3.2\"/>\n<circle clip-path=\"url(#clip192)\" cx=\"2131.57\" cy=\"1241.71\" r=\"14\" fill=\"#009af9\" fill-rule=\"evenodd\" fill-opacity=\"1\" stroke=\"#000000\" stroke-opacity=\"1\" stroke-width=\"3.2\"/>\n<circle clip-path=\"url(#clip192)\" cx=\"2157.95\" cy=\"1252.02\" r=\"14\" fill=\"#009af9\" fill-rule=\"evenodd\" fill-opacity=\"1\" stroke=\"#000000\" stroke-opacity=\"1\" stroke-width=\"3.2\"/>\n<circle clip-path=\"url(#clip192)\" cx=\"2184.34\" cy=\"1221.09\" r=\"14\" fill=\"#009af9\" fill-rule=\"evenodd\" fill-opacity=\"1\" stroke=\"#000000\" stroke-opacity=\"1\" stroke-width=\"3.2\"/>\n<circle clip-path=\"url(#clip192)\" cx=\"2210.74\" cy=\"1252.02\" r=\"14\" fill=\"#009af9\" fill-rule=\"evenodd\" fill-opacity=\"1\" stroke=\"#000000\" stroke-opacity=\"1\" stroke-width=\"3.2\"/>\n<circle clip-path=\"url(#clip192)\" cx=\"2237.2\" cy=\"1231.4\" r=\"14\" fill=\"#009af9\" fill-rule=\"evenodd\" fill-opacity=\"1\" stroke=\"#000000\" stroke-opacity=\"1\" stroke-width=\"3.2\"/>\n<circle clip-path=\"url(#clip192)\" cx=\"2263.66\" cy=\"1262.33\" r=\"14\" fill=\"#009af9\" fill-rule=\"evenodd\" fill-opacity=\"1\" stroke=\"#000000\" stroke-opacity=\"1\" stroke-width=\"3.2\"/>\n<circle clip-path=\"url(#clip192)\" cx=\"2290.1\" cy=\"1241.71\" r=\"14\" fill=\"#009af9\" fill-rule=\"evenodd\" fill-opacity=\"1\" stroke=\"#000000\" stroke-opacity=\"1\" stroke-width=\"3.2\"/>\n<polyline clip-path=\"url(#clip192)\" style=\"stroke:#e26f46; stroke-linecap:butt; stroke-linejoin:round; stroke-width:4; stroke-opacity:1; fill:none\" points=\"\n  201.614,1447.87 228.148,1400.85 254.639,1298.28 281.09,1303.66 307.561,1222.55 334.029,1197.36 360.422,1137.6 386.828,1103.66 413.22,1013.96 439.617,1042.62 \n  466.032,938.197 492.39,962.427 518.754,906.783 545.139,815.505 571.558,878.422 597.928,711.758 624.307,804.269 650.793,666.688 677.287,708.479 703.744,604.596 \n  730.245,632.575 756.742,511.432 783.232,565.617 809.657,388.738 836.011,480.948 862.393,305.871 888.877,351.055 915.369,283.759 941.876,257.973 968.294,235.249 \n  994.689,202.227 1021.06,162.047 1047.43,181.548 1073.81,418.121 1100.3,743.086 1126.69,875.819 1153.08,926.801 1179.51,975.843 1205.88,1023.94 1232.22,1069.26 \n  1258.63,1110.77 1285.03,1147.56 1311.42,1179 1337.8,1205.06 1364.21,1226.34 1390.58,1244.53 1417,1263.1 1443.42,1274.5 1469.83,1274.79 1496.21,1266.71 \n  1522.67,1253.69 1549.04,1239.95 1575.42,1228.26 1601.93,1219.24 1628.43,1212.42 1654.9,1207.11 1681.43,1202.77 1707.93,1199.18 1734.44,1196.24 1760.89,1193.93 \n  1787.39,1192.23 1813.84,1191.15 1840.33,1190.66 1866.82,1190.75 1893.35,1191.36 1919.85,1192.44 1946.32,1193.93 1972.79,1195.75 1999.26,1197.83 2025.72,1200.12 \n  2052.21,1202.55 2078.67,1205.07 2105.16,1207.61 2131.57,1210.14 2157.95,1212.6 2184.34,1214.96 2210.74,1217.17 2237.2,1219.3 2263.66,1221.21 2290.1,1222.84 \n  \n  \"/>\n<path clip-path=\"url(#clip192)\" d=\"M185.614 1431.87 L185.614 1463.87 L217.614 1463.87 L217.614 1431.87 L185.614 1431.87 Z\" fill=\"#e26f46\" fill-rule=\"evenodd\" fill-opacity=\"1\" stroke=\"#000000\" stroke-opacity=\"1\" stroke-width=\"3.2\"/>\n<path clip-path=\"url(#clip192)\" d=\"M212.148 1384.85 L212.148 1416.85 L244.148 1416.85 L244.148 1384.85 L212.148 1384.85 Z\" fill=\"#e26f46\" fill-rule=\"evenodd\" fill-opacity=\"1\" stroke=\"#000000\" stroke-opacity=\"1\" stroke-width=\"3.2\"/>\n<path clip-path=\"url(#clip192)\" d=\"M238.639 1282.28 L238.639 1314.28 L270.639 1314.28 L270.639 1282.28 L238.639 1282.28 Z\" fill=\"#e26f46\" fill-rule=\"evenodd\" fill-opacity=\"1\" stroke=\"#000000\" stroke-opacity=\"1\" stroke-width=\"3.2\"/>\n<path clip-path=\"url(#clip192)\" d=\"M265.09 1287.66 L265.09 1319.66 L297.09 1319.66 L297.09 1287.66 L265.09 1287.66 Z\" fill=\"#e26f46\" fill-rule=\"evenodd\" fill-opacity=\"1\" stroke=\"#000000\" stroke-opacity=\"1\" stroke-width=\"3.2\"/>\n<path clip-path=\"url(#clip192)\" d=\"M291.561 1206.55 L291.561 1238.55 L323.561 1238.55 L323.561 1206.55 L291.561 1206.55 Z\" fill=\"#e26f46\" fill-rule=\"evenodd\" fill-opacity=\"1\" stroke=\"#000000\" stroke-opacity=\"1\" stroke-width=\"3.2\"/>\n<path clip-path=\"url(#clip192)\" d=\"M318.029 1181.36 L318.029 1213.36 L350.029 1213.36 L350.029 1181.36 L318.029 1181.36 Z\" fill=\"#e26f46\" fill-rule=\"evenodd\" fill-opacity=\"1\" stroke=\"#000000\" stroke-opacity=\"1\" stroke-width=\"3.2\"/>\n<path clip-path=\"url(#clip192)\" d=\"M344.422 1121.6 L344.422 1153.6 L376.422 1153.6 L376.422 1121.6 L344.422 1121.6 Z\" fill=\"#e26f46\" fill-rule=\"evenodd\" fill-opacity=\"1\" stroke=\"#000000\" stroke-opacity=\"1\" stroke-width=\"3.2\"/>\n<path clip-path=\"url(#clip192)\" d=\"M370.828 1087.66 L370.828 1119.66 L402.828 1119.66 L402.828 1087.66 L370.828 1087.66 Z\" fill=\"#e26f46\" fill-rule=\"evenodd\" fill-opacity=\"1\" stroke=\"#000000\" stroke-opacity=\"1\" stroke-width=\"3.2\"/>\n<path clip-path=\"url(#clip192)\" d=\"M397.22 997.961 L397.22 1029.96 L429.22 1029.96 L429.22 997.961 L397.22 997.961 Z\" fill=\"#e26f46\" fill-rule=\"evenodd\" fill-opacity=\"1\" stroke=\"#000000\" stroke-opacity=\"1\" stroke-width=\"3.2\"/>\n<path clip-path=\"url(#clip192)\" d=\"M423.617 1026.62 L423.617 1058.62 L455.617 1058.62 L455.617 1026.62 L423.617 1026.62 Z\" fill=\"#e26f46\" fill-rule=\"evenodd\" fill-opacity=\"1\" stroke=\"#000000\" stroke-opacity=\"1\" stroke-width=\"3.2\"/>\n<path clip-path=\"url(#clip192)\" d=\"M450.032 922.197 L450.032 954.197 L482.032 954.197 L482.032 922.197 L450.032 922.197 Z\" fill=\"#e26f46\" fill-rule=\"evenodd\" fill-opacity=\"1\" stroke=\"#000000\" stroke-opacity=\"1\" stroke-width=\"3.2\"/>\n<path clip-path=\"url(#clip192)\" d=\"M476.39 946.427 L476.39 978.427 L508.39 978.427 L508.39 946.427 L476.39 946.427 Z\" fill=\"#e26f46\" fill-rule=\"evenodd\" fill-opacity=\"1\" stroke=\"#000000\" stroke-opacity=\"1\" stroke-width=\"3.2\"/>\n<path clip-path=\"url(#clip192)\" d=\"M502.754 890.783 L502.754 922.783 L534.754 922.783 L534.754 890.783 L502.754 890.783 Z\" fill=\"#e26f46\" fill-rule=\"evenodd\" fill-opacity=\"1\" stroke=\"#000000\" stroke-opacity=\"1\" stroke-width=\"3.2\"/>\n<path clip-path=\"url(#clip192)\" d=\"M529.139 799.505 L529.139 831.505 L561.139 831.505 L561.139 799.505 L529.139 799.505 Z\" fill=\"#e26f46\" fill-rule=\"evenodd\" fill-opacity=\"1\" stroke=\"#000000\" stroke-opacity=\"1\" stroke-width=\"3.2\"/>\n<path clip-path=\"url(#clip192)\" d=\"M555.558 862.422 L555.558 894.422 L587.558 894.422 L587.558 862.422 L555.558 862.422 Z\" fill=\"#e26f46\" fill-rule=\"evenodd\" fill-opacity=\"1\" stroke=\"#000000\" stroke-opacity=\"1\" stroke-width=\"3.2\"/>\n<path clip-path=\"url(#clip192)\" d=\"M581.928 695.758 L581.928 727.758 L613.928 727.758 L613.928 695.758 L581.928 695.758 Z\" fill=\"#e26f46\" fill-rule=\"evenodd\" fill-opacity=\"1\" stroke=\"#000000\" stroke-opacity=\"1\" stroke-width=\"3.2\"/>\n<path clip-path=\"url(#clip192)\" d=\"M608.307 788.269 L608.307 820.269 L640.307 820.269 L640.307 788.269 L608.307 788.269 Z\" fill=\"#e26f46\" fill-rule=\"evenodd\" fill-opacity=\"1\" stroke=\"#000000\" stroke-opacity=\"1\" stroke-width=\"3.2\"/>\n<path clip-path=\"url(#clip192)\" d=\"M634.793 650.688 L634.793 682.688 L666.793 682.688 L666.793 650.688 L634.793 650.688 Z\" fill=\"#e26f46\" fill-rule=\"evenodd\" fill-opacity=\"1\" stroke=\"#000000\" stroke-opacity=\"1\" stroke-width=\"3.2\"/>\n<path clip-path=\"url(#clip192)\" d=\"M661.287 692.479 L661.287 724.479 L693.287 724.479 L693.287 692.479 L661.287 692.479 Z\" fill=\"#e26f46\" fill-rule=\"evenodd\" fill-opacity=\"1\" stroke=\"#000000\" stroke-opacity=\"1\" stroke-width=\"3.2\"/>\n<path clip-path=\"url(#clip192)\" d=\"M687.744 588.596 L687.744 620.596 L719.744 620.596 L719.744 588.596 L687.744 588.596 Z\" fill=\"#e26f46\" fill-rule=\"evenodd\" fill-opacity=\"1\" stroke=\"#000000\" stroke-opacity=\"1\" stroke-width=\"3.2\"/>\n<path clip-path=\"url(#clip192)\" d=\"M714.245 616.575 L714.245 648.575 L746.245 648.575 L746.245 616.575 L714.245 616.575 Z\" fill=\"#e26f46\" fill-rule=\"evenodd\" fill-opacity=\"1\" stroke=\"#000000\" stroke-opacity=\"1\" stroke-width=\"3.2\"/>\n<path clip-path=\"url(#clip192)\" d=\"M740.742 495.432 L740.742 527.432 L772.742 527.432 L772.742 495.432 L740.742 495.432 Z\" fill=\"#e26f46\" fill-rule=\"evenodd\" fill-opacity=\"1\" stroke=\"#000000\" stroke-opacity=\"1\" stroke-width=\"3.2\"/>\n<path clip-path=\"url(#clip192)\" d=\"M767.232 549.617 L767.232 581.617 L799.232 581.617 L799.232 549.617 L767.232 549.617 Z\" fill=\"#e26f46\" fill-rule=\"evenodd\" fill-opacity=\"1\" stroke=\"#000000\" stroke-opacity=\"1\" stroke-width=\"3.2\"/>\n<path clip-path=\"url(#clip192)\" d=\"M793.657 372.738 L793.657 404.738 L825.657 404.738 L825.657 372.738 L793.657 372.738 Z\" fill=\"#e26f46\" fill-rule=\"evenodd\" fill-opacity=\"1\" stroke=\"#000000\" stroke-opacity=\"1\" stroke-width=\"3.2\"/>\n<path clip-path=\"url(#clip192)\" d=\"M820.011 464.948 L820.011 496.948 L852.011 496.948 L852.011 464.948 L820.011 464.948 Z\" fill=\"#e26f46\" fill-rule=\"evenodd\" fill-opacity=\"1\" stroke=\"#000000\" stroke-opacity=\"1\" stroke-width=\"3.2\"/>\n<path clip-path=\"url(#clip192)\" d=\"M846.393 289.871 L846.393 321.871 L878.393 321.871 L878.393 289.871 L846.393 289.871 Z\" fill=\"#e26f46\" fill-rule=\"evenodd\" fill-opacity=\"1\" stroke=\"#000000\" stroke-opacity=\"1\" stroke-width=\"3.2\"/>\n<path clip-path=\"url(#clip192)\" d=\"M872.877 335.055 L872.877 367.055 L904.877 367.055 L904.877 335.055 L872.877 335.055 Z\" fill=\"#e26f46\" fill-rule=\"evenodd\" fill-opacity=\"1\" stroke=\"#000000\" stroke-opacity=\"1\" stroke-width=\"3.2\"/>\n<path clip-path=\"url(#clip192)\" d=\"M899.369 267.759 L899.369 299.759 L931.369 299.759 L931.369 267.759 L899.369 267.759 Z\" fill=\"#e26f46\" fill-rule=\"evenodd\" fill-opacity=\"1\" stroke=\"#000000\" stroke-opacity=\"1\" stroke-width=\"3.2\"/>\n<path clip-path=\"url(#clip192)\" d=\"M925.876 241.973 L925.876 273.973 L957.876 273.973 L957.876 241.973 L925.876 241.973 Z\" fill=\"#e26f46\" fill-rule=\"evenodd\" fill-opacity=\"1\" stroke=\"#000000\" stroke-opacity=\"1\" stroke-width=\"3.2\"/>\n<path clip-path=\"url(#clip192)\" d=\"M952.294 219.249 L952.294 251.249 L984.294 251.249 L984.294 219.249 L952.294 219.249 Z\" fill=\"#e26f46\" fill-rule=\"evenodd\" fill-opacity=\"1\" stroke=\"#000000\" stroke-opacity=\"1\" stroke-width=\"3.2\"/>\n<path clip-path=\"url(#clip192)\" d=\"M978.689 186.227 L978.689 218.227 L1010.69 218.227 L1010.69 186.227 L978.689 186.227 Z\" fill=\"#e26f46\" fill-rule=\"evenodd\" fill-opacity=\"1\" stroke=\"#000000\" stroke-opacity=\"1\" stroke-width=\"3.2\"/>\n<path clip-path=\"url(#clip192)\" d=\"M1005.06 146.047 L1005.06 178.047 L1037.06 178.047 L1037.06 146.047 L1005.06 146.047 Z\" fill=\"#e26f46\" fill-rule=\"evenodd\" fill-opacity=\"1\" stroke=\"#000000\" stroke-opacity=\"1\" stroke-width=\"3.2\"/>\n<path clip-path=\"url(#clip192)\" d=\"M1031.43 165.548 L1031.43 197.548 L1063.43 197.548 L1063.43 165.548 L1031.43 165.548 Z\" fill=\"#e26f46\" fill-rule=\"evenodd\" fill-opacity=\"1\" stroke=\"#000000\" stroke-opacity=\"1\" stroke-width=\"3.2\"/>\n<path clip-path=\"url(#clip192)\" d=\"M1057.81 402.121 L1057.81 434.121 L1089.81 434.121 L1089.81 402.121 L1057.81 402.121 Z\" fill=\"#e26f46\" fill-rule=\"evenodd\" fill-opacity=\"1\" stroke=\"#000000\" stroke-opacity=\"1\" stroke-width=\"3.2\"/>\n<path clip-path=\"url(#clip192)\" d=\"M1084.3 727.086 L1084.3 759.086 L1116.3 759.086 L1116.3 727.086 L1084.3 727.086 Z\" fill=\"#e26f46\" fill-rule=\"evenodd\" fill-opacity=\"1\" stroke=\"#000000\" stroke-opacity=\"1\" stroke-width=\"3.2\"/>\n<path clip-path=\"url(#clip192)\" d=\"M1110.69 859.819 L1110.69 891.819 L1142.69 891.819 L1142.69 859.819 L1110.69 859.819 Z\" fill=\"#e26f46\" fill-rule=\"evenodd\" fill-opacity=\"1\" stroke=\"#000000\" stroke-opacity=\"1\" stroke-width=\"3.2\"/>\n<path clip-path=\"url(#clip192)\" d=\"M1137.08 910.801 L1137.08 942.801 L1169.08 942.801 L1169.08 910.801 L1137.08 910.801 Z\" fill=\"#e26f46\" fill-rule=\"evenodd\" fill-opacity=\"1\" stroke=\"#000000\" stroke-opacity=\"1\" stroke-width=\"3.2\"/>\n<path clip-path=\"url(#clip192)\" d=\"M1163.51 959.843 L1163.51 991.843 L1195.51 991.843 L1195.51 959.843 L1163.51 959.843 Z\" fill=\"#e26f46\" fill-rule=\"evenodd\" fill-opacity=\"1\" stroke=\"#000000\" stroke-opacity=\"1\" stroke-width=\"3.2\"/>\n<path clip-path=\"url(#clip192)\" d=\"M1189.88 1007.94 L1189.88 1039.94 L1221.88 1039.94 L1221.88 1007.94 L1189.88 1007.94 Z\" fill=\"#e26f46\" fill-rule=\"evenodd\" fill-opacity=\"1\" stroke=\"#000000\" stroke-opacity=\"1\" stroke-width=\"3.2\"/>\n<path clip-path=\"url(#clip192)\" d=\"M1216.22 1053.26 L1216.22 1085.26 L1248.22 1085.26 L1248.22 1053.26 L1216.22 1053.26 Z\" fill=\"#e26f46\" fill-rule=\"evenodd\" fill-opacity=\"1\" stroke=\"#000000\" stroke-opacity=\"1\" stroke-width=\"3.2\"/>\n<path clip-path=\"url(#clip192)\" d=\"M1242.63 1094.77 L1242.63 1126.77 L1274.63 1126.77 L1274.63 1094.77 L1242.63 1094.77 Z\" fill=\"#e26f46\" fill-rule=\"evenodd\" fill-opacity=\"1\" stroke=\"#000000\" stroke-opacity=\"1\" stroke-width=\"3.2\"/>\n<path clip-path=\"url(#clip192)\" d=\"M1269.03 1131.56 L1269.03 1163.56 L1301.03 1163.56 L1301.03 1131.56 L1269.03 1131.56 Z\" fill=\"#e26f46\" fill-rule=\"evenodd\" fill-opacity=\"1\" stroke=\"#000000\" stroke-opacity=\"1\" stroke-width=\"3.2\"/>\n<path clip-path=\"url(#clip192)\" d=\"M1295.42 1163 L1295.42 1195 L1327.42 1195 L1327.42 1163 L1295.42 1163 Z\" fill=\"#e26f46\" fill-rule=\"evenodd\" fill-opacity=\"1\" stroke=\"#000000\" stroke-opacity=\"1\" stroke-width=\"3.2\"/>\n<path clip-path=\"url(#clip192)\" d=\"M1321.8 1189.06 L1321.8 1221.06 L1353.8 1221.06 L1353.8 1189.06 L1321.8 1189.06 Z\" fill=\"#e26f46\" fill-rule=\"evenodd\" fill-opacity=\"1\" stroke=\"#000000\" stroke-opacity=\"1\" stroke-width=\"3.2\"/>\n<path clip-path=\"url(#clip192)\" d=\"M1348.21 1210.34 L1348.21 1242.34 L1380.21 1242.34 L1380.21 1210.34 L1348.21 1210.34 Z\" fill=\"#e26f46\" fill-rule=\"evenodd\" fill-opacity=\"1\" stroke=\"#000000\" stroke-opacity=\"1\" stroke-width=\"3.2\"/>\n<path clip-path=\"url(#clip192)\" d=\"M1374.58 1228.53 L1374.58 1260.53 L1406.58 1260.53 L1406.58 1228.53 L1374.58 1228.53 Z\" fill=\"#e26f46\" fill-rule=\"evenodd\" fill-opacity=\"1\" stroke=\"#000000\" stroke-opacity=\"1\" stroke-width=\"3.2\"/>\n<path clip-path=\"url(#clip192)\" d=\"M1401 1247.1 L1401 1279.1 L1433 1279.1 L1433 1247.1 L1401 1247.1 Z\" fill=\"#e26f46\" fill-rule=\"evenodd\" fill-opacity=\"1\" stroke=\"#000000\" stroke-opacity=\"1\" stroke-width=\"3.2\"/>\n<path clip-path=\"url(#clip192)\" d=\"M1427.42 1258.5 L1427.42 1290.5 L1459.42 1290.5 L1459.42 1258.5 L1427.42 1258.5 Z\" fill=\"#e26f46\" fill-rule=\"evenodd\" fill-opacity=\"1\" stroke=\"#000000\" stroke-opacity=\"1\" stroke-width=\"3.2\"/>\n<path clip-path=\"url(#clip192)\" d=\"M1453.83 1258.79 L1453.83 1290.79 L1485.83 1290.79 L1485.83 1258.79 L1453.83 1258.79 Z\" fill=\"#e26f46\" fill-rule=\"evenodd\" fill-opacity=\"1\" stroke=\"#000000\" stroke-opacity=\"1\" stroke-width=\"3.2\"/>\n<path clip-path=\"url(#clip192)\" d=\"M1480.21 1250.71 L1480.21 1282.71 L1512.21 1282.71 L1512.21 1250.71 L1480.21 1250.71 Z\" fill=\"#e26f46\" fill-rule=\"evenodd\" fill-opacity=\"1\" stroke=\"#000000\" stroke-opacity=\"1\" stroke-width=\"3.2\"/>\n<path clip-path=\"url(#clip192)\" d=\"M1506.67 1237.69 L1506.67 1269.69 L1538.67 1269.69 L1538.67 1237.69 L1506.67 1237.69 Z\" fill=\"#e26f46\" fill-rule=\"evenodd\" fill-opacity=\"1\" stroke=\"#000000\" stroke-opacity=\"1\" stroke-width=\"3.2\"/>\n<path clip-path=\"url(#clip192)\" d=\"M1533.04 1223.95 L1533.04 1255.95 L1565.04 1255.95 L1565.04 1223.95 L1533.04 1223.95 Z\" fill=\"#e26f46\" fill-rule=\"evenodd\" fill-opacity=\"1\" stroke=\"#000000\" stroke-opacity=\"1\" stroke-width=\"3.2\"/>\n<path clip-path=\"url(#clip192)\" d=\"M1559.42 1212.26 L1559.42 1244.26 L1591.42 1244.26 L1591.42 1212.26 L1559.42 1212.26 Z\" fill=\"#e26f46\" fill-rule=\"evenodd\" fill-opacity=\"1\" stroke=\"#000000\" stroke-opacity=\"1\" stroke-width=\"3.2\"/>\n<path clip-path=\"url(#clip192)\" d=\"M1585.93 1203.24 L1585.93 1235.24 L1617.93 1235.24 L1617.93 1203.24 L1585.93 1203.24 Z\" fill=\"#e26f46\" fill-rule=\"evenodd\" fill-opacity=\"1\" stroke=\"#000000\" stroke-opacity=\"1\" stroke-width=\"3.2\"/>\n<path clip-path=\"url(#clip192)\" d=\"M1612.43 1196.42 L1612.43 1228.42 L1644.43 1228.42 L1644.43 1196.42 L1612.43 1196.42 Z\" fill=\"#e26f46\" fill-rule=\"evenodd\" fill-opacity=\"1\" stroke=\"#000000\" stroke-opacity=\"1\" stroke-width=\"3.2\"/>\n<path clip-path=\"url(#clip192)\" d=\"M1638.9 1191.11 L1638.9 1223.11 L1670.9 1223.11 L1670.9 1191.11 L1638.9 1191.11 Z\" fill=\"#e26f46\" fill-rule=\"evenodd\" fill-opacity=\"1\" stroke=\"#000000\" stroke-opacity=\"1\" stroke-width=\"3.2\"/>\n<path clip-path=\"url(#clip192)\" d=\"M1665.43 1186.77 L1665.43 1218.77 L1697.43 1218.77 L1697.43 1186.77 L1665.43 1186.77 Z\" fill=\"#e26f46\" fill-rule=\"evenodd\" fill-opacity=\"1\" stroke=\"#000000\" stroke-opacity=\"1\" stroke-width=\"3.2\"/>\n<path clip-path=\"url(#clip192)\" d=\"M1691.93 1183.18 L1691.93 1215.18 L1723.93 1215.18 L1723.93 1183.18 L1691.93 1183.18 Z\" fill=\"#e26f46\" fill-rule=\"evenodd\" fill-opacity=\"1\" stroke=\"#000000\" stroke-opacity=\"1\" stroke-width=\"3.2\"/>\n<path clip-path=\"url(#clip192)\" d=\"M1718.44 1180.24 L1718.44 1212.24 L1750.44 1212.24 L1750.44 1180.24 L1718.44 1180.24 Z\" fill=\"#e26f46\" fill-rule=\"evenodd\" fill-opacity=\"1\" stroke=\"#000000\" stroke-opacity=\"1\" stroke-width=\"3.2\"/>\n<path clip-path=\"url(#clip192)\" d=\"M1744.89 1177.93 L1744.89 1209.93 L1776.89 1209.93 L1776.89 1177.93 L1744.89 1177.93 Z\" fill=\"#e26f46\" fill-rule=\"evenodd\" fill-opacity=\"1\" stroke=\"#000000\" stroke-opacity=\"1\" stroke-width=\"3.2\"/>\n<path clip-path=\"url(#clip192)\" d=\"M1771.39 1176.23 L1771.39 1208.23 L1803.39 1208.23 L1803.39 1176.23 L1771.39 1176.23 Z\" fill=\"#e26f46\" fill-rule=\"evenodd\" fill-opacity=\"1\" stroke=\"#000000\" stroke-opacity=\"1\" stroke-width=\"3.2\"/>\n<path clip-path=\"url(#clip192)\" d=\"M1797.84 1175.15 L1797.84 1207.15 L1829.84 1207.15 L1829.84 1175.15 L1797.84 1175.15 Z\" fill=\"#e26f46\" fill-rule=\"evenodd\" fill-opacity=\"1\" stroke=\"#000000\" stroke-opacity=\"1\" stroke-width=\"3.2\"/>\n<path clip-path=\"url(#clip192)\" d=\"M1824.33 1174.66 L1824.33 1206.66 L1856.33 1206.66 L1856.33 1174.66 L1824.33 1174.66 Z\" fill=\"#e26f46\" fill-rule=\"evenodd\" fill-opacity=\"1\" stroke=\"#000000\" stroke-opacity=\"1\" stroke-width=\"3.2\"/>\n<path clip-path=\"url(#clip192)\" d=\"M1850.82 1174.75 L1850.82 1206.75 L1882.82 1206.75 L1882.82 1174.75 L1850.82 1174.75 Z\" fill=\"#e26f46\" fill-rule=\"evenodd\" fill-opacity=\"1\" stroke=\"#000000\" stroke-opacity=\"1\" stroke-width=\"3.2\"/>\n<path clip-path=\"url(#clip192)\" d=\"M1877.35 1175.36 L1877.35 1207.36 L1909.35 1207.36 L1909.35 1175.36 L1877.35 1175.36 Z\" fill=\"#e26f46\" fill-rule=\"evenodd\" fill-opacity=\"1\" stroke=\"#000000\" stroke-opacity=\"1\" stroke-width=\"3.2\"/>\n<path clip-path=\"url(#clip192)\" d=\"M1903.85 1176.44 L1903.85 1208.44 L1935.85 1208.44 L1935.85 1176.44 L1903.85 1176.44 Z\" fill=\"#e26f46\" fill-rule=\"evenodd\" fill-opacity=\"1\" stroke=\"#000000\" stroke-opacity=\"1\" stroke-width=\"3.2\"/>\n<path clip-path=\"url(#clip192)\" d=\"M1930.32 1177.93 L1930.32 1209.93 L1962.32 1209.93 L1962.32 1177.93 L1930.32 1177.93 Z\" fill=\"#e26f46\" fill-rule=\"evenodd\" fill-opacity=\"1\" stroke=\"#000000\" stroke-opacity=\"1\" stroke-width=\"3.2\"/>\n<path clip-path=\"url(#clip192)\" d=\"M1956.79 1179.75 L1956.79 1211.75 L1988.79 1211.75 L1988.79 1179.75 L1956.79 1179.75 Z\" fill=\"#e26f46\" fill-rule=\"evenodd\" fill-opacity=\"1\" stroke=\"#000000\" stroke-opacity=\"1\" stroke-width=\"3.2\"/>\n<path clip-path=\"url(#clip192)\" d=\"M1983.26 1181.83 L1983.26 1213.83 L2015.26 1213.83 L2015.26 1181.83 L1983.26 1181.83 Z\" fill=\"#e26f46\" fill-rule=\"evenodd\" fill-opacity=\"1\" stroke=\"#000000\" stroke-opacity=\"1\" stroke-width=\"3.2\"/>\n<path clip-path=\"url(#clip192)\" d=\"M2009.72 1184.12 L2009.72 1216.12 L2041.72 1216.12 L2041.72 1184.12 L2009.72 1184.12 Z\" fill=\"#e26f46\" fill-rule=\"evenodd\" fill-opacity=\"1\" stroke=\"#000000\" stroke-opacity=\"1\" stroke-width=\"3.2\"/>\n<path clip-path=\"url(#clip192)\" d=\"M2036.21 1186.55 L2036.21 1218.55 L2068.21 1218.55 L2068.21 1186.55 L2036.21 1186.55 Z\" fill=\"#e26f46\" fill-rule=\"evenodd\" fill-opacity=\"1\" stroke=\"#000000\" stroke-opacity=\"1\" stroke-width=\"3.2\"/>\n<path clip-path=\"url(#clip192)\" d=\"M2062.67 1189.07 L2062.67 1221.07 L2094.67 1221.07 L2094.67 1189.07 L2062.67 1189.07 Z\" fill=\"#e26f46\" fill-rule=\"evenodd\" fill-opacity=\"1\" stroke=\"#000000\" stroke-opacity=\"1\" stroke-width=\"3.2\"/>\n<path clip-path=\"url(#clip192)\" d=\"M2089.16 1191.61 L2089.16 1223.61 L2121.16 1223.61 L2121.16 1191.61 L2089.16 1191.61 Z\" fill=\"#e26f46\" fill-rule=\"evenodd\" fill-opacity=\"1\" stroke=\"#000000\" stroke-opacity=\"1\" stroke-width=\"3.2\"/>\n<path clip-path=\"url(#clip192)\" d=\"M2115.57 1194.14 L2115.57 1226.14 L2147.57 1226.14 L2147.57 1194.14 L2115.57 1194.14 Z\" fill=\"#e26f46\" fill-rule=\"evenodd\" fill-opacity=\"1\" stroke=\"#000000\" stroke-opacity=\"1\" stroke-width=\"3.2\"/>\n<path clip-path=\"url(#clip192)\" d=\"M2141.95 1196.6 L2141.95 1228.6 L2173.95 1228.6 L2173.95 1196.6 L2141.95 1196.6 Z\" fill=\"#e26f46\" fill-rule=\"evenodd\" fill-opacity=\"1\" stroke=\"#000000\" stroke-opacity=\"1\" stroke-width=\"3.2\"/>\n<path clip-path=\"url(#clip192)\" d=\"M2168.34 1198.96 L2168.34 1230.96 L2200.34 1230.96 L2200.34 1198.96 L2168.34 1198.96 Z\" fill=\"#e26f46\" fill-rule=\"evenodd\" fill-opacity=\"1\" stroke=\"#000000\" stroke-opacity=\"1\" stroke-width=\"3.2\"/>\n<path clip-path=\"url(#clip192)\" d=\"M2194.74 1201.17 L2194.74 1233.17 L2226.74 1233.17 L2226.74 1201.17 L2194.74 1201.17 Z\" fill=\"#e26f46\" fill-rule=\"evenodd\" fill-opacity=\"1\" stroke=\"#000000\" stroke-opacity=\"1\" stroke-width=\"3.2\"/>\n<path clip-path=\"url(#clip192)\" d=\"M2221.2 1203.3 L2221.2 1235.3 L2253.2 1235.3 L2253.2 1203.3 L2221.2 1203.3 Z\" fill=\"#e26f46\" fill-rule=\"evenodd\" fill-opacity=\"1\" stroke=\"#000000\" stroke-opacity=\"1\" stroke-width=\"3.2\"/>\n<path clip-path=\"url(#clip192)\" d=\"M2247.66 1205.21 L2247.66 1237.21 L2279.66 1237.21 L2279.66 1205.21 L2247.66 1205.21 Z\" fill=\"#e26f46\" fill-rule=\"evenodd\" fill-opacity=\"1\" stroke=\"#000000\" stroke-opacity=\"1\" stroke-width=\"3.2\"/>\n<path clip-path=\"url(#clip192)\" d=\"M2274.1 1206.84 L2274.1 1238.84 L2306.1 1238.84 L2306.1 1206.84 L2274.1 1206.84 Z\" fill=\"#e26f46\" fill-rule=\"evenodd\" fill-opacity=\"1\" stroke=\"#000000\" stroke-opacity=\"1\" stroke-width=\"3.2\"/>\n<path clip-path=\"url(#clip190)\" d=\"\nM1803.47 324.425 L2278.96 324.425 L2278.96 168.905 L1803.47 168.905  Z\n  \" fill=\"#ffffff\" fill-rule=\"evenodd\" fill-opacity=\"1\"/>\n<polyline clip-path=\"url(#clip190)\" style=\"stroke:#000000; stroke-linecap:butt; stroke-linejoin:round; stroke-width:4; stroke-opacity:1; fill:none\" points=\"\n  1803.47,324.425 2278.96,324.425 2278.96,168.905 1803.47,168.905 1803.47,324.425 \n  \"/>\n<polyline clip-path=\"url(#clip190)\" style=\"stroke:#009af9; stroke-linecap:butt; stroke-linejoin:round; stroke-width:4; stroke-opacity:1; fill:none\" points=\"\n  1828.07,220.745 1975.66,220.745 \n  \"/>\n<circle clip-path=\"url(#clip190)\" cx=\"1901.86\" cy=\"220.745\" r=\"23\" fill=\"#009af9\" fill-rule=\"evenodd\" fill-opacity=\"1\" stroke=\"#000000\" stroke-opacity=\"1\" stroke-width=\"5.12\"/>\n<path clip-path=\"url(#clip190)\" d=\"M2007.66 204.738 L2007.66 212.099 L2016.44 212.099 L2016.44 215.409 L2007.66 215.409 L2007.66 229.483 Q2007.66 232.654 2008.52 233.557 Q2009.4 234.46 2012.06 234.46 L2016.44 234.46 L2016.44 238.025 L2012.06 238.025 Q2007.13 238.025 2005.25 236.196 Q2003.38 234.344 2003.38 229.483 L2003.38 215.409 L2000.25 215.409 L2000.25 212.099 L2003.38 212.099 L2003.38 204.738 L2007.66 204.738 Z\" fill=\"#000000\" fill-rule=\"evenodd\" fill-opacity=\"1\" /><path clip-path=\"url(#clip190)\" d=\"M2037.06 216.08 Q2036.34 215.664 2035.49 215.478 Q2034.65 215.27 2033.63 215.27 Q2030.02 215.27 2028.08 217.631 Q2026.16 219.969 2026.16 224.367 L2026.16 238.025 L2021.87 238.025 L2021.87 212.099 L2026.16 212.099 L2026.16 216.127 Q2027.5 213.766 2029.65 212.631 Q2031.81 211.474 2034.88 211.474 Q2035.32 211.474 2035.86 211.543 Q2036.39 211.59 2037.04 211.705 L2037.06 216.08 Z\" fill=\"#000000\" fill-rule=\"evenodd\" fill-opacity=\"1\" /><path clip-path=\"url(#clip190)\" d=\"M2041.09 227.793 L2041.09 212.099 L2045.35 212.099 L2045.35 227.631 Q2045.35 231.312 2046.78 233.164 Q2048.22 234.992 2051.09 234.992 Q2054.54 234.992 2056.53 232.793 Q2058.54 230.594 2058.54 226.798 L2058.54 212.099 L2062.8 212.099 L2062.8 238.025 L2058.54 238.025 L2058.54 234.043 Q2056.99 236.404 2054.93 237.562 Q2052.89 238.696 2050.18 238.696 Q2045.72 238.696 2043.4 235.918 Q2041.09 233.14 2041.09 227.793 M2051.81 211.474 L2051.81 211.474 Z\" fill=\"#000000\" fill-rule=\"evenodd\" fill-opacity=\"1\" /><path clip-path=\"url(#clip190)\" d=\"M2093.75 223.997 L2093.75 226.08 L2074.17 226.08 Q2074.44 230.478 2076.81 232.793 Q2079.19 235.085 2083.43 235.085 Q2085.88 235.085 2088.17 234.483 Q2090.49 233.881 2092.75 232.677 L2092.75 236.705 Q2090.46 237.677 2088.06 238.187 Q2085.65 238.696 2083.17 238.696 Q2076.97 238.696 2073.33 235.085 Q2069.72 231.474 2069.72 225.316 Q2069.72 218.951 2073.15 215.224 Q2076.6 211.474 2082.43 211.474 Q2087.66 211.474 2090.69 214.853 Q2093.75 218.21 2093.75 223.997 M2089.49 222.747 Q2089.44 219.252 2087.52 217.168 Q2085.62 215.085 2082.48 215.085 Q2078.91 215.085 2076.76 217.099 Q2074.63 219.113 2074.31 222.77 L2089.49 222.747 Z\" fill=\"#000000\" fill-rule=\"evenodd\" fill-opacity=\"1\" /><polyline clip-path=\"url(#clip190)\" style=\"stroke:#e26f46; stroke-linecap:butt; stroke-linejoin:round; stroke-width:4; stroke-opacity:1; fill:none\" points=\"\n  1828.07,272.585 1975.66,272.585 \n  \"/>\n<path clip-path=\"url(#clip190)\" d=\"M1876.26 246.985 L1876.26 298.185 L1927.46 298.185 L1927.46 246.985 L1876.26 246.985 Z\" fill=\"#e26f46\" fill-rule=\"evenodd\" fill-opacity=\"1\" stroke=\"#000000\" stroke-opacity=\"1\" stroke-width=\"5.12\"/>\n<path clip-path=\"url(#clip190)\" d=\"M2004.54 285.976 L2004.54 299.726 L2000.25 299.726 L2000.25 263.939 L2004.54 263.939 L2004.54 267.874 Q2005.88 265.559 2007.92 264.448 Q2009.98 263.314 2012.82 263.314 Q2017.55 263.314 2020.49 267.064 Q2023.45 270.814 2023.45 276.925 Q2023.45 283.036 2020.49 286.786 Q2017.55 290.536 2012.82 290.536 Q2009.98 290.536 2007.92 289.425 Q2005.88 288.291 2004.54 285.976 M2019.03 276.925 Q2019.03 272.226 2017.08 269.564 Q2015.16 266.879 2011.78 266.879 Q2008.4 266.879 2006.46 269.564 Q2004.54 272.226 2004.54 276.925 Q2004.54 281.624 2006.46 284.309 Q2008.4 286.971 2011.78 286.971 Q2015.16 286.971 2017.08 284.309 Q2019.03 281.624 2019.03 276.925 Z\" fill=\"#000000\" fill-rule=\"evenodd\" fill-opacity=\"1\" /><path clip-path=\"url(#clip190)\" d=\"M2045.53 267.92 Q2044.81 267.504 2043.96 267.318 Q2043.12 267.11 2042.11 267.11 Q2038.5 267.11 2036.55 269.471 Q2034.63 271.809 2034.63 276.207 L2034.63 289.865 L2030.35 289.865 L2030.35 263.939 L2034.63 263.939 L2034.63 267.967 Q2035.97 265.606 2038.12 264.471 Q2040.28 263.314 2043.36 263.314 Q2043.8 263.314 2044.33 263.383 Q2044.86 263.43 2045.51 263.545 L2045.53 267.92 Z\" fill=\"#000000\" fill-rule=\"evenodd\" fill-opacity=\"1\" /><path clip-path=\"url(#clip190)\" d=\"M2071.13 275.837 L2071.13 277.92 L2051.55 277.92 Q2051.83 282.318 2054.19 284.633 Q2056.57 286.925 2060.81 286.925 Q2063.26 286.925 2065.56 286.323 Q2067.87 285.721 2070.14 284.517 L2070.14 288.545 Q2067.85 289.517 2065.44 290.027 Q2063.03 290.536 2060.56 290.536 Q2054.35 290.536 2050.72 286.925 Q2047.11 283.314 2047.11 277.156 Q2047.11 270.791 2050.53 267.064 Q2053.98 263.314 2059.81 263.314 Q2065.05 263.314 2068.08 266.693 Q2071.13 270.05 2071.13 275.837 M2066.87 274.587 Q2066.83 271.092 2064.91 269.008 Q2063.01 266.925 2059.86 266.925 Q2056.3 266.925 2054.14 268.939 Q2052.01 270.953 2051.69 274.61 L2066.87 274.587 Z\" fill=\"#000000\" fill-rule=\"evenodd\" fill-opacity=\"1\" /><path clip-path=\"url(#clip190)\" d=\"M2095.18 267.874 L2095.18 253.846 L2099.44 253.846 L2099.44 289.865 L2095.18 289.865 L2095.18 285.976 Q2093.84 288.291 2091.78 289.425 Q2089.74 290.536 2086.87 290.536 Q2082.18 290.536 2079.21 286.786 Q2076.27 283.036 2076.27 276.925 Q2076.27 270.814 2079.21 267.064 Q2082.18 263.314 2086.87 263.314 Q2089.74 263.314 2091.78 264.448 Q2093.84 265.559 2095.18 267.874 M2080.67 276.925 Q2080.67 281.624 2082.59 284.309 Q2084.54 286.971 2087.92 286.971 Q2091.3 286.971 2093.24 284.309 Q2095.18 281.624 2095.18 276.925 Q2095.18 272.226 2093.24 269.564 Q2091.3 266.879 2087.92 266.879 Q2084.54 266.879 2082.59 269.564 Q2080.67 272.226 2080.67 276.925 Z\" fill=\"#000000\" fill-rule=\"evenodd\" fill-opacity=\"1\" /><path clip-path=\"url(#clip190)\" d=\"M2108.22 263.939 L2112.48 263.939 L2112.48 289.865 L2108.22 289.865 L2108.22 263.939 M2108.22 253.846 L2112.48 253.846 L2112.48 259.24 L2108.22 259.24 L2108.22 253.846 Z\" fill=\"#000000\" fill-rule=\"evenodd\" fill-opacity=\"1\" /><path clip-path=\"url(#clip190)\" d=\"M2140.05 264.934 L2140.05 268.916 Q2138.24 267.92 2136.41 267.434 Q2134.61 266.925 2132.75 266.925 Q2128.61 266.925 2126.32 269.564 Q2124.03 272.18 2124.03 276.925 Q2124.03 281.67 2126.32 284.309 Q2128.61 286.925 2132.75 286.925 Q2134.61 286.925 2136.41 286.439 Q2138.24 285.929 2140.05 284.934 L2140.05 288.869 Q2138.26 289.703 2136.34 290.119 Q2134.44 290.536 2132.29 290.536 Q2126.43 290.536 2122.99 286.855 Q2119.54 283.175 2119.54 276.925 Q2119.54 270.582 2123.01 266.948 Q2126.5 263.314 2132.57 263.314 Q2134.54 263.314 2136.41 263.731 Q2138.29 264.124 2140.05 264.934 Z\" fill=\"#000000\" fill-rule=\"evenodd\" fill-opacity=\"1\" /><path clip-path=\"url(#clip190)\" d=\"M2151.67 256.578 L2151.67 263.939 L2160.44 263.939 L2160.44 267.249 L2151.67 267.249 L2151.67 281.323 Q2151.67 284.494 2152.52 285.397 Q2153.4 286.3 2156.06 286.3 L2160.44 286.3 L2160.44 289.865 L2156.06 289.865 Q2151.13 289.865 2149.26 288.036 Q2147.38 286.184 2147.38 281.323 L2147.38 267.249 L2144.26 267.249 L2144.26 263.939 L2147.38 263.939 L2147.38 256.578 L2151.67 256.578 Z\" fill=\"#000000\" fill-rule=\"evenodd\" fill-opacity=\"1\" /><path clip-path=\"url(#clip190)\" d=\"M2166.04 263.939 L2170.3 263.939 L2170.3 289.865 L2166.04 289.865 L2166.04 263.939 M2166.04 253.846 L2170.3 253.846 L2170.3 259.24 L2166.04 259.24 L2166.04 253.846 Z\" fill=\"#000000\" fill-rule=\"evenodd\" fill-opacity=\"1\" /><path clip-path=\"url(#clip190)\" d=\"M2189.26 266.925 Q2185.83 266.925 2183.84 269.61 Q2181.85 272.272 2181.85 276.925 Q2181.85 281.578 2183.82 284.263 Q2185.81 286.925 2189.26 286.925 Q2192.66 286.925 2194.65 284.24 Q2196.64 281.555 2196.64 276.925 Q2196.64 272.318 2194.65 269.633 Q2192.66 266.925 2189.26 266.925 M2189.26 263.314 Q2194.81 263.314 2197.98 266.925 Q2201.16 270.536 2201.16 276.925 Q2201.16 283.291 2197.98 286.925 Q2194.81 290.536 2189.26 290.536 Q2183.68 290.536 2180.51 286.925 Q2177.36 283.291 2177.36 276.925 Q2177.36 270.536 2180.51 266.925 Q2183.68 263.314 2189.26 263.314 Z\" fill=\"#000000\" fill-rule=\"evenodd\" fill-opacity=\"1\" /><path clip-path=\"url(#clip190)\" d=\"M2229.77 274.217 L2229.77 289.865 L2225.51 289.865 L2225.51 274.355 Q2225.51 270.675 2224.07 268.846 Q2222.64 267.018 2219.77 267.018 Q2216.32 267.018 2214.33 269.217 Q2212.34 271.416 2212.34 275.212 L2212.34 289.865 L2208.05 289.865 L2208.05 263.939 L2212.34 263.939 L2212.34 267.967 Q2213.86 265.629 2215.92 264.471 Q2218.01 263.314 2220.72 263.314 Q2225.18 263.314 2227.48 266.092 Q2229.77 268.846 2229.77 274.217 Z\" fill=\"#000000\" fill-rule=\"evenodd\" fill-opacity=\"1\" /></svg>\n"
          },
          "metadata": {},
          "execution_count": 44
        }
      ]
    },
    {
      "cell_type": "markdown",
      "source": [
        "This is only for the case of viewing the notebook which will not render and save the images and will not visualize it on Github.\n",
        "\n",
        "![image.png](data:image/png;base64,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)"
      ],
      "metadata": {
        "id": "T7XNLyxdmxri"
      }
    },
    {
      "cell_type": "markdown",
      "source": [
        "I guess that looks much better!\n",
        "\n",
        "And that is everything from the demo! Thanks for your attention and patience and see you at the presentations.\n",
        "\n",
        "For a table of summary of current results, look below."
      ],
      "metadata": {
        "id": "D1KF1jaNUyGe"
      }
    },
    {
      "cell_type": "markdown",
      "source": [
        "# SUMMARY RESULTS (for all models tried)\n",
        "\n",
        "The overview of models can be found at https://github.com/masenka31/Ventilator/tree/master/Ventilator.jl/scripts. Here we present only a summary table of the best results achieved for which models.\n",
        "\n",
        "The 9 models are not yet calculated, will be in the next 24 hours (currently running on Helios).\n",
        "\n",
        "## Results table\n",
        "\n",
        "| model | best validation score | test score | train hours |\n",
        "| --- | --- | --- | --- |\n",
        "| vector - idim = 162 | 0.992 | 1.01 | 12 |\n",
        "| vector - idim = 162 (u_out = 0 with ⁍) | 0.999 | 1.017 | 12 |\n",
        "| simple RNN - idim = 5 | 0.933 | 0.911 | 24 |\n",
        "| RNN onehot - idim = 9 | 0.769 | 0.757 | 48 |\n",
        "| RNN onehot engineered - idim = 45 | 0.713 | 0.703 | 48 |\n",
        "| RNN lagged - idim = 45 | 1.09 | 1.076 | 14 |\n",
        "| 9 models - idim = 42 |  |  | 24 (x9 threads) |\n",
        "\n",
        "As can be seen, the best results currently achieved are with RNN model and feature engineering achieving 0.703 MAE on test dataset."
      ],
      "metadata": {
        "id": "oooyqqzMPwRV"
      }
    }
  ]
}